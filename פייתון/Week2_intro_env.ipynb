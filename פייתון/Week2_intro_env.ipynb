{
  "nbformat": 4,
  "nbformat_minor": 0,
  "metadata": {
    "colab": {
      "provenance": []
    },
    "kernelspec": {
      "name": "python3",
      "display_name": "Python 3"
    },
    "language_info": {
      "name": "python"
    }
  },
  "cells": [
    {
      "cell_type": "markdown",
      "source": [
        "# ברוכים הבאים\n",
        "במחברת זו תוכלו לתרגל את הנושאים הבאים:\n",
        "1. העתקת מחברת שניתנה על ידי המורה\n",
        " ושמירתה בדרייב\n",
        "2. שיתוף מחברת עם אחרים\n",
        "3. הוספת תאי טקסט.\n",
        "4. הוספת תאי קוד.\n",
        "\n"
      ],
      "metadata": {
        "id": "f0OddFPRgen2"
      }
    },
    {
      "cell_type": "markdown",
      "source": [
        "## 1 - העתקת מחברת ושמירתה בדרייב\n",
        "לפני הכל - נבחר את המקום בדרייב שבו נרצה לשמור את המחברת\n",
        "\n",
        "\n"
      ],
      "metadata": {
        "id": "UimLd6nfi1jd"
      }
    },
    {
      "cell_type": "code",
      "execution_count": null,
      "metadata": {
        "colab": {
          "base_uri": "https://localhost:8080/"
        },
        "id": "R6Q4cZIVlgkV",
        "outputId": "37556d91-bb8b-48d0-8e17-814ab8c89572"
      },
      "outputs": [
        {
          "output_type": "stream",
          "name": "stdout",
          "text": [
            "Mounted at /content/drive\n"
          ]
        }
      ],
      "source": [
        "# Mount Google Drive\n",
        "from google.colab import drive\n",
        "drive.mount('/content/drive')"
      ]
    },
    {
      "cell_type": "markdown",
      "source": [
        "פיתחו מצד שמאל את הסמל של התיקיה\n",
        "\n",
        "בתפריט השלוש נקודות\n",
        "\n",
        "צרו תיקיה לשמירת המחברות בתוכנית מעלה:\n",
        "\n",
        "/content/drive/MyDrive/Colab Notebooks/maala/\n",
        "\n",
        "ובתוכה צרו תיקייה לשמירת המחברות בשבוע זה:\n",
        "\n",
        "1 - python\n",
        "\n"
      ],
      "metadata": {
        "id": "EQJYDS2wrq5F"
      }
    },
    {
      "cell_type": "code",
      "source": [
        "from google.colab import drive\n",
        "drive.mount('/content/drive')"
      ],
      "metadata": {
        "colab": {
          "base_uri": "https://localhost:8080/"
        },
        "id": "X4GEhtF85lRz",
        "outputId": "5e1d4660-8d63-4297-d50f-751629a714fb"
      },
      "execution_count": null,
      "outputs": [
        {
          "output_type": "stream",
          "name": "stdout",
          "text": [
            "Drive already mounted at /content/drive; to attempt to forcibly remount, call drive.mount(\"/content/drive\", force_remount=True).\n"
          ]
        }
      ]
    },
    {
      "cell_type": "markdown",
      "source": [
        "בתפריט העליון מצד שמאל בחרו\n",
        "\n",
        "'File' > 'Save a Copy in a Drive'.\n",
        "\n",
        "יפתח בחלון נוסף קובץ חדש בשם\n",
        "\n",
        "Copy of Week2-intro-env.ipynb\n"
      ],
      "metadata": {
        "id": "80Rab6cgmYc1"
      }
    },
    {
      "cell_type": "code",
      "source": [
        "# Change directory\n",
        "import os\n",
        "os.chdir(\"/content/drive/MyDrive/Colab Notebooks/maala/1 - python \")"
      ],
      "metadata": {
        "id": "JzIbBmLjnyNb",
        "colab": {
          "base_uri": "https://localhost:8080/",
          "height": 210
        },
        "outputId": "856394f8-37c3-4eed-ae0e-a710c1501c64"
      },
      "execution_count": null,
      "outputs": [
        {
          "output_type": "error",
          "ename": "FileNotFoundError",
          "evalue": "ignored",
          "traceback": [
            "\u001b[0;31m---------------------------------------------------------------------------\u001b[0m",
            "\u001b[0;31mFileNotFoundError\u001b[0m                         Traceback (most recent call last)",
            "\u001b[0;32m<ipython-input-9-efc7f9ee4366>\u001b[0m in \u001b[0;36m<cell line: 3>\u001b[0;34m()\u001b[0m\n\u001b[1;32m      1\u001b[0m \u001b[0;31m# Change directory\u001b[0m\u001b[0;34m\u001b[0m\u001b[0;34m\u001b[0m\u001b[0m\n\u001b[1;32m      2\u001b[0m \u001b[0;32mimport\u001b[0m \u001b[0mos\u001b[0m\u001b[0;34m\u001b[0m\u001b[0;34m\u001b[0m\u001b[0m\n\u001b[0;32m----> 3\u001b[0;31m \u001b[0mos\u001b[0m\u001b[0;34m.\u001b[0m\u001b[0mchdir\u001b[0m\u001b[0;34m(\u001b[0m\u001b[0;34m\"/content/drive/MyDrive/Colab Notebooks/maala/1 - python \"\u001b[0m\u001b[0;34m)\u001b[0m\u001b[0;34m\u001b[0m\u001b[0;34m\u001b[0m\u001b[0m\n\u001b[0m",
            "\u001b[0;31mFileNotFoundError\u001b[0m: [Errno 2] No such file or directory: '/content/drive/MyDrive/Colab Notebooks/maala/1 - python '"
          ]
        }
      ]
    },
    {
      "cell_type": "code",
      "source": [
        "!pwd # הצגת הספריה הנוכחית"
      ],
      "metadata": {
        "colab": {
          "base_uri": "https://localhost:8080/"
        },
        "id": "4fGHTkTemkyj",
        "outputId": "d42f4c53-4ec1-4676-af73-6b47142fc83f"
      },
      "execution_count": null,
      "outputs": [
        {
          "output_type": "stream",
          "name": "stdout",
          "text": [
            "/content\n"
          ]
        }
      ]
    },
    {
      "cell_type": "markdown",
      "source": [
        "שנו את השם\n",
        "\n",
        "Copy of Week2-intro-env.ipynb\n",
        "\n",
        "לשם חדש, השם מורכב משמכם הפרטי ולאחריו השם המקורי\n",
        "\n",
        "MYNAME-Week2-intro-env.ipynb"
      ],
      "metadata": {
        "id": "4qt31-xJkbps"
      }
    },
    {
      "cell_type": "markdown",
      "source": [
        "מקמו את המחברת בתיקייה המתאימה\n",
        "\n",
        "תפריט העליון מצד שמאל בחרו\n",
        "\n",
        "'File' > 'Locate in Drive'.\n",
        "\n",
        "יפתח חלון נוסף עם הדרייב שלכם\n",
        "בחרו:\n",
        "ארגון\n",
        "ואז\n",
        "העברה\n"
      ],
      "metadata": {
        "id": "7gRWmO5JticL"
      }
    },
    {
      "cell_type": "markdown",
      "source": [
        "בדקו שהקובץ נמצא במיקום שבחרתם"
      ],
      "metadata": {
        "id": "Dq4YxNV2uq_T"
      }
    },
    {
      "cell_type": "markdown",
      "source": [
        "## 2 - שיתוף מחברת עם אחרים\n",
        "מתי נרצה לשתף עם אחרים?\n",
        "\n",
        "כאשר נרצה להגיש את התרגיל למורה\n",
        "\n",
        "לחצו על הכפתור\n",
        "\n",
        "\"Share\"\n",
        "\n",
        "בפינה העליונה\n",
        "\n",
        "והזינו את האימייל\n",
        "\n",
        "merav.varsano@gmail.com\n",
        "\n",
        "תנו הרשאת עריכה\n",
        "\n",
        "העתיקו את הקישור\n",
        "והעלו את הקישור לתיבת הטקסט במודל\n",
        "או\n",
        "\n",
        "שילחו במייל את המחברת כקישור\n"
      ],
      "metadata": {
        "id": "livu07msw5IR"
      }
    },
    {
      "cell_type": "markdown",
      "source": [
        "כתבו קוד פשוט שמחשב את הסכום של האותיות בשמכם כאשר לכל אות יש ערך מספרי על פי קוד ההמרה- הבא\n",
        "\n",
        "[link text](https://www.ascii-code.com/characters/a-z)"
      ],
      "metadata": {
        "id": "xp4eFhEzzBJd"
      }
    },
    {
      "cell_type": "code",
      "source": [
        "# השם שלי הוא\n",
        "# merav\n",
        "# הערך המספרי של השם שלי הוא\n",
        "\n",
        "m = 109\n",
        "e = 101\n",
        "r = 114\n",
        "a = 97\n",
        "v = 118\n",
        "\n",
        "\n",
        "sum_val = m + e + r + a + v\n",
        "print(sum_val)"
      ],
      "metadata": {
        "colab": {
          "base_uri": "https://localhost:8080/"
        },
        "id": "uF4Z1cTsyBg8",
        "outputId": "d06140ee-494a-488a-e157-3e7422659a29"
      },
      "execution_count": null,
      "outputs": [
        {
          "output_type": "stream",
          "name": "stdout",
          "text": [
            "539\n"
          ]
        }
      ]
    },
    {
      "cell_type": "markdown",
      "source": [
        "תוסיפו עוד תא טקסט שמתאר חישוב שתרצו לבצע\n",
        "\n",
        "תוסיפו עוד תא של קוד שבו תרשמו את החישוב"
      ],
      "metadata": {
        "id": "eNvr6zD60yY0"
      }
    },
    {
      "cell_type": "markdown",
      "source": [
        "[מדריך google-colab](https://view.genial.ly/64f5886e2d65c20012627d44/guide-maala-colab-manual)\n"
      ],
      "metadata": {
        "id": "_JeNnSHZH7YW"
      }
    }
  ]
}