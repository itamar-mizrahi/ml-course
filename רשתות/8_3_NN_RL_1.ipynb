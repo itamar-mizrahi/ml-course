{
  "nbformat": 4,
  "nbformat_minor": 0,
  "metadata": {
    "colab": {
      "provenance": [],
      "toc_visible": true
    },
    "kernelspec": {
      "name": "python3",
      "display_name": "Python 3"
    },
    "language_info": {
      "name": "python"
    }
  },
  "cells": [
    {
      "cell_type": "markdown",
      "source": [
        "שם התלמיד\n",
        "\n",
        "\n",
        "........................"
      ],
      "metadata": {
        "id": "ZtN4aMepapJU"
      }
    },
    {
      "cell_type": "markdown",
      "source": [
        "# Google Colab notebook for teaching and practicing Keras for a regression problem"
      ],
      "metadata": {
        "id": "16gZEw35VvHt"
      }
    },
    {
      "cell_type": "markdown",
      "source": [
        "# **Import Libraries**"
      ],
      "metadata": {
        "id": "T6xtsQd9VyJS"
      }
    },
    {
      "cell_type": "code",
      "source": [
        "import numpy as np\n",
        "import pandas as pd\n",
        "import matplotlib.pyplot as plt\n",
        "\n",
        "from tensorflow import keras\n",
        "from tensorflow.keras import layers"
      ],
      "metadata": {
        "id": "NK_LHVUFV3cT"
      },
      "execution_count": null,
      "outputs": []
    },
    {
      "cell_type": "markdown",
      "source": [
        "# **1. Generate Data**"
      ],
      "metadata": {
        "id": "EN2Rp7WwWRDV"
      }
    },
    {
      "cell_type": "code",
      "source": [
        "# Generate some random regression data\n",
        "# X_train would be your features and y_train the corresponding continuous target values\n",
        "X_train = np.random.random((100, 10))\n",
        "y_train = np.random.random((100, 1))\n"
      ],
      "metadata": {
        "id": "f0VdkS2MWSA-"
      },
      "execution_count": null,
      "outputs": []
    },
    {
      "cell_type": "code",
      "source": [
        "print(X_train.shape, y_train.shape)"
      ],
      "metadata": {
        "colab": {
          "base_uri": "https://localhost:8080/"
        },
        "id": "rOMS-ajTeCsL",
        "outputId": "b89fa4c8-46c0-486c-f6fa-b86932095fa3"
      },
      "execution_count": null,
      "outputs": [
        {
          "output_type": "stream",
          "name": "stdout",
          "text": [
            "(100, 10) (100, 1)\n"
          ]
        }
      ]
    },
    {
      "cell_type": "code",
      "source": [
        "print(y_train[0:10])"
      ],
      "metadata": {
        "colab": {
          "base_uri": "https://localhost:8080/"
        },
        "id": "B9Kdh3RfedAp",
        "outputId": "9faddd56-43ea-488d-9b24-ee86511be545"
      },
      "execution_count": null,
      "outputs": [
        {
          "output_type": "stream",
          "name": "stdout",
          "text": [
            "[[0.74911851]\n",
            " [0.95612504]\n",
            " [0.00772124]\n",
            " [0.48979668]\n",
            " [0.0623305 ]\n",
            " [0.41022096]\n",
            " [0.87291643]\n",
            " [0.53333693]\n",
            " [0.87367427]\n",
            " [0.66228029]]\n"
          ]
        }
      ]
    },
    {
      "cell_type": "code",
      "source": [
        "print(X_train[0:10,:])"
      ],
      "metadata": {
        "colab": {
          "base_uri": "https://localhost:8080/"
        },
        "id": "AHzjWIEpLEWN",
        "outputId": "27e95944-9d9b-4ecd-a730-089bea3c9ac0"
      },
      "execution_count": null,
      "outputs": [
        {
          "output_type": "stream",
          "name": "stdout",
          "text": [
            "[[0.82963313 0.30197854 0.19288741 0.42606634 0.05310859 0.01730569\n",
            "  0.29775307 0.20384523 0.69518803 0.89910642]\n",
            " [0.95693446 0.9862539  0.14290862 0.80377485 0.3334667  0.20436921\n",
            "  0.92347623 0.32343961 0.26556064 0.12718807]\n",
            " [0.02467357 0.27688284 0.14836032 0.0062021  0.29824866 0.82969275\n",
            "  0.25195997 0.54108156 0.18106946 0.0439147 ]\n",
            " [0.25467272 0.81291101 0.4270534  0.15924122 0.26602152 0.89732436\n",
            "  0.75337767 0.31564028 0.72428334 0.00107121]\n",
            " [0.37825051 0.37224727 0.17406821 0.65436322 0.31672619 0.01336487\n",
            "  0.74183303 0.80465089 0.44725293 0.08104754]\n",
            " [0.205475   0.90005679 0.73478814 0.18964196 0.13351336 0.23521892\n",
            "  0.04425593 0.82243498 0.63086238 0.64938363]\n",
            " [0.86976671 0.29027984 0.18931018 0.72765466 0.29250383 0.95925473\n",
            "  0.39957089 0.48899032 0.25588251 0.8986364 ]\n",
            " [0.99119231 0.74548871 0.6812895  0.36977893 0.18701465 0.49862779\n",
            "  0.61316965 0.97656232 0.23128604 0.71161599]\n",
            " [0.13623726 0.37724927 0.08645874 0.55274885 0.38220157 0.38927202\n",
            "  0.0863479  0.55616783 0.86799144 0.47051455]\n",
            " [0.8251516  0.44522082 0.78751266 0.23470098 0.94458274 0.8586897\n",
            "  0.15892685 0.66558161 0.48115514 0.96163702]]\n"
          ]
        }
      ]
    },
    {
      "cell_type": "markdown",
      "source": [
        "# **2. Creating a Network for Regression**"
      ],
      "metadata": {
        "id": "ELVSfwaSgLly"
      }
    },
    {
      "cell_type": "markdown",
      "source": [
        "In part 2 we create a simple neural network model using Keras..\n",
        "The `Sequential` model is a linear stack of layers.\n",
        "\n",
        "1. **Sequential Model**:\n",
        "   - `keras.Sequential()` initializes a linear stack of layers. This means that each layer has one input connected to the previous layer and one output connected to the next layer.\n",
        "\n",
        "2. **First Dense Layer**:\n",
        "   - `layers.Dense(64, activation='relu', input_shape=(X_train.shape[1],))` adds the first dense (fully connected) layer to the model.\n",
        "   - `64` is the number of neurons or units in this layer. The more neurons you have, the more complex patterns in data your model can learn, but it also makes your model larger and potentially more prone to overfitting.\n",
        "   - `activation='relu'` applies the ReLU (Rectified Linear Unit) activation function to the output of each neuron in this layer. ReLU is commonly used in hidden layers of neural networks because it introduces non-linearity to the model, allowing it to learn more complex functions.\n",
        "   - `input_shape=(X_train.shape[1],)` specifies the shape of the input data which the model should expect. Here, `X_train.shape[1]` refers to the number of features in the training data. The `input_shape` argument is only needed for the first layer so that the model knows the number of inputs to expect. For example, if your training data (`X_train`) has 10 features, then `X_train.shape[1]` would be 10, and the input shape would be set as `(10,)`.\n",
        "\n",
        "3. **Second Dense Layer**:\n",
        "   - `layers.Dense(64, activation='relu')` adds another dense layer with the same configuration as the first. This layer will take inputs from all 64 neurons of the first dense layer.\n",
        "\n",
        "4. **Output Dense Layer**:\n",
        "   - `layers.Dense(1)` adds the output layer to the model with a single neuron. Since this is a regression task, you typically do not use an activation function in the output layer, as the regression tasks are about predicting continuous values, and you want the output to be able to take on any value.\n",
        "\n",
        "The model is now a fully connected neural network with two hidden layers (each with 64 neurons and ReLU activation) and an output layer designed for regression (with a single neuron and no activation function)."
      ],
      "metadata": {
        "id": "IVqZqPV_mbo8"
      }
    },
    {
      "cell_type": "code",
      "source": [
        "# Build a simple model\n",
        "model = keras.Sequential([\n",
        "    layers.Dense(64, activation='relu', input_shape=(X_train.shape[1],)),\n",
        "    layers.Dense(64, activation='relu'),\n",
        "    layers.Dense(1)  # Output layer for regression (no activation function)\n",
        "])"
      ],
      "metadata": {
        "id": "kszOYFm7gNRJ"
      },
      "execution_count": null,
      "outputs": []
    },
    {
      "cell_type": "markdown",
      "source": [
        "# **3. Training the Network**"
      ],
      "metadata": {
        "id": "8rTzJQazgS9S"
      }
    },
    {
      "cell_type": "markdown",
      "source": [
        "## **3.1 model.compile:**\n",
        "\n",
        "In this section you are specifying the optimizer and loss function that the model will use during the training process. Compiling the model with the Adam optimizer and mean squared error loss sets up the model for training on a regression task. The optimizer will iteratively adjust the weights to minimize the mean squared error between the model's predictions and the actual data.\n",
        "\n",
        "1. **Optimizer (`optimizer='adam'`)**:\n",
        "   - The optimizer is an algorithm or method used to change the attributes of the neural network such as weights and learning rate in order to reduce the losses. Optimizers are used to minimize (or maximize) a function which is usually the loss function that measures how wrong the model's predictions are.\n",
        "   - `'adam'` refers to the Adam optimizer, which is a popular optimization algorithm in deep learning. Adam stands for Adaptive Moment Estimation and combines the benefits of two other extensions of stochastic gradient descent: Adaptive Gradient Algorithm (AdaGrad) and Root Mean Square Propagation (RMSProp). Specifically, it keeps an exponentially decaying average of past gradients (momentum) and uses the concept of adaptive learning rates (different rates for different parameters).\n",
        "\n",
        "2. **Loss Function (`loss='mean_squared_error'`)**:\n",
        "   - The loss function, also known as cost function, is a method of evaluating how well the algorithm models the dataset. If predictions deviate too far from actual results, loss function would output a very high value. Loss function maps decisions to their associated costs.\n",
        "   - `'mean_squared_error'` is a common loss function used for regression problems. It calculates the average of the squares of the errors, which is the difference between the predicted values and the actual values. The equation for mean squared error (MSE) is:\n",
        "\n",
        "     \\[ MSE = \\frac{1}{n} \\sum_{i=1}^{n} (y_{i} - \\hat{y}_{i})^2 \\]\n",
        "\n",
        "     where \\( y_{i} \\) is the true value and \\( \\hat{y}_{i} \\) is the predicted value.\n",
        "   - This loss function is chosen for regression problems because it works well when the target variable continues, and you want to penalize the model more for larger errors (since the errors are squared, larger errors have a disproportionately larger effect on the loss)."
      ],
      "metadata": {
        "id": "0IcltkKKpSIO"
      }
    },
    {
      "cell_type": "code",
      "source": [
        "# Compile the model\n",
        "model.compile(optimizer='adam', loss='mean_squared_error')"
      ],
      "metadata": {
        "id": "rgI44I1PODZR"
      },
      "execution_count": null,
      "outputs": []
    },
    {
      "cell_type": "markdown",
      "source": [
        "## **3.2 model.fit:**\n",
        "\n",
        "When `model.fit()` is called, the following occurs:\n",
        "\n",
        "- The model begins to iterate over the training data in batches of 32 samples, calculating the predictions based on the current state of the model weights and the input features.\n",
        "- The predictions are compared to the true target values, and the loss is calculated using the mean squared error function.\n",
        "- The optimizer (Adam, as previously set in `model.compile()`) updates the model weights in an attempt to minimize the loss.\n",
        "- These steps repeat for each batch until one epoch is completed.\n",
        "- After all batches are processed, one epoch is finished. The process then repeats for the number of epochs specified (10 in this case).\n",
        "\n",
        "At the end of training, the model will have learned weights that minimize the loss function, to the best of its ability, over the training dataset.\n",
        "\n",
        "1. **Training Data (`X_train`, `y_train`)**:\n",
        "   - `X_train` represents the input features of your training data. This is the data that your model will learn from.\n",
        "   - `y_train` represents the corresponding target values for the training set. These are the true values that the model is trying to predict.\n",
        "\n",
        "2. **Number of Epochs (`epochs=10`)**:\n",
        "   - An epoch is one complete pass through the entire training dataset.\n",
        "   - `epochs=10` means that the model will iterate over the entire training dataset 10 times. With each epoch, the model weights will be updated in an attempt to minimize the loss function.\n",
        "\n",
        "3. **Batch Size (`batch_size=32`)**:\n",
        "   - Training data is typically divided into smaller subsets that are fed into the model sequentially, known as batches.\n",
        "   - `batch_size=32` means that 32 samples from the training dataset will be used to train the model at each step. The model's weights will be updated after each batch of 32 samples has been processed.\n",
        "   - Smaller batch sizes generally lead to a greater regularization effect and more noise in the learning process, which can be beneficial for finding more generalizable patterns. However, they can also make the training process slower and potentially less stable. Conversely, larger batch sizes provide a more accurate estimate of the gradient, but they can be computationally more expensive and might lead to sharper minima in the loss function, which can be less generalizable.\n",
        "\n"
      ],
      "metadata": {
        "id": "VtpMmCMkp9LS"
      }
    },
    {
      "cell_type": "code",
      "source": [
        "# Train the model\n",
        "model_history = model.fit(X_train, y_train, epochs=10, batch_size=32)"
      ],
      "metadata": {
        "colab": {
          "base_uri": "https://localhost:8080/"
        },
        "id": "Ph428t_UOXdP",
        "outputId": "b4c40617-29f6-40db-f2c8-052a5cbcb3f1"
      },
      "execution_count": null,
      "outputs": [
        {
          "output_type": "stream",
          "name": "stdout",
          "text": [
            "Epoch 1/10\n",
            "4/4 [==============================] - 1s 8ms/step - loss: 0.4789\n",
            "Epoch 2/10\n",
            "4/4 [==============================] - 0s 6ms/step - loss: 0.2720\n",
            "Epoch 3/10\n",
            "4/4 [==============================] - 0s 5ms/step - loss: 0.1556\n",
            "Epoch 4/10\n",
            "4/4 [==============================] - 0s 5ms/step - loss: 0.1038\n",
            "Epoch 5/10\n",
            "4/4 [==============================] - 0s 5ms/step - loss: 0.1014\n",
            "Epoch 6/10\n",
            "4/4 [==============================] - 0s 5ms/step - loss: 0.1152\n",
            "Epoch 7/10\n",
            "4/4 [==============================] - 0s 6ms/step - loss: 0.1160\n",
            "Epoch 8/10\n",
            "4/4 [==============================] - 0s 5ms/step - loss: 0.1047\n",
            "Epoch 9/10\n",
            "4/4 [==============================] - 0s 5ms/step - loss: 0.0956\n",
            "Epoch 10/10\n",
            "4/4 [==============================] - 0s 4ms/step - loss: 0.0919\n"
          ]
        }
      ]
    },
    {
      "cell_type": "markdown",
      "source": [
        "# **4. Network Output**"
      ],
      "metadata": {
        "id": "M6lZkX2YRVF5"
      }
    },
    {
      "cell_type": "markdown",
      "source": [
        "## **4.1 the W&b 's**\n",
        "\n",
        "In Keras, the model parameters (weights and biases) are stored within the layers of the model. After training your model with `.fit()`, the learned weights and biases are stored in the model's layers and can be accessed or manipulated if needed.\n",
        "\n",
        "For each layer in a Keras model, there are two main sets of parameters:\n",
        "\n",
        "- **Weights (w)**: These are the parameters that the model learns during training and are used to make predictions. They represent the strength of the connection between units in layers.\n",
        "\n",
        "- **Biases (b)**: These are also learned during training and are used to shift the activation function to the left or right, which helps the model make better predictions."
      ],
      "metadata": {
        "id": "iyCkpsrrRmR4"
      }
    },
    {
      "cell_type": "code",
      "source": [
        "#print w,b shape in each layer\n",
        "i=0\n",
        "for layer in model.layers:\n",
        "    i=i+1\n",
        "    weights, biases = layer.get_weights()\n",
        "    print(\"w\", str(i), weights.shape, \";b\", str(i), biases.shape)\n"
      ],
      "metadata": {
        "colab": {
          "base_uri": "https://localhost:8080/"
        },
        "id": "68zRwrNkOnxt",
        "outputId": "2e9d6656-e2ff-4c89-c6c3-081e3daa1f6e"
      },
      "execution_count": null,
      "outputs": [
        {
          "output_type": "stream",
          "name": "stdout",
          "text": [
            "w 1 (10, 64) ;b 1 (64,)\n",
            "w 2 (64, 64) ;b 2 (64,)\n",
            "w 3 (64, 1) ;b 3 (1,)\n"
          ]
        }
      ]
    },
    {
      "cell_type": "markdown",
      "source": [
        "## **4.2 history object**"
      ],
      "metadata": {
        "id": "k4OOCmhmR3_x"
      }
    },
    {
      "cell_type": "markdown",
      "source": [
        "The `History` object in Keras, which is returned by the `model.fit()` method, holds a record of the loss values and metric values during training. It has the following main attribute:\n",
        "\n",
        "- **`history`**: A dictionary containing the loss values and metrics values at the end of each epoch. The keys in this dictionary depend on the metrics that were specified during the model compilation."
      ],
      "metadata": {
        "id": "-XLVGr4IUIjK"
      }
    },
    {
      "cell_type": "code",
      "source": [
        "print(model_history.history.keys())"
      ],
      "metadata": {
        "colab": {
          "base_uri": "https://localhost:8080/"
        },
        "id": "onS4Rb2hToVk",
        "outputId": "e7b7ac9d-c780-4e3d-9e8c-1d023418d0c8"
      },
      "execution_count": null,
      "outputs": [
        {
          "output_type": "stream",
          "name": "stdout",
          "text": [
            "dict_keys(['loss'])\n"
          ]
        }
      ]
    },
    {
      "cell_type": "code",
      "source": [
        "# Plot training & validation loss values\n",
        "plt.plot(model_history.history['loss'])\n",
        "plt.title('Model loss')\n",
        "plt.ylabel('Loss')\n",
        "plt.xlabel('Epoch')\n",
        "plt.legend(['Train'], loc='upper left')\n",
        "plt.show()\n"
      ],
      "metadata": {
        "colab": {
          "base_uri": "https://localhost:8080/",
          "height": 472
        },
        "id": "FuQBFpBWsYG7",
        "outputId": "46c169f0-0db1-4aea-ad51-f82ff9daf695"
      },
      "execution_count": null,
      "outputs": [
        {
          "output_type": "display_data",
          "data": {
            "text/plain": [
              "<Figure size 640x480 with 1 Axes>"
            ],
            "image/png": "[encoded data removed]"
          },
          "metadata": {}
        }
      ]
    },
    {
      "cell_type": "markdown",
      "source": [
        "# **5. Evaluation**"
      ],
      "metadata": {
        "id": "lZbUfVOIgc_R"
      }
    },
    {
      "cell_type": "markdown",
      "source": [
        "In part 5, the focus is on evaluating the performance of the neural network model. The model.evaluate() function in Keras is used for this purpose."
      ],
      "metadata": {
        "id": "0JoZFgPMVWB4"
      }
    },
    {
      "cell_type": "code",
      "source": [
        "# Evaluate the model\n",
        "model_loss = model.evaluate(X_train, y_train)\n",
        "print(f'model_loss: {model_loss}')"
      ],
      "metadata": {
        "colab": {
          "base_uri": "https://localhost:8080/"
        },
        "id": "BHEA9dVsgg38",
        "outputId": "cb4acd32-7f35-4026-9c63-f47f9e58a1f2"
      },
      "execution_count": null,
      "outputs": [
        {
          "output_type": "stream",
          "name": "stdout",
          "text": [
            "4/4 [==============================] - 0s 3ms/step - loss: 0.0781\n",
            "model_loss: 0.07810601592063904\n"
          ]
        }
      ]
    },
    {
      "cell_type": "markdown",
      "source": [
        "# Exercise1: california Housing Prediction"
      ],
      "metadata": {
        "id": "TGZn2knyYYRl"
      }
    },
    {
      "cell_type": "markdown",
      "source": [
        "# 1.1 Imports\n",
        "Let's use the california Housing dataset, which is a commonly used dataset for regression problems. It contains information about various houses in california suburbs and is aimed at predicting the median value of homes in $1000s.\n",
        "We'll use scikit-learn to load the dataset.\n",
        "Pandas for data manipulation.\n",
        "Matplotlib for plotting.\n",
        "We'll split the data into training, validation, and test sets, then build a model with Keras to predict house prices.\n",
        "We'll plot the loss over epochs for the training and validation sets.\n",
        "The loss function we'll use is Mean Squared Error (MSE), a common choice for regression.\n",
        "\n",
        "\n",
        "\n",
        "First, let's import more libraries:\n",
        "\n",
        "```\n",
        "from sklearn.datasets import fetch_california_housing\n",
        "from sklearn.model_selection import train_test_split\n",
        "from sklearn.preprocessing import StandardScaler\n",
        "from tensorflow.keras.models import Sequential\n",
        "from tensorflow.keras.layers import Dense\n",
        "```"
      ],
      "metadata": {
        "id": "TusxGG8kYfPX"
      }
    },
    {
      "cell_type": "code",
      "source": [
        "# Ex1.1 Imports\n",
        "# YOUR CODE HERE - START\n",
        "\n",
        "\n",
        "## YOUR CODE HERE - END"
      ],
      "metadata": {
        "id": "Oj7vS13w6LYH"
      },
      "execution_count": null,
      "outputs": []
    },
    {
      "cell_type": "markdown",
      "source": [
        "# 1.2 Load California Housing dataset\n",
        "```\n",
        "california_housing = fetch_california_housing()\n",
        "data = pd.DataFrame(california_housing.data, columns=california_housing.feature_names)\n",
        "target = pd.DataFrame(california_housing.target, columns=[\"MedianHouseValue\"])\n",
        "\n",
        "```\n"
      ],
      "metadata": {
        "id": "GY1CL8yB6L3Z"
      }
    },
    {
      "cell_type": "code",
      "source": [
        "# Ex1.2 Load california Housing dataset\n",
        "# YOUR CODE HERE - START\n",
        "\n",
        "\n",
        "## YOUR CODE HERE - END"
      ],
      "metadata": {
        "id": "j6A6eqmF8er_"
      },
      "execution_count": null,
      "outputs": []
    },
    {
      "cell_type": "markdown",
      "source": [
        "# 1.3 Standardize the data\n",
        "\n",
        "Use ```StandardScaler``` and ```scaler.fit_transform``` to scale your data.values\n",
        "\n",
        "save the scaled data into: ```X_scaled``` matrix"
      ],
      "metadata": {
        "id": "4GBG2vv_9Fz4"
      }
    },
    {
      "cell_type": "code",
      "source": [
        "# Ex1.3 Split the data\n",
        "# YOUR CODE HERE - START\n",
        "\n",
        "\n",
        "## YOUR CODE HERE - END"
      ],
      "metadata": {
        "id": "GSbIWotAAYcS"
      },
      "execution_count": null,
      "outputs": []
    },
    {
      "cell_type": "markdown",
      "source": [
        "\n",
        "# 1.4 Split the data into training, validation, and test sets\n",
        "\n",
        "Use ```train_test_split``` to split the data into:\n",
        "\n",
        "X_train, y_train (70%), X_val, y_val (15%), X_test, y_test (15%)\n",
        "\n",
        "- first line:\n",
        "train - 70%, temp - 30%\n",
        "- second line:\n",
        "val 15%, test 15%\n"
      ],
      "metadata": {
        "id": "sBhFFtkx8fGf"
      }
    },
    {
      "cell_type": "code",
      "source": [
        "# Ex1.4 Split the data\n",
        "# YOUR CODE HERE - START\n",
        "\n",
        "\n",
        "\n",
        "## YOUR CODE HERE - END"
      ],
      "metadata": {
        "id": "PhlZGbaj9FY4"
      },
      "execution_count": null,
      "outputs": []
    },
    {
      "cell_type": "code",
      "source": [
        "print(X_train.shape, y_train.shape, X_val.shape, y_val.shape, X_test.shape, y_test.shape)"
      ],
      "metadata": {
        "colab": {
          "base_uri": "https://localhost:8080/"
        },
        "id": "fq0M1J0z_K6p",
        "outputId": "17148263-90cb-4893-db09-9a9a0741abd2"
      },
      "execution_count": null,
      "outputs": [
        {
          "output_type": "stream",
          "name": "stdout",
          "text": [
            "(14448, 8) (14448, 1) (3096, 8) (3096, 1) (3096, 8) (3096, 1)\n"
          ]
        }
      ]
    },
    {
      "cell_type": "markdown",
      "source": [
        "The split data shapes are:\n",
        "\n",
        "```(14448, 8) (14448, 1) (3096, 8) (3096, 1) (3096, 8) (3096, 1)```"
      ],
      "metadata": {
        "id": "D1Z7YW1rC-_y"
      }
    },
    {
      "cell_type": "markdown",
      "source": [],
      "metadata": {
        "id": "EGEFnVTGDRTk"
      }
    },
    {
      "cell_type": "markdown",
      "source": [
        "# 1.5 Create & Train the model\n",
        "\n",
        "Create Dense Sequential Network with:\n",
        "- Input layer X_train.shape[1] neurons\n",
        "- first hidden layer with 64 neurons & relu activation function\n",
        "- second hidden layer with 64 neurons & relu activation function\n",
        "- Output layer for regression with one neuron\n",
        "\n",
        "Compile the model with 'adam' optimizer and 'mean_squared_error' as a loss function\n",
        "\n",
        "Train the model with X_train, y_train, 20 epochs and batch_size=32\n"
      ],
      "metadata": {
        "id": "laKK-S2x_LSK"
      }
    },
    {
      "cell_type": "code",
      "source": [
        "# Ex1.5 Create & Train the model\n",
        "# Build the model\n",
        "# YOUR CODE HERE - START\n",
        "\n",
        "\n",
        "# YOUR CODE HERE - END"
      ],
      "metadata": {
        "colab": {
          "base_uri": "https://localhost:8080/"
        },
        "id": "K2iEev9yMlYS",
        "outputId": "01514c82-f731-4665-a51f-b475dd694b73"
      },
      "execution_count": null,
      "outputs": [
        {
          "output_type": "stream",
          "name": "stdout",
          "text": [
            "Epoch 1/20\n",
            "452/452 [==============================] - 5s 3ms/step - loss: 1.2676 - val_loss: 0.4400\n",
            "Epoch 2/20\n",
            "452/452 [==============================] - 1s 2ms/step - loss: 0.3967 - val_loss: 0.3986\n",
            "Epoch 3/20\n",
            "452/452 [==============================] - 1s 3ms/step - loss: 0.3802 - val_loss: 0.3828\n",
            "Epoch 4/20\n",
            "452/452 [==============================] - 1s 2ms/step - loss: 0.3934 - val_loss: 0.3716\n",
            "Epoch 5/20\n",
            "452/452 [==============================] - 1s 2ms/step - loss: 0.3359 - val_loss: 0.3486\n",
            "Epoch 6/20\n",
            "452/452 [==============================] - 1s 3ms/step - loss: 0.3497 - val_loss: 0.3402\n",
            "Epoch 7/20\n",
            "452/452 [==============================] - 1s 2ms/step - loss: 0.3374 - val_loss: 0.3474\n",
            "Epoch 8/20\n",
            "452/452 [==============================] - 1s 3ms/step - loss: 0.3110 - val_loss: 0.3440\n",
            "Epoch 9/20\n",
            "452/452 [==============================] - 2s 4ms/step - loss: 0.3252 - val_loss: 0.3331\n",
            "Epoch 10/20\n",
            "452/452 [==============================] - 2s 4ms/step - loss: 0.3210 - val_loss: 0.3471\n",
            "Epoch 11/20\n",
            "452/452 [==============================] - 1s 2ms/step - loss: 0.5106 - val_loss: 0.3204\n",
            "Epoch 12/20\n",
            "452/452 [==============================] - 1s 2ms/step - loss: 0.3035 - val_loss: 0.3255\n",
            "Epoch 13/20\n",
            "452/452 [==============================] - 1s 2ms/step - loss: 0.2937 - val_loss: 0.3369\n",
            "Epoch 14/20\n",
            "452/452 [==============================] - 1s 2ms/step - loss: 0.2946 - val_loss: 0.3039\n",
            "Epoch 15/20\n",
            "452/452 [==============================] - 1s 2ms/step - loss: 0.2900 - val_loss: 0.3129\n",
            "Epoch 16/20\n",
            "452/452 [==============================] - 1s 3ms/step - loss: 0.2902 - val_loss: 0.3039\n",
            "Epoch 17/20\n",
            "452/452 [==============================] - 1s 2ms/step - loss: 0.2903 - val_loss: 0.2993\n",
            "Epoch 18/20\n",
            "452/452 [==============================] - 1s 3ms/step - loss: 0.2811 - val_loss: 0.3026\n",
            "Epoch 19/20\n",
            "452/452 [==============================] - 1s 3ms/step - loss: 0.2844 - val_loss: 0.2990\n",
            "Epoch 20/20\n",
            "452/452 [==============================] - 2s 4ms/step - loss: 0.2813 - val_loss: 0.3053\n"
          ]
        }
      ]
    },
    {
      "cell_type": "markdown",
      "source": [
        "# 1.6 plotting the training and validation loss over epochs\n",
        "\n",
        "```python\n",
        "plt.plot(history.history['loss'])\n",
        "plt.plot(history.history['val_loss'])\n",
        "plt.title('Model loss')\n",
        "plt.ylabel('Loss')\n",
        "plt.xlabel('Epoch')\n",
        "plt.legend(['Train', 'Val'], loc='upper left')\n",
        "plt.show()\n",
        "```\n"
      ],
      "metadata": {
        "id": "bSxWF3bBMl8o"
      }
    },
    {
      "cell_type": "code",
      "source": [
        "# Plot training & validation loss values\n",
        "plt.plot(history.history['loss'])\n",
        "plt.plot(history.history['val_loss'])\n",
        "plt.title('Model loss')\n",
        "plt.ylabel('Loss')\n",
        "plt.xlabel('Epoch')\n",
        "plt.legend(['Train', 'Val'], loc='upper left')\n",
        "plt.show()"
      ],
      "metadata": {
        "colab": {
          "base_uri": "https://localhost:8080/",
          "height": 472
        },
        "id": "COrEb1oVUjMF",
        "outputId": "b6f703ce-47e9-4f8b-91d5-b98f5a3eca16"
      },
      "execution_count": null,
      "outputs": [
        {
          "output_type": "display_data",
          "data": {
            "text/plain": [
              "<Figure size 640x480 with 1 Axes>"
            ],
            "image/png": "[encoded data removed]"
          },
          "metadata": {}
        }
      ]
    },
    {
      "cell_type": "markdown",
      "source": [
        "# 1.7 Evaluation\n",
        "**Mean squared error (MSE)**,which reflects how well the model is able to predict the median house values for the unseen data in the test set. A lower MSE indicates that the model's predictions are closer to the actual values.\n",
        "**Mean absolute error (MAE)** or **root mean squared error (RMSE)**, you can calculate them using the predictions from the model and comparing them to the actual values. Here's how you can calculate and print these additional metrics:\n",
        "\n",
        "```python\n",
        "# Calculate MSE\n",
        "test_loss = model.evaluate(X_test, y_test)\n",
        "print(f\"Test Loss (MSE): {test_loss}\")\n",
        "from sklearn.metrics import mean_absolute_error, mean_squared_error\n",
        "mse = mean_squared_error(y_test, y_pred)\n",
        "print(f\"Mean Squared Error (MSE): {mse}\")\n",
        "\n",
        "# Calculate MAE\n",
        "mae = mean_absolute_error(y_test, y_pred)\n",
        "print(f\"Mean Absolute Error (MAE): {mae}\")\n",
        "\n",
        "# Calculate RMSE (the square root of MSE)\n",
        "rmse = np.sqrt(mean_squared_error(y_test, y_pred))\n",
        "print(f\"Root Mean Squared Error (RMSE): {rmse}\")\n",
        "```"
      ],
      "metadata": {
        "id": "8zL2JF97QM8o"
      }
    },
    {
      "cell_type": "code",
      "source": [
        "# Generate predictions on the test set\n",
        "y_pred = model.predict(X_test)"
      ],
      "metadata": {
        "colab": {
          "base_uri": "https://localhost:8080/"
        },
        "id": "U9MqHaQYXtEX",
        "outputId": "6c6b88f8-1eef-4551-adb1-7c04802412dc"
      },
      "execution_count": null,
      "outputs": [
        {
          "output_type": "stream",
          "name": "stdout",
          "text": [
            "97/97 [==============================] - 0s 2ms/step\n"
          ]
        }
      ]
    },
    {
      "cell_type": "code",
      "source": [
        "# Calculate MSE\n",
        "test_loss = model.evaluate(X_test, y_test)\n",
        "print(f\"Test Loss (MSE): {test_loss}\")\n",
        "from sklearn.metrics import mean_absolute_error, mean_squared_error\n",
        "mse = mean_squared_error(y_test, y_pred)\n",
        "print(f\"Mean Squared Error (MSE): {mse}\")\n",
        "\n",
        "# Calculate MAE\n",
        "mae = mean_absolute_error(y_test, y_pred)\n",
        "print(f\"Mean Absolute Error (MAE): {mae}\")\n",
        "\n",
        "# Calculate RMSE (the square root of MSE)\n",
        "rmse = np.sqrt(mean_squared_error(y_test, y_pred))\n",
        "print(f\"Root Mean Squared Error (RMSE): {rmse}\")"
      ],
      "metadata": {
        "colab": {
          "base_uri": "https://localhost:8080/"
        },
        "id": "METNpKO8VuKn",
        "outputId": "9faa9db3-913a-4463-b69f-eea0432097db"
      },
      "execution_count": null,
      "outputs": [
        {
          "output_type": "stream",
          "name": "stdout",
          "text": [
            "97/97 [==============================] - 0s 2ms/step - loss: 0.2827\n",
            "Test Loss (MSE): 0.2827311158180237\n",
            "Mean Squared Error (MSE): 0.28273106260434816\n",
            "Mean Absolute Error (MAE): 0.37122925558085895\n",
            "Root Mean Squared Error (RMSE): 0.5317246116217945\n"
          ]
        }
      ]
    },
    {
      "cell_type": "markdown",
      "source": [
        "**correlation coefficient**\n",
        "The correlation coefficient measures the strength and direction of the linear relationship between two variables, with a value ranging from -1 to 1. A value close to 1 indicates a strong positive correlation, while a value close to -1 indicates a strong negative correlation. A value around 0 indicates no linear correlation.\n",
        "\n",
        "\n",
        "To calculate and plot the correlation coefficient between the actual and predicted values from your model, you can use NumPy for the calculation and matplotlib for plotting. The correlation coefficient measures the strength and direction of the linear relationship between two variables, with a value ranging from -1 to 1. A value close to 1 indicates a strong positive correlation, while a value close to -1 indicates a strong negative correlation. A value around 0 indicates no linear correlation.\n",
        "\n",
        "In this code:\n",
        "- We first ensure that both `y_test` and `y_pred` are flattened to 1D arrays to compute the correlation correctly.\n",
        "- We use `np.corrcoef()` to calculate the Pearson correlation coefficient matrix between the actual and predicted values. The `[0, 1]` element of this matrix gives us the correlation coefficient between the two sets of values.\n",
        "- Finally, we plot the actual values against the predicted values using `plt.scatter()`, and include the correlation coefficient in the plot title for reference.\n",
        "\n",
        "This plot will help visualize how well the predicted values from your model match the actual values, with the correlation coefficient providing a numerical summary of this relationship."
      ],
      "metadata": {
        "id": "ffWwA11q9jTg"
      }
    },
    {
      "cell_type": "code",
      "source": [
        "# Flatten y_pred if it's not already a 1D array (common for Keras models)\n",
        "y_pred_flat = y_pred.flatten()\n",
        "\n",
        "# Calculate the Pearson correlation coefficient\n",
        "correlation_matrix = np.corrcoef(y_test.flatten(), y_pred_flat)\n",
        "correlation_coefficient = correlation_matrix[0, 1]\n",
        "\n",
        "print(f\"Correlation Coefficient: {correlation_coefficient}\")\n",
        "\n",
        "# Plotting the actual vs predicted values with the correlation coefficient\n",
        "plt.figure(figsize=(8, 6))\n",
        "plt.scatter(y_test, y_pred_flat, alpha=0.5)\n",
        "plt.title(f\"Actual vs. Predicted Values\\nCorrelation Coefficient: {correlation_coefficient:.2f}\")\n",
        "plt.xlabel(\"Actual Values\")\n",
        "plt.ylabel(\"Predicted Values\")\n",
        "plt.grid(True)\n",
        "plt.show()\n"
      ],
      "metadata": {
        "id": "83-5WUKP9khY"
      },
      "execution_count": null,
      "outputs": []
    },
    {
      "cell_type": "code",
      "source": [
        "# Ex1.7\n",
        "# Calculate and plot the correlation coefficient between the actual and predicted values of\n",
        "# The train set\n",
        "# YOUR CODE HERE - START\n",
        "\n",
        "\n",
        "# YOUR CODE HERE - END"
      ],
      "metadata": {
        "id": "3SLIjfW-9oAg"
      },
      "execution_count": null,
      "outputs": []
    },
    {
      "cell_type": "markdown",
      "source": [
        "By: Merav Varsano for M'aala (Davidson Ins.) ©"
      ],
      "metadata": {
        "id": "kG7hgvSc_xTs"
      }
    },
    {
      "cell_type": "code",
      "source": [],
      "metadata": {
        "id": "pmdln6VesXz0"
      },
      "execution_count": null,
      "outputs": []
    }
  ]
}