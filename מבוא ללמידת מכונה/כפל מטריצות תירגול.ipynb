{
  "nbformat": 4,
  "nbformat_minor": 0,
  "metadata": {
    "colab": {
      "provenance": []
    },
    "kernelspec": {
      "name": "python3",
      "display_name": "Python 3"
    },
    "language_info": {
      "name": "python"
    }
  },
  "cells": [
    {
      "cell_type": "markdown",
      "source": [
        "שם התמיד\n",
        "\n",
        ".........................\n"
      ],
      "metadata": {
        "id": "uS3fHUoM6Ljt"
      }
    },
    {
      "cell_type": "markdown",
      "metadata": {
        "id": "M2gfaSPdCW-B"
      },
      "source": [
        "<hr>\n",
        "<p dir = rtl>\n",
        "בתרגילים הבאים תתרגלו גם קצת מתמטיקה וגם כתיבת פעולות בפייתון. אם אתם לא בקיאים באיך מגדירים פעולות בפייתון ואיך מזמנים אותן, אתם מוזמנים לחזור על חומר הלימוד\n",
        "<br><br>\n",
        "הפעולות/פונקציות שתתבקשו לכתוב בתרגילים כאן, יזומנו על ידי קוד שלי עם תוצאות צפויות. ודאו שהתוצאות שקיבלתם דומות לתוצאות הצפויות\n",
        "<br>\n",
        "<b>\n",
        "<ul dir = rtl>\n",
        "<li>\n",
        "צרו עותק של מחברת זו ותנו לה שם מתאים הכולל את שמכם. אל תעבדו על מחברת זו ישירות\n",
        "</li>\n",
        "<li>\n",
        "הוסיפו את הקוד שלכם בתאים המסומנים ב- Add your code here\n",
        "</li>\n",
        "<li>\n",
        "אל תשנו את הקוד בתאים האחרים\n",
        "</li>\n",
        "</ul>\n",
        "</b>\n",
        "</p>\n",
        "<hr>"
      ]
    },
    {
      "cell_type": "markdown",
      "metadata": {
        "id": "N0pY0ENqw03U"
      },
      "source": [
        "<h2 dir = rtl>\n",
        "תרגיל 1\n",
        "</h2>\n",
        "<p dir = rtl>\n",
        "כתבו את הפעולה הבאה:\n",
        "</p>\n",
        "<code align = \"center\">\n",
        "linear_single_input(w , b , x)\n",
        "</code>\n",
        "<p dir = rtl>\n",
        "הפעולה מקבלת פרמטרים $w$ ו- $b$ וערך בודד $x$\n",
        "</p>\n",
        "<p dir = rtl>\n",
        "הפעולה תחזיר את תוצאת הפונקציה הלינארית $f(x)=wx+b$\n",
        "</p>"
      ]
    },
    {
      "cell_type": "code",
      "metadata": {
        "id": "K1FBl3_yyJvi"
      },
      "source": [
        "# Add your code here"
      ],
      "execution_count": null,
      "outputs": []
    },
    {
      "cell_type": "markdown",
      "source": [
        "<p dir = rtl>\n",
        "הריצו את התא הבא ובידקו את המימוש ביחס לתוצאות המצופות\n",
        "</p>"
      ],
      "metadata": {
        "id": "l-k6p9AIMWoa"
      }
    },
    {
      "cell_type": "code",
      "metadata": {
        "id": "LPXeGJ2IzFza"
      },
      "source": [
        "print(f'w = 0 , b = 0 , x = 0: {linear_single_input(0 , 0 , 0)}')\n",
        "print(f'w = 0 , b = 1 , x = 0: {linear_single_input(0 , 1 , 0)}')\n",
        "print(f'w = 30 , b = 1 , x = 0: {linear_single_input(30 , 1 , 0)}')\n",
        "print(f'w = 30 , b = 1 , x = -2: {linear_single_input(30 , 1 , -2)}')"
      ],
      "execution_count": null,
      "outputs": []
    },
    {
      "cell_type": "markdown",
      "source": [
        "<p>\n",
        "Expected results:\n",
        "</p>\n",
        "<code>\n",
        "w = 0 , b = 0 , x = 0: 0 <br>\n",
        "w = 0 , b = 1 , x = 0: 1 <br>\n",
        "w = 30 , b = 1 , x = 0: 1 <br>\n",
        "w = 30 , b = 1 , x = -2: -59 <br>\n",
        "</code>"
      ],
      "metadata": {
        "id": "YuSslhGyLiBh"
      }
    },
    {
      "cell_type": "markdown",
      "source": [
        "<hr>"
      ],
      "metadata": {
        "id": "QRth_N6wUj4Z"
      }
    },
    {
      "cell_type": "markdown",
      "source": [
        "<h2 dir = rtl>\n",
        "תרגיל 2\n",
        "</h2>\n",
        "<p dir = rtl>\n",
        "כתבו את הפעולה הבאה:\n",
        "</p>\n",
        "<code align = \"center\">\n",
        "dx_linear_single_input(w , b , x)\n",
        "</code>\n",
        "<p dir = rtl>\n",
        "הפעולה מקבלת פרמטרים $w$ ו- $b$ וערך בודד $x$\n",
        "</p>\n",
        "<p dir = rtl>\n",
        "הפעולה תחזיר את תוצאת <b>נגזרת</b> הפונקציה הלינארית $f(x)=wx+b$ בנקודה $x$\n",
        "</p>"
      ],
      "metadata": {
        "id": "30j5tOTKUnjO"
      }
    },
    {
      "cell_type": "code",
      "metadata": {
        "id": "UO4knXEQ2BNJ"
      },
      "source": [
        "# Add your code here"
      ],
      "execution_count": null,
      "outputs": []
    },
    {
      "cell_type": "markdown",
      "source": [
        "<p dir = rtl>\n",
        "הריצו את התא הבא ובידקו את המימוש ביחס לתוצאות המצופות\n",
        "</p>"
      ],
      "metadata": {
        "id": "nfWCPqrfWalt"
      }
    },
    {
      "cell_type": "code",
      "source": [
        "print(f'w = 0 , b = 0 , x = 0: {dx_linear_single_input(0 , 0 , 0)}')\n",
        "print(f'w = 0 , b = 1 , x = 0: {dx_linear_single_input(0 , 1 , 0)}')\n",
        "print(f'w = 30 , b = 1 , x = 0: {dx_linear_single_input(30 , 1 , 0)}')\n",
        "print(f'w = 30 , b = 1 , x = -2: {dx_linear_single_input(30 , 1 , -2)}')"
      ],
      "metadata": {
        "id": "JnAisLb4VSka"
      },
      "execution_count": null,
      "outputs": []
    },
    {
      "cell_type": "markdown",
      "source": [
        "<p>\n",
        "Expected results:\n",
        "</p>\n",
        "<code>\n",
        "w = 0 , b = 0 , x = 0: 0 <br>\n",
        "w = 0 , b = 1 , x = 0: 0 <br>\n",
        "w = 30 , b = 1 , x = 0: 30 <br>\n",
        "w = 30 , b = 1 , x = -2: 30 <br>\n",
        "</code>"
      ],
      "metadata": {
        "id": "vCOMeUKgWywX"
      }
    },
    {
      "cell_type": "markdown",
      "source": [
        "<hr>"
      ],
      "metadata": {
        "id": "-cWVn_VkYnb2"
      }
    },
    {
      "cell_type": "markdown",
      "source": [
        "<h2 dir = rtl>\n",
        "תרגיל 3\n",
        "</h2>\n",
        "<p dir = rtl>\n",
        "כתבו את הפעולה הבאה:\n",
        "</p>\n",
        "<code align = \"center\">\n",
        "linear_multi_input(w , b , x)\n",
        "</code>\n",
        "<p dir = rtl>\n",
        "הפעולה מקבלת פרמטרים $w$ ו- $b$ ורשימה של ערכים  $x$\n",
        "</p>\n",
        "<p dir = rtl>\n",
        "הפעולה מחזירה רשימת התוצאות של הפונקציה הלינארית     $f(x)=wx+b$\n",
        "<br>\n",
        "אין צורך לבדוק שטיפוס המשתנה $x$ הוא אכן רשימה (list)\n",
        "</p>"
      ],
      "metadata": {
        "id": "aUIHenE0YtM2"
      }
    },
    {
      "cell_type": "code",
      "source": [
        "# Add your code here"
      ],
      "metadata": {
        "id": "bw44_HWYVSbO"
      },
      "execution_count": null,
      "outputs": []
    },
    {
      "cell_type": "markdown",
      "source": [
        "<p dir = rtl>\n",
        "הריצו את התא הבא ובידקו את המימוש ביחס לתוצאות המצופות\n",
        "</p>"
      ],
      "metadata": {
        "id": "2Sr-GrUiu5Vi"
      }
    },
    {
      "cell_type": "code",
      "source": [
        "print(f'w = 0 , b = 0 , x = [0 , 2 , -2]: {linear_multi_input(0 , 0 , [0 , 2 , -2])}')\n",
        "print(f'w = 0 , b = 1 , x = [0 , 2 , -2]: {linear_multi_input(0 , 1 , [0 , 2 , -2])}')\n",
        "print(f'w = 30 , b = 1 , x = [0 , 2 , -2]: {linear_multi_input(30 , 1 , [0 , 2 , -2])}')\n",
        "print(f'w = 30 , b = 1 , x = [1.5 , 2,5 , 3.5]: {linear_multi_input(30 , 1 , [1.5 , 2.5 , 3.5])}')"
      ],
      "metadata": {
        "id": "gYhsvtbgVSPx"
      },
      "execution_count": null,
      "outputs": []
    },
    {
      "cell_type": "markdown",
      "source": [
        "<p>\n",
        "Expected results:\n",
        "</p>\n",
        "<code>\n",
        "w = 0 , b = 0 , x = [0 , 2 , -2]: [0, 0, 0] <br>\n",
        "w = 0 , b = 1 , x = [0 , 2 , -2]: [1, 1, 1] <br>\n",
        "w = 30 , b = 1 , x = [0 , 2 , -2]: [1, 61, -59] <br>\n",
        "w = 30 , b = 1 , x = [1.5 , 2,5 , 3.5]: [46.0, 76.0, 106.0]<br>\n",
        "</code>"
      ],
      "metadata": {
        "id": "s0_hv8cjufcv"
      }
    },
    {
      "cell_type": "markdown",
      "source": [
        "<hr>"
      ],
      "metadata": {
        "id": "Xv05KbxpuyzP"
      }
    },
    {
      "cell_type": "markdown",
      "source": [
        "<h2 dir = rtl>\n",
        "תרגיל 4\n",
        "</h2>\n",
        "<p dir = rtl>\n",
        "בהינתן רשימת הפרמטרים הבאה:\n",
        "</p>\n",
        "$W=[w_{n-1} , w_{n-2} , ... , w_{0}]$\n",
        "<p dir = rtl>\n",
        " וערך בודד $x$<br><br>\n",
        "הפעולה:\n",
        "</p>\n",
        "<code align = \"center\">\n",
        "polinomial(W , x)\n",
        "</code>\n",
        "<p dir = rtl>\n",
        "תחשב ותחזיר את הערך של הפונקציה:\n",
        "</p>\n",
        "$f(x) = w_{n-1}x^{n-1}+w_{n-2}x^{n-2}+ ... + w_1x + w_0$\n",
        "<p dir = rtl>\n",
        "ממשו את הפעולה <code>polinomial</code>\n",
        "</p>\n",
        "<p dir = rtl>\n",
        "אם הרשימה $W$ ריקה, הפעולה תחזיר None\n",
        "</p>"
      ],
      "metadata": {
        "id": "xT_tXdnWzUhH"
      }
    },
    {
      "cell_type": "code",
      "source": [
        "# Add your code here"
      ],
      "metadata": {
        "id": "hTV0mbdIYmF7"
      },
      "execution_count": null,
      "outputs": []
    },
    {
      "cell_type": "markdown",
      "source": [
        "<p dir = rtl>\n",
        "הריצו את התא הבא ובידקו את המימוש ביחס לתוצאות המצופות\n",
        "</p>"
      ],
      "metadata": {
        "id": "qsvT8nHT3qO6"
      }
    },
    {
      "cell_type": "code",
      "source": [
        "print(f'W = [1 , 2 , 3] , x = 2: {polinomial([1 , 2 , 3] , 2)}')\n",
        "print(f'W = [.1 , .2 , -0.3] , x = 2: {polinomial([.1 , .2 , -0.3] , 2)}')\n",
        "print(f'W = [] , x = 2: {polinomial([] , 2)}')"
      ],
      "metadata": {
        "id": "A3zGpME9YmCQ"
      },
      "execution_count": null,
      "outputs": []
    },
    {
      "cell_type": "markdown",
      "source": [
        "<p>\n",
        "Expected results:\n",
        "</p>\n",
        "<code>\n",
        "W = [1 , 2 , 3] , x = 2: 17 <br>\n",
        "W = [.1 , .2 , -0.3] , x = 2: -0.7 <br>\n",
        "W = [] , x = 2: None <br>\n",
        "</code>"
      ],
      "metadata": {
        "id": "OZsu-47Wz47l"
      }
    },
    {
      "cell_type": "markdown",
      "source": [
        "<hr>"
      ],
      "metadata": {
        "id": "8TK3xS6g-YGJ"
      }
    },
    {
      "cell_type": "markdown",
      "source": [
        "<h2 dir = rtl>\n",
        "תרגיל 5\n",
        "</h2>\n",
        "<p dir = rtl>\n",
        "בהינתן רשימת הפרמטרים הבאה:\n",
        "</p>\n",
        "$W=[w_{n-1} , w_{n-2} , ... , w_{0}]$\n",
        "<p dir = rtl>\n",
        " וערך בודד $x$<br><br>\n",
        "הפעולה:\n",
        "</p>\n",
        "<code align = \"center\">\n",
        "dx_polinomial(W , x)\n",
        "</code>\n",
        "<p dir = rtl>\n",
        "תחשב ותחזיר את ערך <b>הנגזרת</b> של הפונקציה:\n",
        "</p>\n",
        "$f(x) = w_{n-1}x^{n-1}+w_{n-2}x^{n-2}+ ... + w_1x + w_0$\n",
        "<p dir = rtl>\n",
        "בנקודה $x$\n",
        "<br>\n",
        "ממשו את הפעולה <code>dx_polinomial</code>\n",
        "</p>\n",
        "<p dir = rtl>\n",
        "אם הרשימה $W$ ריקה, הפעולה תחזיר None\n",
        "</p>"
      ],
      "metadata": {
        "id": "RTmSwRvo-dPl"
      }
    },
    {
      "cell_type": "code",
      "source": [
        "# Add your code here"
      ],
      "metadata": {
        "id": "dJEf4jJzYl-r"
      },
      "execution_count": null,
      "outputs": []
    },
    {
      "cell_type": "markdown",
      "source": [
        "<p dir = rtl>\n",
        "הריצו את התא הבא ובידקו את המימוש ביחס לתוצאות המצופות\n",
        "</p>"
      ],
      "metadata": {
        "id": "2ffPGEQiwDWL"
      }
    },
    {
      "cell_type": "code",
      "source": [
        "print(f'W = [1 , 2 , 3] , x = 2: {dx_polinomial([1 , 2 , 3] , 2)}')\n",
        "print(f'W = [.1 , .2 , -0.3] , x = 2: {dx_polinomial([.1 , .2 , -0.3] , 2)}')\n",
        "print(f'W = [] , x = 2: {dx_polinomial([] , 2)}')"
      ],
      "metadata": {
        "id": "KmnGoA9sYl6t"
      },
      "execution_count": null,
      "outputs": []
    },
    {
      "cell_type": "markdown",
      "source": [
        "<p>\n",
        "Expected results:\n",
        "</p>\n",
        "<code>\n",
        "W = [1 , 2 , 3] , x = 2: 14 <br>\n",
        "W = [.1 , .2 , -0.3] , x = 2: -1.0 <br>\n",
        "W = [] , x = 2: None <br>\n",
        "</code>"
      ],
      "metadata": {
        "id": "lVTAQPLYwMaI"
      }
    },
    {
      "cell_type": "markdown",
      "source": [
        "<hr>"
      ],
      "metadata": {
        "id": "UcvXSrzjw4Le"
      }
    },
    {
      "cell_type": "code",
      "source": [],
      "metadata": {
        "id": "4w3hf6mvYl3I"
      },
      "execution_count": null,
      "outputs": []
    },
    {
      "cell_type": "markdown",
      "source": [
        "<hr>\n",
        "<h1 dir = rtl>\n",
        "<b>קטע הסבר קצר לפני התרגילים הבאים</b>\n",
        "</h1>\n",
        "<p dir = rtl>\n",
        "<br>\n",
        "כל התרגילים במחברת זו יהיו על רשימות (lists) בפייתון. נשתמש גם קצת ב tuples. בהמשך נמיר את הפתרונות שעשינו כאן לספריית numpy ונלמד את הכוח של ספרייה זו.\n",
        "<br>\n",
        "אם אתם מרגישים שחסר לכם ידע בנושא lists ו- tuples בפייתון, זה הזמן לחזור לפרק הלימוד המתאים, לרענן, לתרגל ורק אז להמשיך עם המחברת כאן\n",
        "</p>\n",
        "<hr>"
      ],
      "metadata": {
        "id": "aRxM3x910MKd"
      }
    },
    {
      "cell_type": "markdown",
      "source": [
        "<h2 dir = rtl> הקדמה - מטריצות </h2>\n",
        "<p dir = rtl>\n",
        "מטריצה, בהקשר שלנו, היא לא יותר מאשר מערך דו ממדי של מספרים, לרוב ממשיים\n",
        "<br>\n",
        "למשל:\n",
        "</p>\n",
        "<br>\n",
        "$$\n",
        "\\begin{equation}\n",
        "m =\n",
        "\\begin{bmatrix}\n",
        "2.3 & -21.4 & 12.9 \\\\\n",
        "-144.7 & 41.33 & 88.8 \\\\\n",
        "101.1 & 0 & 34.12 \\\\\n",
        "6.2 & -44.09 & -1008.9\n",
        "\\end{bmatrix}\n",
        "\\end{equation}\n",
        "$$\n",
        "<br>\n",
        "<p dir = rtl>\n",
        "m היא דוגמה למטריצה\n",
        "<br>\n",
        "ל- $m$ יש 4 שורות ו- 3 עמודות והיא מכילה מספרים כפי שמודגם למעלה\n",
        "\n",
        "<h3 dir = rtl>\n",
        "ייצוג מטריצה בפייתון בעזרת רשימות, lists\n",
        "</h3>\n",
        "<p dir = rtl>\n",
        "<br>\n",
        "<p dir = rtl>\n",
        "נייצג מטריצה בפיתון באמצעות רשימות. ליתר דיוק רשימה של רשימות.\n",
        "<br>\n",
        "כל שורה במטריצה תהיה רשימה של מספרים והמטריצה כולה תהיה רשימה של שורות (כשכל שורה היא כאמור רשימה בפני עצמה)\n",
        "\n",
        "$$\n",
        "\\begin{equation}\n",
        "m =\n",
        "\\begin{bmatrix}\n",
        "\\begin{bmatrix}2.3 & -21.4 & 12.9 \\end{bmatrix} \\\\\n",
        "\\begin{bmatrix}-144.7 & 41.33 & 88.8 \\end{bmatrix} \\\\\n",
        "\\begin{bmatrix}101.1 & 0 & 34.12 \\end{bmatrix} \\\\\n",
        "\\begin{bmatrix}6.2 & -44.09 & -1008.9 \\end{bmatrix}\n",
        "\\end{bmatrix}\n",
        "\\end{equation}\n",
        "$$\n",
        "<br>\n",
        "<p dir = rtl>\n",
        "זכרו שרשימה בפיתון מוקפת בסוגריים מרובעים [ ]\n",
        "</p>\n"
      ],
      "metadata": {
        "id": "0iNXxyb-1bG5"
      }
    },
    {
      "cell_type": "code",
      "source": [
        "m = [[2.3 , -21.4 , 12.9] , [-144.7 , 41.33 , 88.8] , [101.101 , 0 , 34.12] , [6.2 , -44.09 , -1008.9]]\n",
        "print(m)"
      ],
      "metadata": {
        "id": "6jZ4AhgDw8vu",
        "colab": {
          "base_uri": "https://localhost:8080/"
        },
        "outputId": "ad1175bd-16e7-433b-cc0d-a4cd9a847b7a"
      },
      "execution_count": null,
      "outputs": [
        {
          "output_type": "stream",
          "name": "stdout",
          "text": [
            "[[2.3, -21.4, 12.9], [-144.7, 41.33, 88.8], [101.101, 0, 34.12], [6.2, -44.09, -1008.9]]\n"
          ]
        }
      ]
    },
    {
      "cell_type": "markdown",
      "source": [
        "<h3 dir = rtl>\n",
        "פעולה קצרה שמדפיסה מטריצה הבנוייה כרשימה של רשימות, בצורה קריאה\n",
        "</h3>\n",
        "<p dir = rtl>\n",
        "הפעולה משתמשת ב <code>numpy</code> אז חייבת להיות שורת הקוד הבאה לפני:\n",
        "</p>\n",
        "<code> import numpy as np</code>\n"
      ],
      "metadata": {
        "id": "y5Pvxstx3kjL"
      }
    },
    {
      "cell_type": "code",
      "source": [
        "import numpy as np\n",
        "def matrix_to_str(m):\n",
        "  return str(np.array(m))"
      ],
      "metadata": {
        "id": "U15g2gNBw8lp"
      },
      "execution_count": null,
      "outputs": []
    },
    {
      "cell_type": "code",
      "source": [
        "print(matrix_to_str(m))"
      ],
      "metadata": {
        "id": "uY0xdkFJw8dC",
        "colab": {
          "base_uri": "https://localhost:8080/"
        },
        "outputId": "3d3b0298-217e-4f88-a77b-c6b550de4bfb"
      },
      "execution_count": null,
      "outputs": [
        {
          "output_type": "stream",
          "name": "stdout",
          "text": [
            "[[    2.3     -21.4      12.9  ]\n",
            " [ -144.7      41.33     88.8  ]\n",
            " [  101.101     0.       34.12 ]\n",
            " [    6.2     -44.09  -1008.9  ]]\n"
          ]
        }
      ]
    },
    {
      "cell_type": "code",
      "source": [
        "print(str(np.array(m)))"
      ],
      "metadata": {
        "colab": {
          "base_uri": "https://localhost:8080/"
        },
        "id": "QaoM-w8UIKhh",
        "outputId": "058d6ba0-0510-4bfa-a89d-35bfc471130b"
      },
      "execution_count": null,
      "outputs": [
        {
          "output_type": "stream",
          "name": "stdout",
          "text": [
            "[[    2.3     -21.4      12.9  ]\n",
            " [ -144.7      41.33     88.8  ]\n",
            " [  101.101     0.       34.12 ]\n",
            " [    6.2     -44.09  -1008.9  ]]\n"
          ]
        }
      ]
    },
    {
      "cell_type": "markdown",
      "source": [
        "<h3 dir = rtl>\n",
        "וקטור - מטריצה שבה אחד הממדים הוא 1\n",
        "</h3>\n",
        "<p dir = rtl>\n",
        "וקטור הוא מקרה פרטי של מטריצה שבה אחד הממדים, מספר השורות או מספר העמודות הוא 1\n",
        "<br>\n",
        "וקטור ייוצג כרשימה בעלת ממד אחד\n",
        "</p>"
      ],
      "metadata": {
        "id": "xrZ0x5e_4u6a"
      }
    },
    {
      "cell_type": "markdown",
      "source": [
        "<h3 dir = rtl>\n",
        "תרגיל לדוגמה\n",
        "</h3>\n",
        "<p dir = rtl>\n",
        "כתבו את הפעולה:\n",
        "</p>\n",
        "<code> get_row(m , r) </code>\n",
        "<p dir = rtl>\n",
        "הפעולה מקבלת מטריצה <code>m</code> ומספר שלם <code>r</code> המציין אינדקס שורה. הפעולה תחזיר מטריצה בת שורה אחת בלבד שערכיה כערכי השורה <code>r</code> במטריצה <code>m</code>\n",
        "<br>\n",
        "דרך לכאורה פשוטה לממש את הפעולה היא:\n",
        "</p>"
      ],
      "metadata": {
        "id": "0DTvZlkk443Y"
      }
    },
    {
      "cell_type": "code",
      "source": [
        "def get_row(m , r):\n",
        "  return m[r]"
      ],
      "metadata": {
        "id": "5xe97d4rw8To"
      },
      "execution_count": null,
      "outputs": []
    },
    {
      "cell_type": "code",
      "source": [
        "row = get_row(m , 0)\n",
        "print(row)"
      ],
      "metadata": {
        "id": "BJQlExG0w8Kt",
        "colab": {
          "base_uri": "https://localhost:8080/"
        },
        "outputId": "0accef08-7a09-406f-91be-b2f0d42758ff"
      },
      "execution_count": null,
      "outputs": [
        {
          "output_type": "stream",
          "name": "stdout",
          "text": [
            "[2.3, -21.4, 12.9]\n"
          ]
        }
      ]
    },
    {
      "cell_type": "markdown",
      "source": [
        "<p dir = rtl>\n",
        "לכאורה עובד. קיבלנו את השורה הראשונה של המטריצה <code>m</code> שהגדרנו למעלה\n",
        "<br>\n",
        "אבל יש כמה בעיות עם הפתרון הזה. נציג אותן וניתן להן פתרון\n",
        "<br><br>\n",
        "בעיה ראשונה:\n",
        "</p>"
      ],
      "metadata": {
        "id": "juco2e5D5WkO"
      }
    },
    {
      "cell_type": "code",
      "source": [
        "print(f'm before:\\n\\n {matrix_to_str(m)}\\n\\n')\n",
        "row[0] = 2.4\n",
        "print(f'row after modifying its first element: \\n\\n {str(row)}\\n\\n')\n",
        "print(f'm after:\\n\\n {matrix_to_str(m)}\\n\\n')"
      ],
      "metadata": {
        "id": "1eHahER-5vnf",
        "colab": {
          "base_uri": "https://localhost:8080/"
        },
        "outputId": "ca17c082-2af6-4ee8-e580-50afd5b95223"
      },
      "execution_count": null,
      "outputs": [
        {
          "output_type": "stream",
          "name": "stdout",
          "text": [
            "m before:\n",
            "\n",
            " [[    2.3     -21.4      12.9  ]\n",
            " [ -144.7      41.33     88.8  ]\n",
            " [  101.101     0.       34.12 ]\n",
            " [    6.2     -44.09  -1008.9  ]]\n",
            "\n",
            "\n",
            "row after modifying its first element: \n",
            "\n",
            " [2.4, -21.4, 12.9]\n",
            "\n",
            "\n",
            "m after:\n",
            "\n",
            " [[    2.4     -21.4      12.9  ]\n",
            " [ -144.7      41.33     88.8  ]\n",
            " [  101.101     0.       34.12 ]\n",
            " [    6.2     -44.09  -1008.9  ]]\n",
            "\n",
            "\n"
          ]
        }
      ]
    },
    {
      "cell_type": "markdown",
      "source": [
        "<p dir = rtl>\n",
        "אחרי שחילצנו את השורה הראשונה של המטריצה ושמנו אותה במשתנה <code>row</code> שינינו את האיבר הראשון של <code>row</code> אבל זה שינה גם את האיבר המתאים במטריצה המקור! זו לא היתה הכוונה. זה קרה משום שהמשתנה <code>row</code> הוא הפנייה לשורה הראשונה במטריצת המקור ולא הפנייה למטריצה חדשה. כדי לתקן, נכתוב:\n",
        "</p>"
      ],
      "metadata": {
        "id": "cAa-XXJp8drb"
      }
    },
    {
      "cell_type": "code",
      "source": [
        "def get_row(m , r):\n",
        "  new_list = []\n",
        "  for i in range(len(m[r])):\n",
        "    new_list.append(m[r][i])\n",
        "  return new_list"
      ],
      "metadata": {
        "id": "eG1ea3PF5vmA"
      },
      "execution_count": null,
      "outputs": []
    },
    {
      "cell_type": "code",
      "source": [
        "row1 = get_row(m , 1)\n",
        "print(row1)\n",
        "print(f'm before:\\n\\n {matrix_to_str(m)}\\n\\n')\n",
        "row1[1] = 2.4\n",
        "print(f'row after modifying its first element: \\n\\n {str(row1)}\\n\\n')\n",
        "print(f'm after:\\n\\n {matrix_to_str(m)}\\n\\n')"
      ],
      "metadata": {
        "id": "WMmAiAVO5vi9",
        "colab": {
          "base_uri": "https://localhost:8080/"
        },
        "outputId": "b4d04a31-3c7f-460f-9c0b-7eeb4cb09a4b"
      },
      "execution_count": null,
      "outputs": [
        {
          "output_type": "stream",
          "name": "stdout",
          "text": [
            "[-144.7, 41.33, 88.8]\n",
            "m before:\n",
            "\n",
            " [[    2.4     -21.4      12.9  ]\n",
            " [ -144.7      41.33     88.8  ]\n",
            " [  101.101     0.       34.12 ]\n",
            " [    6.2     -44.09  -1008.9  ]]\n",
            "\n",
            "\n",
            "row after modifying its first element: \n",
            "\n",
            " [-144.7, 2.4, 88.8]\n",
            "\n",
            "\n",
            "m after:\n",
            "\n",
            " [[    2.4     -21.4      12.9  ]\n",
            " [ -144.7      41.33     88.8  ]\n",
            " [  101.101     0.       34.12 ]\n",
            " [    6.2     -44.09  -1008.9  ]]\n",
            "\n",
            "\n"
          ]
        }
      ]
    },
    {
      "cell_type": "markdown",
      "source": [
        "<p dir = rtl>\n",
        "הפעם יצרנו עותק של השורה הראשונה ואז שינוי בעותק לא שינה את המקור. נפתר!\n",
        "<br>\n",
        "</p>"
      ],
      "metadata": {
        "id": "wL0IBcqB9Cy9"
      }
    },
    {
      "cell_type": "markdown",
      "source": [
        "<p dir = rtl>\n",
        "<br><br>\n",
        "בעיה שניה: לא בדקנו שהפרמטר <code>r</code> הוא בטווח שלא חורג ממספרי השורות במטריצה\n",
        "<br>\n",
        "נראה דרך אחת לממש את הבדיקה\n",
        "</p>"
      ],
      "metadata": {
        "id": "6ZUq6AVw9lM-"
      }
    },
    {
      "cell_type": "code",
      "source": [
        "def get_row(m , r):\n",
        "  if r < 0 or r > len(m):\n",
        "    raise ValueError(f'parameter r is out of range: {r}')\n",
        "  new_list = []\n",
        "  for i in range(len(m[r])):\n",
        "    new_list.append(m[r][i])\n",
        "  return new_list"
      ],
      "metadata": {
        "id": "iNJjDlEg5vUl"
      },
      "execution_count": null,
      "outputs": []
    },
    {
      "cell_type": "code",
      "source": [
        "m = [[2.3 , -21.4 , 12.9] , [-144.7 , 41.33 , 88.8] , [101.101 , 0 , 34.12] , [6.2 , -44.09 , -1008.9]]\n",
        "row = get_row(m , 1)\n",
        "print(row)"
      ],
      "metadata": {
        "id": "8_jTvt4x5vQs",
        "colab": {
          "base_uri": "https://localhost:8080/"
        },
        "outputId": "f1a937fc-ff61-4403-cf72-e9116acbe3be"
      },
      "execution_count": null,
      "outputs": [
        {
          "output_type": "stream",
          "name": "stdout",
          "text": [
            "[-144.7, 41.33, 88.8]\n"
          ]
        }
      ]
    },
    {
      "cell_type": "markdown",
      "source": [
        "<p dir = rtl>\n",
        "למעשה הרחבנו את הודעות השגיאה של פייתון. ההדפסה בתחתית הודעת השגיאה באה מתוך הפעולה שלנו\n",
        "<br>\n",
        "נסו לזמן את הפעולה עם פרמטר r מחוץ לטווח וצפו בהודעת השגיאה\n",
        "</p>"
      ],
      "metadata": {
        "id": "uT7ZXh0b-WIW"
      }
    },
    {
      "cell_type": "markdown",
      "source": [
        "<h1 dir = rtl>\n",
        "<b>סוף קטע ההסבר </b>\n",
        "</h1>\n",
        "<hr>"
      ],
      "metadata": {
        "id": "7cLecV7n-sc0"
      }
    },
    {
      "cell_type": "markdown",
      "source": [
        "<h2 dir = rtl>\n",
        "תרגיל 6\n",
        "</h2>\n",
        "<p dir = rtl>\n",
        "כתבו את הפעולה:\n",
        "</p>\n",
        "<code> get_col(m , c) </code>\n",
        "<p dir = rtl>\n",
        "הפעולה מקבלת מטריצה <code>m</code> ומספר שלם <code>r</code> המציין אינדקס עמודה. הפעולה תחזיר וקטור בן שורה אחת בלבד שערכיו כערכי העמודה <code>c</code> במטריצה <code>m</code>\n",
        "<br>\n",
        "המימוש אמורלהיות דומה מאוד ל <code>get_row(m , r)</code> שהודגמה למעלה</p>"
      ],
      "metadata": {
        "id": "DWbt7ZMIt6Eq"
      }
    },
    {
      "cell_type": "code",
      "source": [
        "# Add your code here"
      ],
      "metadata": {
        "id": "4hiigwbSu1N0"
      },
      "execution_count": null,
      "outputs": []
    },
    {
      "cell_type": "markdown",
      "source": [
        "<p dir = rtl>\n",
        "הריצו את התא הבא ובידקו את המימוש ביחס לתוצאות המצופות\n",
        "</p>"
      ],
      "metadata": {
        "id": "Y32AXfhdu2AI"
      }
    },
    {
      "cell_type": "code",
      "source": [
        "m = [[2.3 , -21.4 , 12.9] , [-144.7 , 41.33 , 88.8] , [101.101 , 0 , 34.12] , [6.2 , -44.09 , -1008.9]]\n",
        "col = get_col(m , 1)\n",
        "print(col)"
      ],
      "metadata": {
        "id": "DZ939o6pvq9Y"
      },
      "execution_count": null,
      "outputs": []
    },
    {
      "cell_type": "markdown",
      "source": [
        "<p>\n",
        "Expected results:\n",
        "</p>\n",
        "<code>\n",
        "[-21.4, 41.33, 0, -44.09]\n",
        "</code>"
      ],
      "metadata": {
        "id": "tvKAFszNv5sF"
      }
    },
    {
      "cell_type": "markdown",
      "source": [
        "<hr>"
      ],
      "metadata": {
        "id": "LWOZDUHjwCx2"
      }
    },
    {
      "cell_type": "markdown",
      "source": [
        "<h2 dir = rtl>\n",
        "תרגיל 7\n",
        "</h2>\n",
        "<p dir = rtl>\n",
        "כיתבו את הפעולה:\n",
        "</p>\n",
        "</p>\n",
        "<code align = \"center\">\n",
        "vector_mul(V , x)\n",
        "</code>\n",
        "<p dir = rtl>\n",
        "הפעולה מקבלת וקטור מספרים כרשימת פיתון\n",
        "<br>\n",
        "הפעולה תחזיר הפניה לוקטור חדש שבו כל איבר הוא תוצאת הכפל בין האיבר המתאים בקטור שהתקבל כפרמטר לפרמטר x<br><br>\n",
        "<b>הדרכה:</b><br>\n",
        "יש להשתמש בפעולת append כפי שהודגם למעלה<br>\n",
        "</p>"
      ],
      "metadata": {
        "id": "d5cGLxuQ6CUA"
      }
    },
    {
      "cell_type": "code",
      "source": [
        "# Add your code here"
      ],
      "metadata": {
        "id": "SCG_QV_B8DHH"
      },
      "execution_count": null,
      "outputs": []
    },
    {
      "cell_type": "markdown",
      "source": [
        "<p dir = rtl>\n",
        "הריצו את התא הבא ובידקו את המימוש ביחס לתוצאות המצופות\n",
        "</p>"
      ],
      "metadata": {
        "id": "IArrQGWh8hjr"
      }
    },
    {
      "cell_type": "code",
      "source": [
        "print(str(vector_mul([1 , 2 , 4 , 3.5 , 2 , 1 , 0 , -1] , 0.55)))"
      ],
      "metadata": {
        "id": "s5BXR0y_8jR8"
      },
      "execution_count": null,
      "outputs": []
    },
    {
      "cell_type": "markdown",
      "source": [
        "<p>\n",
        "Expected results:\n",
        "</p>\n",
        "<code>\n",
        "[0.55, 1.1, 2.2, 1.9250000000000003, 1.1, 0.55, 0.0, -0.55]\n",
        "</code>"
      ],
      "metadata": {
        "id": "FMerIm2m9EvA"
      }
    },
    {
      "cell_type": "markdown",
      "source": [
        "<hr>"
      ],
      "metadata": {
        "id": "VUqtEZSx9cMJ"
      }
    },
    {
      "cell_type": "markdown",
      "source": [
        "<h2 dir = rtl>\n",
        "תרגיל 8\n",
        "</h2>\n",
        "<p dir = rtl>\n",
        "כיתבו את הפעולה:\n",
        "</p>\n",
        "</p>\n",
        "<code align = \"center\">\n",
        "inner_product(V1 , V2)\n",
        "</code>\n",
        "<p dir = rtl>\n",
        "הפעולה מקבלת שני וקטורי מספרים כרשימת פיתון\n",
        "<br>\n",
        "הפעולה מחזירה מספר בודד שהוא המכפלה הפנימית של שני הוקטורים שהתקבלו. מכפלה פנימית של שני וקטורים היא סכום מכפלות האיברים המתאימים בשני הוקטורים\n",
        "<br>\n",
        "שני הוקטורים חייבים להיות באותו אורך. יש לבדוק זאת בפעולה ולהוציא הודעת שגיאה אם אורכי הוקטורים לא שווים כפי שהודגם למעלה\n",
        "</p>"
      ],
      "metadata": {
        "id": "cyjJjjXK9fvI"
      }
    },
    {
      "cell_type": "code",
      "source": [
        "# Add your code here\n"
      ],
      "metadata": {
        "id": "2J0fVMlJ-oP7"
      },
      "execution_count": null,
      "outputs": []
    },
    {
      "cell_type": "markdown",
      "source": [
        "<p dir = rtl>\n",
        "הריצו את התא הבא ובידקו את המימוש ביחס לתוצאות המצופות\n",
        "</p>"
      ],
      "metadata": {
        "id": "QoQPMQUU_rV-"
      }
    },
    {
      "cell_type": "code",
      "source": [
        "print(inner_product([9 , 8 , 7] , [1 , 2 , 1]))\n",
        "print(inner_product([9 , 8 , 7] , [1 , 2]))"
      ],
      "metadata": {
        "id": "aouezXOz_tvJ"
      },
      "execution_count": null,
      "outputs": []
    },
    {
      "cell_type": "markdown",
      "source": [
        "<p>\n",
        "Expected results:\n",
        "</p>"
      ],
      "metadata": {
        "id": "IIHINineBg_E"
      }
    },
    {
      "cell_type": "markdown",
      "source": [
        "![err.JPG](data:image/jpeg;base64,/9j/4AAQSkZJRgABAQEAkACQAAD/4RDsRXhpZgAATU0AKgAAAAgABAE7AAIAAAALAAAISodpAAQAAAABAAAIVpydAAEAAAAWAAAQzuocAAcAAAgMAAAAPgAAAAAc6gAAAAgAAAAAAAAAAAAAAAAAAAAAAAAAAAAAAAAAAAAAAAAAAAAAAAAAAAAAAAAAAAAAAAAAAAAAAAAAAAAAAAAAAAAAAAAAAAAAAAAAAAAAAAAAAAAAAAAAAAAAAAAAAAAAAAAAAAAAAAAAAAAAAAAAAAAAAAAAAAAAAAAAAAAAAAAAAAAAAAAAAAAAAAAAAAAAAAAAAAAAAAAAAAAAAAAAAAAAAAAAAAAAAAAAAAAAAAAAAAAAAAAAAAAAAAAAAAAAAAAAAAAAAAAAAAAAAAAAAAAAAAAAAAAAAAAAAAAAAAAAAAAAAAAAAAAAAAAAAAAAAAAAAAAAAAAAAAAAAAAAAAAAAAAAAAAAAAAAAAAAAAAAAAAAAAAAAAAAAAAAAAAAAAAAAAAAAAAAAAAAAAAAAAAAAAAAAAAAAAAAAAAAAAAAAAAAAAAAAAAAAAAAAAAAAAAAAAAAAAAAAAAAAAAAAAAAAAAAAAAAAAAAAAAAAAAAAAAAAAAAAAAAAAAAAAAAAAAAAAAAAAAAAAAAAAAAAAAAAAAAAAAAAAAAAAAAAAAAAAAAAAAAAAAAAAAAAAAAAAAAAAAAAAAAAAAAAAAAAAAAAAAAAAAAAAAAAAAAAAAAAAAAAAAAAAAAAAAAAAAAAAAAAAAAAAAAAAAAAAAAAAAAAAAAAAAAAAAAAAAAAAAAAAAAAAAAAAAAAAAAAAAAAAAAAAAAAAAAAAAAAAAAAAAAAAAAAAAAAAAAAAAAAAAAAAAAAAAAAAAAAAAAAAAAAAAAAAAAAAAAAAAAAAAAAAAAAAAAAAAAAAAAAAAAAAAAAAAAAAAAAAAAAAAAAAAAAAAAAAAAAAAAAAAAAAAAAAAAAAAAAAAAAAAAAAAAAAAAAAAAAAAAAAAAAAAAAAAAAAAAAAAAAAAAAAAAAAAAAAAAAAAAAAAAAAAAAAAAAAAAAAAAAAAAAAAAAAAAAAAAAAAAAAAAAAAAAAAAAAAAAAAAAAAAAAAAAAAAAAAAAAAAAAAAAAAAAAAAAAAAAAAAAAAAAAAAAAAAAAAAAAAAAAAAAAAAAAAAAAAAAAAAAAAAAAAAAAAAAAAAAAAAAAAAAAAAAAAAAAAAAAAAAAAAAAAAAAAAAAAAAAAAAAAAAAAAAAAAAAAAAAAAAAAAAAAAAAAAAAAAAAAAAAAAAAAAAAAAAAAAAAAAAAAAAAAAAAAAAAAAAAAAAAAAAAAAAAAAAAAAAAAAAAAAAAAAAAAAAAAAAAAAAAAAAAAAAAAAAAAAAAAAAAAAAAAAAAAAAAAAAAAAAAAAAAAAAAAAAAAAAAAAAAAAAAAAAAAAAAAAAAAAAAAAAAAAAAAAAAAAAAAAAAAAAAAAAAAAAAAAAAAAAAAAAAAAAAAAAAAAAAAAAAAAAAAAAAAAAAAAAAAAAAAAAAAAAAAAAAAAAAAAAAAAAAAAAAAAAAAAAAAAAAAAAAAAAAAAAAAAAAAAAAAAAAAAAAAAAAAAAAAAAAAAAAAAAAAAAAAAAAAAAAAAAAAAAAAAAAAAAAAAAAAAAAAAAAAAAAAAAAAAAAAAAAAAAAAAAAAAAAAAAAAAAAAAAAAAAAAAAAAAAAAAAAAAAAAAAAAAAAAAAAAAAAAAAAAAAAAAAAAAAAAAAAAAAAAAAAAAAAAAAAAAAAAAAAAAAAAAAAAAAAAAAAAAAAAAAAAAAAAAAAAAAAAAAAAAAAAAAAAAAAAAAAAAAAAAAAAAAAAAAAAAAAAAAAAAAAAAAAAAAAAAAAAAAAAAAAAAAAAAAAAAAAAAAAAAAAAAAAAAAAAAAAAAAAAAAAAAAAAAAAAAAAAAAAAAAAAAAAAAAAAAAAAAAAAAAAAAAAAAAAAAAAAAAAAAAAAAAAAAAAAAAAAAAAAAAAAAAAAAAAAAAAAAAAAAAAAAAAAAAAAAAAAAAAAAAAAAAAAAAAAAAAAAAAAAAAAAAAAAAAAAAAAAAAAAAAAAAAAAAAAAAAAAAAAAAAAAAAAAAAAAAAAAAAAAAAAAAAAAAAAAAAAAAAAAAAAAAAAAAAAAAAAAAAAAAAAAAAAAAAAAAAAAAAAAAAAAAAAAAAAAAAAAAAAAAAAAAAAAAAAAAAAAAAAAAAAAAAAAAAAAAAAAAAAAAAAAAAAAAAAAAAAAAAAAAAAAAAAAAAAAAAAAAAAAAAAAAAAAAAAAAAAAAAAAAAAAAAAAAAAAAAAAAAAAAAAAAAAAAAAAAAAAAAAAAAAAAAAAAAAAAAAAAAAAAAAAAAAAAAAAAAAAAAAAAAAAAAAAAAAAAAAAAAAAAAAAAAAAAAAAAAAAAAAAAAAAAAAAAAAAAAAAAAAAAAAAAAAAAAAAAAAAAAAAAAAAAAAAAAAAAAAAAAAAAAAAAAAAAAAAAAAAAAAAAAAAAAAAAAAAAAAAAAAAAAAAAAAAAAAAAAAAAAAAAAAAAAAAAAAAAAAAAAAAAAAAAAAAAAAAAAAAAAAAAAAAAAAAAAAAAAAAAAAAAAAAAAAAAAAAAAAAAAAAAAAAAAAAAAAAAAAAAAAAAAAAAAAAAAAAAAAAAAAAAAAAAAAAAAAAAAAAAAAAAAAAAAAAAAAAAAAAAAAAAAAAAAAAAAAAAAAAAAAAAAAAAAAAAAAAAAAAAAAAAAAAAAAAAAAAAAAAAAAAAAAAAAAAAAAAAAAAAAAAAAAAAAAAAAAAAAAAAAAAAAAAAAAAAAAAAAAAAAAAAAAAAAAAAAAAAAAAAAAAAAAAAAAAAAAAAAAAAAAAAAAAAE9yYW4gVXpyYWQAAAAFkAMAAgAAABQAABCkkAQAAgAAABQAABC4kpEAAgAAAAM0NgAAkpIAAgAAAAM0NgAA6hwABwAACAwAAAiYAAAAABzqAAAACAAAAAAAAAAAAAAAAAAAAAAAAAAAAAAAAAAAAAAAAAAAAAAAAAAAAAAAAAAAAAAAAAAAAAAAAAAAAAAAAAAAAAAAAAAAAAAAAAAAAAAAAAAAAAAAAAAAAAAAAAAAAAAAAAAAAAAAAAAAAAAAAAAAAAAAAAAAAAAAAAAAAAAAAAAAAAAAAAAAAAAAAAAAAAAAAAAAAAAAAAAAAAAAAAAAAAAAAAAAAAAAAAAAAAAAAAAAAAAAAAAAAAAAAAAAAAAAAAAAAAAAAAAAAAAAAAAAAAAAAAAAAAAAAAAAAAAAAAAAAAAAAAAAAAAAAAAAAAAAAAAAAAAAAAAAAAAAAAAAAAAAAAAAAAAAAAAAAAAAAAAAAAAAAAAAAAAAAAAAAAAAAAAAAAAAAAAAAAAAAAAAAAAAAAAAAAAAAAAAAAAAAAAAAAAAAAAAAAAAAAAAAAAAAAAAAAAAAAAAAAAAAAAAAAAAAAAAAAAAAAAAAAAAAAAAAAAAAAAAAAAAAAAAAAAAAAAAAAAAAAAAAAAAAAAAAAAAAAAAAAAAAAAAAAAAAAAAAAAAAAAAAAAAAAAAAAAAAAAAAAAAAAAAAAAAAAAAAAAAAAAAAAAAAAAAAAAAAAAAAAAAAAAAAAAAAAAAAAAAAAAAAAAAAAAAAAAAAAAAAAAAAAAAAAAAAAAAAAAAAAAAAAAAAAAAAAAAAAAAAAAAAAAAAAAAAAAAAAAAAAAAAAAAAAAAAAAAAAAAAAAAAAAAAAAAAAAAAAAAAAAAAAAAAAAAAAAAAAAAAAAAAAAAAAAAAAAAAAAAAAAAAAAAAAAAAAAAAAAAAAAAAAAAAAAAAAAAAAAAAAAAAAAAAAAAAAAAAAAAAAAAAAAAAAAAAAAAAAAAAAAAAAAAAAAAAAAAAAAAAAAAAAAAAAAAAAAAAAAAAAAAAAAAAAAAAAAAAAAAAAAAAAAAAAAAAAAAAAAAAAAAAAAAAAAAAAAAAAAAAAAAAAAAAAAAAAAAAAAAAAAAAAAAAAAAAAAAAAAAAAAAAAAAAAAAAAAAAAAAAAAAAAAAAAAAAAAAAAAAAAAAAAAAAAAAAAAAAAAAAAAAAAAAAAAAAAAAAAAAAAAAAAAAAAAAAAAAAAAAAAAAAAAAAAAAAAAAAAAAAAAAAAAAAAAAAAAAAAAAAAAAAAAAAAAAAAAAAAAAAAAAAAAAAAAAAAAAAAAAAAAAAAAAAAAAAAAAAAAAAAAAAAAAAAAAAAAAAAAAAAAAAAAAAAAAAAAAAAAAAAAAAAAAAAAAAAAAAAAAAAAAAAAAAAAAAAAAAAAAAAAAAAAAAAAAAAAAAAAAAAAAAAAAAAAAAAAAAAAAAAAAAAAAAAAAAAAAAAAAAAAAAAAAAAAAAAAAAAAAAAAAAAAAAAAAAAAAAAAAAAAAAAAAAAAAAAAAAAAAAAAAAAAAAAAAAAAAAAAAAAAAAAAAAAAAAAAAAAAAAAAAAAAAAAAAAAAAAAAAAAAAAAAAAAAAAAAAAAAAAAAAAAAAAAAAAAAAAAAAAAAAAAAAAAAAAAAAAAAAAAAAAAAAAAAAAAAAAAAAAAAAAAAAAAAAAAAAAAAAAAAAAAAAAAAAAAAAAAAAAAAAAAAAAAAAAAAAAAAAAAAAAAAAAAAAAAAAAAAAAAAAAAAAAAAAAAAAAAAAAAAAAAAAAAAAAAAAAAAAAAAAAAAAAAAAAAAAAAAAAAAAAAAAAAAAAAAAAAAAAAAAAAAAAAAAAAAAAAAAAAAAAAAAAAAAAAAAAAAAAAAAAAAAAAAAAAAAAAAAAAAAAAAAAAAAAAAAAAAAAAAAAAAAAAAAAAAAAAAAAAAAAAAAAAAAAAAAAAAAAAAAAAAAAAAAAAAAAAAAAAAAAAAAAAAAAAAAAAAAAAAAAAAAAAAAAAAAAAAAAAAAAAAAAAAAAAAAAAAAAAAAAAAAAAAAAAAAAAAAAAAAAAAAAAAAAAAAAAAAAAAAAAAAAAAAAAAAAAAAAAAAAAAAAAAAAAAAAAAAAAAAAAAAAAAAAAAAAAAAAAAAAAAAAAAAAAAAAAAAAAAAAAAAAAAAAAAAAAAAAAAAAAAAAAAAAAAAAAAAAAAAAAAAAAAAAAAAAAAAAAAAAAAAAAAAAAAAAAAAAAAAAAAAAAAAAAAAAAAAAAAAAAAAAAAAAAAAAAAAAAAAAAAAAAAAAAAAAAAAAAAAAAAAAAAAAAAAAAAAAAAAAAAAAAAAAAAAAAAAAAAAAAAAAAAAAAAAAAAAAAAAAAAAAAAAAAAAAAAAAAAAAAAAAAAAAAAAAAAAAAAAAAAAAAAAAAAAAAAAAAAAAAAAAAAAAAAAAAAAAAAAAAAAAAAAAAAAAAAAAAAAAAAAAAAAAAAAAAAAAAAAAAAAAAAAAAAAAAAAAAAAAAAAAAAAAAAAAAAAAAAAAAAAAAAAAAAAAAAAAAAAAAAAAAAAAAAAAAAAAAAAAAAAAAAAAAAAAAAAAAAAAAAAAAAAAAAAAAAAAAAAAAAAAAAAAAAAAAAAAAAAAAAAAAAAAAAAAAAAAAAAAAAAAAAAAAAAAAAAAAAAAAAAAAAAAAAAAAAAAAAAAAAAAAAAAAAAAAAAAAAAAAAAAAAAAAAAAAAAAAAAAAAAAAAAAAAAAAAAAAAAAAAAAAAAAAAAAAAAAAAAAAAAAAAAAAAAAAAAAAAAAAAAAAAAAAAAAAAAAAAAAAAAAAAAAAAAAAAAAAAAAAAAAAAAAAAAAAAAAAAAAAAAAAAAAAAAAAAAMjAyMjowODoxOCAyMDozNDowNQAyMDIyOjA4OjE4IDIwOjM0OjA1AAAATwByAGEAbgAgAFUAegByAGEAZAAAAP/hCx1odHRwOi8vbnMuYWRvYmUuY29tL3hhcC8xLjAvADw/eHBhY2tldCBiZWdpbj0n77u/JyBpZD0nVzVNME1wQ2VoaUh6cmVTek5UY3prYzlkJz8+DQo8eDp4bXBtZXRhIHhtbG5zOng9ImFkb2JlOm5zOm1ldGEvIj48cmRmOlJERiB4bWxuczpyZGY9Imh0dHA6Ly93d3cudzMub3JnLzE5OTkvMDIvMjItcmRmLXN5bnRheC1ucyMiPjxyZGY6RGVzY3JpcHRpb24gcmRmOmFib3V0PSJ1dWlkOmZhZjViZGQ1LWJhM2QtMTFkYS1hZDMxLWQzM2Q3NTE4MmYxYiIgeG1sbnM6ZGM9Imh0dHA6Ly9wdXJsLm9yZy9kYy9lbGVtZW50cy8xLjEvIi8+PHJkZjpEZXNjcmlwdGlvbiByZGY6YWJvdXQ9InV1aWQ6ZmFmNWJkZDUtYmEzZC0xMWRhLWFkMzEtZDMzZDc1MTgyZjFiIiB4bWxuczp4bXA9Imh0dHA6Ly9ucy5hZG9iZS5jb20veGFwLzEuMC8iPjx4bXA6Q3JlYXRlRGF0ZT4yMDIyLTA4LTE4VDIwOjM0OjA1LjQ2MTwveG1wOkNyZWF0ZURhdGU+PC9yZGY6RGVzY3JpcHRpb24+PHJkZjpEZXNjcmlwdGlvbiByZGY6YWJvdXQ9InV1aWQ6ZmFmNWJkZDUtYmEzZC0xMWRhLWFkMzEtZDMzZDc1MTgyZjFiIiB4bWxuczpkYz0iaHR0cDovL3B1cmwub3JnL2RjL2VsZW1lbnRzLzEuMS8iPjxkYzpjcmVhdG9yPjxyZGY6U2VxIHhtbG5zOnJkZj0iaHR0cDovL3d3dy53My5vcmcvMTk5OS8wMi8yMi1yZGYtc3ludGF4LW5zIyI+PHJkZjpsaT5PcmFuIFV6cmFkPC9yZGY6bGk+PC9yZGY6U2VxPg0KCQkJPC9kYzpjcmVhdG9yPjwvcmRmOkRlc2NyaXB0aW9uPjwvcmRmOlJERj48L3g6eG1wbWV0YT4NCiAgICAgICAgICAgICAgICAgICAgICAgICAgICAgICAgICAgICAgICAgICAgICAgICAgICAgICAgICAgICAgICAgICAgICAgICAgICAgICAgICAgICAgICAgICAgICAgICAgICAKICAgICAgICAgICAgICAgICAgICAgICAgICAgICAgICAgICAgICAgICAgICAgICAgICAgICAgICAgICAgICAgICAgICAgICAgICAgICAgICAgICAgICAgICAgICAgICAgICAgIAogICAgICAgICAgICAgICAgICAgICAgICAgICAgICAgICAgICAgICAgICAgICAgICAgICAgICAgICAgICAgICAgICAgICAgICAgICAgICAgICAgICAgICAgICAgICAgICAgICAgCiAgICAgICAgICAgICAgICAgICAgICAgICAgICAgICAgICAgICAgICAgICAgICAgICAgICAgICAgICAgICAgICAgICAgICAgICAgICAgICAgICAgICAgICAgICAgICAgICAgICAKICAgICAgICAgICAgICAgICAgICAgICAgICAgICAgICAgICAgICAgICAgICAgICAgICAgICAgICAgICAgICAgICAgICAgICAgICAgICAgICAgICAgICAgICAgICAgICAgICAgIAogICAgICAgICAgICAgICAgICAgICAgICAgICAgICAgICAgICAgICAgICAgICAgICAgICAgICAgICAgICAgICAgICAgICAgICAgICAgICAgICAgICAgICAgICAgICAgICAgICAgCiAgICAgICAgICAgICAgICAgICAgICAgICAgICAgICAgICAgICAgICAgICAgICAgICAgICAgICAgICAgICAgICAgICAgICAgICAgICAgICAgICAgICAgICAgICAgICAgICAgICAKICAgICAgICAgICAgICAgICAgICAgICAgICAgICAgICAgICAgICAgICAgICAgICAgICAgICAgICAgICAgICAgICAgICAgICAgICAgICAgICAgICAgICAgICAgICAgICAgICAgIAogICAgICAgICAgICAgICAgICAgICAgICAgICAgICAgICAgICAgICAgICAgICAgICAgICAgICAgICAgICAgICAgICAgICAgICAgICAgICAgICAgICAgICAgICAgICAgICAgICAgCiAgICAgICAgICAgICAgICAgICAgICAgICAgICAgICAgICAgICAgICAgICAgICAgICAgICAgICAgICAgICAgICAgICAgICAgICAgICAgICAgICAgICAgICAgICAgICAgICAgICAKICAgICAgICAgICAgICAgICAgICAgICAgICAgICAgICAgICAgICAgICAgICAgICAgICAgICAgICAgICAgICAgICAgICAgICAgICAgICAgICAgICAgICAgICAgICAgICAgICAgIAogICAgICAgICAgICAgICAgICAgICAgICAgICAgICAgICAgICAgICAgICAgICAgICAgICAgICAgICAgICAgICAgICAgICAgICAgICAgICAgICAgICAgICAgICAgICAgICAgICAgCiAgICAgICAgICAgICAgICAgICAgICAgICAgICAgICAgICAgICAgICAgICAgICAgICAgICAgICAgICAgICAgICAgICAgICAgICAgICAgICAgICAgICAgICAgICAgICAgICAgICAKICAgICAgICAgICAgICAgICAgICAgICAgICAgICAgICAgICAgICAgICAgICAgICAgICAgICAgICAgICAgICAgICAgICAgICAgICAgICAgICAgICAgICAgICAgICAgICAgICAgIAogICAgICAgICAgICAgICAgICAgICAgICAgICAgICAgICAgICAgICAgICAgICAgICAgICAgICAgICAgICAgICAgICAgICAgICAgICAgICAgICAgICAgICAgICAgICAgICAgICAgCiAgICAgICAgICAgICAgICAgICAgICAgICAgICAgICAgICAgICAgICAgICAgICAgICAgICAgICAgICAgICAgICAgICAgICAgICAgICAgICAgICAgICAgICAgICAgICAgICAgICAKICAgICAgICAgICAgICAgICAgICAgICAgICAgICAgICAgICAgICAgICAgICAgICAgICAgICAgICAgICAgICAgICAgICAgICAgICAgICAgICAgICAgICAgICAgICAgICAgICAgIAogICAgICAgICAgICAgICAgICAgICAgICAgICAgICAgICAgICAgICAgICAgICAgICAgICAgICAgICAgICAgICAgICAgICAgICAgICAgICAgICAgICAgICAgICAgICAgICAgICAgCiAgICAgICAgICAgICAgICAgICAgICAgICAgICAgICAgICAgICAgICAgICAgICAgICAgICAgICAgICAgICAgICAgICAgICAgICAgICAgICAgICAgICAgICAgICAgICAgICAgICAKICAgICAgICAgICAgICAgICAgICAgICAgICAgICAgICAgICAgICAgICAgICAgICAgICAgICAgICAgICAgICAgICAgICAgICAgICAgICAgICAgICAgICAgICAgICAgICAgICAgIAogICAgICAgICAgICAgICAgICAgICAgICAgICAgPD94cGFja2V0IGVuZD0ndyc/Pv/bAEMABwUFBgUEBwYFBggHBwgKEQsKCQkKFQ8QDBEYFRoZGBUYFxseJyEbHSUdFxgiLiIlKCkrLCsaIC8zLyoyJyorKv/bAEMBBwgICgkKFAsLFCocGBwqKioqKioqKioqKioqKioqKioqKioqKioqKioqKioqKioqKioqKioqKioqKioqKioqKv/AABEIAaoEKwMBIgACEQEDEQH/xAAfAAABBQEBAQEBAQAAAAAAAAAAAQIDBAUGBwgJCgv/xAC1EAACAQMDAgQDBQUEBAAAAX0BAgMABBEFEiExQQYTUWEHInEUMoGRoQgjQrHBFVLR8CQzYnKCCQoWFxgZGiUmJygpKjQ1Njc4OTpDREVGR0hJSlNUVVZXWFlaY2RlZmdoaWpzdHV2d3h5eoOEhYaHiImKkpOUlZaXmJmaoqOkpaanqKmqsrO0tba3uLm6wsPExcbHyMnK0tPU1dbX2Nna4eLj5OXm5+jp6vHy8/T19vf4+fr/xAAfAQADAQEBAQEBAQEBAAAAAAAAAQIDBAUGBwgJCgv/xAC1EQACAQIEBAMEBwUEBAABAncAAQIDEQQFITEGEkFRB2FxEyIygQgUQpGhscEJIzNS8BVictEKFiQ04SXxFxgZGiYnKCkqNTY3ODk6Q0RFRkdISUpTVFVWV1hZWmNkZWZnaGlqc3R1dnd4eXqCg4SFhoeIiYqSk5SVlpeYmZqio6Slpqeoqaqys7S1tre4ubrCw8TFxsfIycrS09TV1tfY2dri4+Tl5ufo6ery8/T19vf4+fr/2gAMAwEAAhEDEQA/APpGiiuN1z4maboWpz21xo+vXFvanFzqFtpzPbQcZO58joDzgGgDsqKxtX8U6fpGhwaqUur2G52/Zo7G3aaScsNyhVA7gZ5wKq+FvG+neK5bq3tra/0++s9puLHUbcwzRhvusVyeDj1o6tB0udHRRRQAUUUUAFFFFABRRRQAUUUUAFFFFABRRRQAUUUUAFFFFABRRRQAUUUUAFFFFABRRRQAUUUUAFFFFABRRRQAUUUUAFFFFABRRRQAUUUUAFFFFABRRRQAUUUUAFFFFABRRRQAUUUUAFFFFABRRRQAUUUUAFFFFABRRRQAUUUUAFFFFABRRRQAUUUUAFFFFABRRRQAUUUUAFFFFABRRRQAUUUUAFFFFABRRRQAUUUUAFFFFABRRRQAUUUUAFFFFABRRRQAUUUUAFFFFABRRRQAUUUUAFFFFABRRRQAUUUUAFFFFABRRRQAUUUUAFFFFABRRRQAUUUUAFFFFABRRRQAUUUUAFcR8QdC8RanZXU+meKodN0xbQrcafcWq+XPjJbdOCHQEcHb0rt65G5+Ffgq816XWbzQori+mlMsjzSyOrse5Qtt/DGKTV/6/QadiXSPFmm23w30vXtQiGmWstpEUtlBYgkYWNB1YnoABk8UzwtpF7ca9f8AizWrf7HeahClvb2ZwWtrdCSocj+MkkkDgcDtWj4k8G6D4usILLxBYC6t7d98UYleMIcY/gI7dqoeHPhp4S8J6odR8P6T9kuzGYvM+0yv8pxkYZiOw7VV7yciLWikdVRRRSKCiiigAooooAKKKKACiiigAooooAKKKKACiiigAooooAKKKKACiiigAooooAKKKKACiiigAooooAKKKKACiiigAooooAKKKKACiiigAooooAKKKKACiiigAooooAKKKKACiiigAooooAKKKKACiiigAooooAKKKKACiiigAooooAKKKKACiiigAooooAKKKKACiiigAooooAKKKKACiiigAooooAKKKKACiiigAooooAKKKKACiiigAooooAKKKKACiiigAooooAKKKKACiiigAooooAKKKKACiiigAooooAKKKKACiiigAooooAKKKKACiiigAooooAKKKKACiiigAoorlNe8ef2Fq0lh/wAIr4m1LYqn7Rp+nebC2RnAbcMkd6mUlHc0p05VHaKOrorM1nWv7G0NtS/s3Ub/AG7f9FsYPNnO4gcJkdM888YNVvDPif8A4SWK4f8AsTWdJ8lgNuq2nkGTPdeTkDFO6vYXs5OHPbQ3KK5K48f/AGfxA2lf8In4ol23Ag+2R6bm3PON+/d9zvnHStbxHr//AAjmnJd/2Tqmq75RH5Ol23nyLkE7iuR8vGM+pFLmi1ct0aiko21Zr0Vj+G/EP/CR2El1/ZGq6V5cnl+Vqlt5EjcA7gMnI5xn2NZVp4++1+IF0r/hE/E8G6Yw/bJtN224wSNxfd93jrinzK6XcXsZu+m251tFYPibxV/wjP2b/iRa1q/2jd/yCrPz/K24+/yMZzx64NW9I1r+1tBXU/7N1Gy3Bj9kvYPLnG0kYKZPXHHPORRzLXyE6c1FTtozTorldA8df2/qq2P/AAi3iXTdylvtGo6f5MQx2Lbjye1SeJPGn/COajHaf8I14h1XfEJPO0uw8+NckjaW3DDcZx6EUuZWuV7Cpz8ltTpqKzH1rZ4Z/tn+zdRb/RxP9hWDN1yM7PLz9/2zVDw14v8A+Ekupof+Ee17SfJQPv1Wy8hX5xhTuOTTuubl6k+zm4udtEdFRXKa948/sLVpLD/hFfE2pbFU/aNP07zYWyM4DbhkjvWxrOtf2Nobal/Zuo3+3b/otjB5s53EDhMjpnnnjBpcyabG6M1y6b7GnRWH4Z8T/wDCSxXD/wBiazpPksBt1W08gyZ7rycgYrOuPH/2fxA2lf8ACJ+KJdtwIPtkem5tzzjfv3fc75x0o5lp5h7Go2421W51tFY/iTxF/wAI3YxXP9j6tq3mSeX5Wl2vnuvBO4jIwOMZ9SKf4e1z/hINMN7/AGXqWl/OU8jUrfyZeO+3J45607puwvZyUOe2hq0VyWmePv7T1yLTf+ET8UWfmOU+1Xem+XAuATkvu4BxwcdxV/xN4q/4Rn7N/wASLWtX+0bv+QVZ+f5W3H3+RjOePXBpc8bc3Qr2FRTULas3qKzNI1r+1tBXU/7N1Gy3Bj9kvYPLnG0kYKZPXHHPORWRoHjr+39VWx/4RbxLpu5S32jUdP8AJiGOxbceT2p3V7E+ym03bbc6qiuZ8SeNP+Ec1GO0/wCEa8Q6rviEnnaXYefGuSRtLbhhuM49CK031rZ4Z/tn+zdRb/RxP9hWDN1yM7PLz9/2zS5lZvsN0ppJ232NOiud8NeL/wDhJLqaH/hHte0nyUD79VsvIV+cYU7jk1U1vx9/Yuszaf8A8In4o1Dytv8ApNhpvmwvlQflbcM4zg+4NHMtH3GqFRzcEtUdbRWZrmt/2Jox1D+zNR1HBUfZtPt/NmOf9nI6d6r+GvEv/CS288v9i6xpPkuF2araeQz5GcqMnIp3V7Eezlyc/Q26K5K48f8A2fxA2lf8In4ol23Ag+2R6bm3PON+/d9zvnHStXxJ4i/4Ruxiuf7H1bVvMk8vytLtfPdeCdxGRgcYz6kUueNrl+xqcyjbVmxRWV4e1z/hINMN7/ZepaX85TyNSt/Jl477cnjnrWPpnj7+09ci03/hE/FFn5jlPtV3pvlwLgE5L7uAccHHcU+ZXS7iVKb5tNtzraK5/wATeLP+Eakt1/sDXNX88Mc6VZeeI8Y+9yMZzx9DV6y1n7b4dGrf2bqFvmJpfsU8G25GM/Lsz9444Ge4pcy18hOnNRUraM0qK5fw943/AOEh1Q2X/CMeI9LxGX8/U9P8mLjHy7tx556exp3iTxp/wjmox2n/AAjXiHVd8Qk87S7Dz41ySNpbcMNxnHoRRzK1yvYVOfktqdNRWY+tbPDP9s/2bqLf6OJ/sKwZuuRnZ5efv+2aoeGvF/8Awkl1ND/wj2vaT5KB9+q2XkK/OMKdxyad1zcvUn2c3FztojoqK5LW/H39i6zNp/8AwifijUPK2/6TYab5sL5UH5W3DOM4PuDW1rmt/wBiaMdQ/szUdRwVH2bT7fzZjn/ZyOnelzK1xujNOKa32NOisTw14l/4SW3nl/sXWNJ8lwuzVbTyGfIzlRk5FZjfEDb4gOlf8Il4pOLn7P8AbBpv+jn5tvmb933O+7HTmnzLTzGqNRtq22511FY/iTxF/wAI3YxXP9j6tq3mSeX5Wl2vnuvBO4jIwOMZ9SKf4e1z/hINMN7/AGXqWl/OU8jUrfyZeO+3J4560XTdifZyUOe2hq0VyWmePv7T1yLTf+ET8UWfmOU+1Xem+XAuATkvu4BxwcdxV3xN4s/4RqS3X+wNc1fzwxzpVl54jxj73IxnPH0NLnjbmK9hUU+S2p0FFZtlrP23w6NW/s3ULfMTS/Yp4NtyMZ+XZn7xxwM9xWT4e8b/APCQ6obL/hGPEel4jL+fqen+TFxj5d24889PY0+ZXsSqU2m7bbnUUVy/iLxv/wAI9qYs/wDhGfEeqZjEnn6ZYedEMkjbu3Dnjp7ita91n7F4dOrf2bqFxiJZPsUEG65OcfLsz94Z5Gexpcys32G6U1bTfY0qK5/wz4t/4SWW4T+wNc0nyFU7tVsvIEmc8LyckY5+oqlrfj7+xdZm0/8A4RPxRqHlbf8ASbDTfNhfKg/K24ZxnB9waOZaPuNUKjm4Jao62iszXNb/ALE0Y6h/Zmo6jgqPs2n2/mzHP+zkdO9V/DXiX/hJbeeX+xdY0nyXC7NVtPIZ8jOVGTkU7q9iPZy5OfobdFci3xA2+IDpX/CJeKTi5+z/AGwab/o5+bb5m/d9zvux05rV8S+I/wDhG7SGf+xtW1bzX2eXpdr57pxnLDIwPelzK3N0LdGopKNtWbNFZmga3/b+lC+/szUdMy5X7PqNv5MvHfbk8HtWJo3xA/tjWIbD/hEvFFh5xI+032m+VCmAT8zbjjpj6kU7q6QlRm+bT4dzrqK5/wATeLP+Eakt1/sDXNX88Mc6VZeeI8Y+9yMZzx9DV6y1n7b4dGrf2bqFvmJpfsU8G25GM/Lsz9444Ge4pcy18hOnNRUraM0qK5fw943/AOEh1Q2X/CMeI9LxGX8/U9P8mLjHy7tx556exo8ReN/+Ee1MWf8AwjPiPVMxiTz9MsPOiGSRt3bhzx09xRzK1yvYVOfktqdRRWbe6z9i8OnVv7N1C4xEsn2KCDdcnOPl2Z+8M8jPY1R8M+Lf+ElluE/sDXNJ8hVO7VbLyBJnPC8nJGOfqKd1zcvUlU5ODnbRHQUVyWqePv7M1yTTP+EU8T3nluqfa7TTfMgbIByH3cgZ547GtjxDrv8Awj+li9/svUtTzIE8jTbfzpec87cjgY60uZWuN0ZppW32NWisbw34i/4SSzluP7H1bSfKk2eVqlr5DvwDuUZORzjNZTfEDb4gOlf8Il4pOLn7P9sGm/6Ofm2+Zv3fc77sdOafMtPMFRqNtJbbnXUVjeJfEf8AwjdpDP8A2Nq2rea+zy9LtfPdOM5YZGB71NoGt/2/pQvv7M1HTMuV+z6jb+TLx325PB7Ucyu0J05KHPbQ06K5HRviB/bGsQ2H/CJeKLDziR9pvtN8qFMAn5m3HHTH1Iq74m8Xf8I1NBH/AMI/rurecpbdpVl56x4PRjkYNLmVrluhUU+S2p0NFZkGtef4ZOs/2ZqMeIGn+wyW+LrgE7PLz9844Ge4rL8O+Nv+Ei1JrP8A4RnxFpe2Myefqdh5MZwQNobceeensad1exCpTcXK2iOnorl/EXjf/hHtTFn/AMIz4j1TMYk8/TLDzohkkbd24c8dPcVrXus/YvDp1b+zdQuMRLJ9igg3XJzj5dmfvDPIz2NLmVm+w3Smrab7GlRXP+GfFv8Awkstwn9ga5pPkKp3arZeQJM54Xk5Ixz9RVLVPH39ma5Jpn/CKeJ7zy3VPtdppvmQNkA5D7uQM88djRzLTzH7Co5OFtUdbRWV4h13/hH9LF7/AGXqWp5kCeRptv50vOeduRwMdaj8N+Iv+Eks5bj+x9W0nypNnlapa+Q78A7lGTkc4zT5k3Yj2cuTntobNFclB4+8/wAQjSv+ET8UR5uDB9sk03FuMHG/fu+53zjpWj4m8T/8I1Fbv/Yms6t57MNulWnnmPGOW5GAc8UueNuboW6FRSULas3KKztC1j+3dIjv/wCzr/Tt5YfZtQg8qZcHGSuTjPUVhaN8QP7Y1iGw/wCES8UWHnEj7Tfab5UKYBPzNuOOmPqRTurpCVKb5rL4dzrqK57xN4u/4RqaCP8A4R/XdW85S27SrLz1jwejHIwavQa15/hk6z/Zmox4gaf7DJb4uuATs8vP3zjgZ7ilzLXyF7Kdk7bmnRXMeHfG3/CRak1n/wAIz4i0vbGZPP1Ow8mM4IG0NuPPPT2NN8Q+OP8AhH9U+xf8Iv4k1P5A/n6bp/nRc9t24cjHShySVyvYVHPktqdTRWZqetf2Z4dbVv7M1G72oj/Y7S38y4O4gYCZ6jOTzxg1T8M+K/8AhJWuB/YOuaR5AU51Wz8gSZz93k5xjn6indXsT7OThz20N+iuS1Tx9/ZmuSaZ/wAIp4nvPLdU+12mm+ZA2QDkPu5Azzx2NbHiHXf+Ef0sXv8AZepanmQJ5Gm2/nS85525HAx1pcytcbozTStvsatFY3hvxF/wklnLcf2Pq2k+VJs8rVLXyHfgHcoycjnGay4PH3n+IRpX/CJ+KI83Bg+2Sabi3GDjfv3fc75x0p8yul3D2M22rbbnW0Vh+JvE/wDwjUVu/wDYms6t57MNulWnnmPGOW5GAc8VZ0XWv7a0VdR/s3UdP3bv9Fv4PKnGDjlMnrjjmlzK7XYTpyUVO2jNOiuU0Hx5/burR2P/AAivibTd6k/aNQ07yoVwM4LbjgntU/iTxj/wjd5Fb/8ACOa/q3mx7/N0ux89E5xhjuGDx0o5klcr2FTn5LanSUVnR6x5nhv+2P7Ov1/0Y3H2JoMXPC52bM/f7Yz1rJ8O+Nv+Ei1JrP8A4RnxFpe2Myefqdh5MZwQNobceeensad1exKpTcXJLRHT0Vy3iHxx/wAI/qn2L/hF/Emp/IH8/TdP86Lntu3DkY6VranrX9meHW1b+zNRu9qI/wBjtLfzLg7iBgJnqM5PPGDS5lZvsP2M1y6b7GnRWB4Z8V/8JK1wP7B1zSPICnOq2fkCTOfu8nOMc/UVR1Dx9/Z+vSaZ/wAIn4nudkgj+122m77ds4+YPu5UZ5OOxp8y08x+xqczjbVHW0VkeI9f/wCEc05Lv+ydU1XfKI/J0u28+RcgncVyPl4xn1IpPDfiH/hI7CS6/sjVdK8uTy/K1S28iRuAdwGTkc4z7GhNN2J9nLk57aGxRXJQePvP8QjSv+ET8UR5uDB9sk03FuMHG/fu+53zjpXW0JqSugnTlTdpIKKKKZmFFFFABRRRQAUUUUAFFFFABRRRQAUUUUAFFFFABRRRQAUUUUAFFFFABRRRQAUUUUAFFFFABRRRQAUUUUAFFFFABRRRQAUUUUAFFFFABRRRQAUUUUAFFFFABRRRQAUUUUAFFFFABRRRQAUUUUAFFFFABRRRQAUUUUAFFFFABRRRQAUUUUAFFFFABRRRQAUUUUAFFFFABRRRQAUUUUAFFFFABRRRQAUUUUAFFFFABRRRQAUUUUAFFFFABRRRQAUUUUAFFFFABRTXkSKNpJWVEUFmZjgADuTSo6yIrowZWGVYHII9aAFooooAKKKKACiiigAooooAKKKKACiiigAooooAKKKKACiiigAooooAKKKKACiiigAooooAKKKKACiiigAopkU0U6sYZEkCsUYowOGBwR9Qe1PoAKKKKACiiigAooooAKKKKACiiigAooooAKKKKACiiigAooooAKKKKACiiigAooooACMqQc8+hxXEeC9ak07QtcsdfvJZpvDt1Mk1xcSF3eDHmRuWPJ+Q9/Su3rzfxp4R1rUfFjnRIA2ma7bxWmry+aqGJY5Qd2CQWLRlk4z+FZy5r+710/yf9dzpoKEk4Tdlo/u3/Bv1di/4e1LXNO+Httqs2n32t6rqkzXItBNjyhKS6puc4RFXA9B6c1oeGfF97q2s3Gja/oMuh6pBAtyIGuUuEkiZioYOvHUdKpfEnQNW1jRLCDRLU31rb3Aa70xLw2pu4tpATzOwBwcf4VifDrwRfeHfGV1qZ8N2+gWFxp4iW2h1BrorIJMnczHOSPT5cD1pJv2lun/A0/q5u40p0JVJW5nr+O2/b+78y7b+FtH8O/GewuNHs/s8uo2F7NdN5rv5j+ZEc4YnHLHpjrXW32u/YvFWkaN9m3/2lFcSedvx5flBDjbjnO/1GMd64W+v/H83jSz1qP4e5Syt57ZY/wC2oP3okZDuz2xs6YPX2re8XWXiD+1NA8RaBpcV/d6csyT6c9ysRZZVUHbIflypUfWlBpRVlp6eoVIOU4+0km2n9pPVLS7vp03NmPxJH/wkmraZPEIYtMtIrp7kyZDK+/Py44xs65Oc1za/EnUFSPVLvwjfW/huUrs1R7iMsFYgLI0H3lXkHOenNN0fw74h1XVfE9x4ttrezj1rToraNbWUSCFcSqUJ4JYBgScAHPHSuHtPhg9jJBZX/wALbfUzGVSXUrfxE8SSDODJ5bNkeuKG58y/rq/0t1RpTpYe8lJ9u3ZXs3Ja3v39DoPibq1jaePNLt9d8Vax4f0uTTpJN+l3EiF5RIAMhFbPGecdutbnhvW9J0r4b6rrega3qnie1tBNcebqk7mQsiAmMMyAhePQ8k0nii28Sab4+0/W/Dfhz+24YtNktHj+3R2+wtIrDl+Twvp361dvW8ReJ/hxrttqXh7+ydSuLaa3t7P7bHP5mY8Kd4woySRg+lTHmUZNb69PPT1+QXjKnTjLbS/vL56fEvW5Sj+JV201hdz+Fb630G+ljgTU5ZkUh5CAp8k/PsJP3jj6Va1bx5e2nii/8P6P4budXv7aKKWNYp1jRw4JJd2G2MDAA5JOenBrp9HgktdDsbeddksVtGjrkHDBQCOKxdK0i+tviNr+qTQbbO8trWOCXep3sgfcMZyMZHUVrJNOyfX8Lf5nLGVJpycdltd6u6/S97fgUofiNbHwkdWutMuor4Xp07+y0KvK10Djy1PQ9M59ATTtH8b6jLr9tpHinwzcaBcXwc2bm6juI5ioyVLJ91sc4PvVvxvompatp9hdaEYTqOlXqXsEU5wkxUMpQntkMcH1xWTZWninxR4o0rUfEuiwaDZ6Q7zRwLercyTyshQHKgBVAJ465pJy5rf8NbS7/PS5ajSdNySXXrqn0SXVba2fyH3PxB1OTWNV0rQPCd1q15ptz5T7LlYotmxW3GRxgMdxAQZPGeK6Tw1r0Hifw7aavaxyQpcKcxSfejYEqyn6EEVn+FtJvdN1zxPcXsHlxX+pCe3bep3p5SLng8cg8HBrpacL8qb8jKs6fwwXzv5f1/wQoooqznCiiigAooooAKKKKACiiigAooooAKKKKACiiigAooooAKKKKACiiigAooooAKKKKACiiigAooooAKKKKACiiigAooooAKKKKACiiigAooooAKKKKACsvxDon/CQaS1j/aeo6Zl1b7Rptx5Mwx23YPB71qUUmrgeTeC/CF1e+INZa68Z+LJU0bVvIhifVSyTIqo+JAV+bJYg4xxXQ6l8Qb+LxPqvh/Q/C91rGoWBiKiO4WKNldA5Z5GG1MZwByTjtWj4Q0i+0vVPE819B5Ud9qzXFud6tvjMaDdwTjlTwcGk0HR76y8feKtSuYNlpqDWptpN6nzNkW1uAcjB45Apq7ik+y++yHpd+v6jdP8AGkuq+C21qw0K8nvUma2fTEZfMWZX2MpYkLtB53enbtUXh3xpqV/4iGh+JvDU2gX8lu1zbg3cdykqKQG+ZOhG4cUfEvRtZ1zwqltoAaZ1uo5Lm0W5+zm7hGd0Qk/hzxz7VyHgHwDf6H4/ttZj8I2/hywaxmhkhj1RryQOWTBcsccgHG3PQ57UR1lr/Wn+fr+opaLT+tf8vQ6a98f6pPq93aeEfCV1r8FhMYLu7F3Hbosg+8qb/vkdDjHNamv+Ln0iz05LPSLrUNW1ME2umqyxvwoZt7HhAuQCfU1zlrb+NvBmoahY6J4dtdf0y9vpbuC4/tBbZrfzW3MsgYHdgk8r2/Kj4keBrrxXDoupS6Raazc6ejrc6Y129us28Lny5ARghl4zwR1pfZXy/r7x/afz/wCAdB4Z8WXOs3t1peuaJNoer20SzvayTJMrxMSA6SLwwyMHpg1wHgvx9qehfDfT5bbwhf32kafG/wBt1ETJHsAdizRxn5pAAeSMDg+lb3wz8KR6JqV9cnwB/wAIpK0IjWX+2ftvngnJXGTtxgHNZen6X8QIvBP/AAg6+G7O1gaGS1fWpNSR0Ebk7mEIG7OGOPeqflv+HUUbddju9e8RalZWVnL4a8PXHiCW8QyII50gjRMAgtI/Azu4GDnBqLwz4x/tq11Mavpsmi32kPtvraaVZBECm8MHXhl29/auV+IHg3Vr2TRILLSH8SaJY2ht5dK/tM2W5xgLKzZAbAGMf40eAfh/eaTpnizTdQ0uDR7PWFVLeG2ujcLGrRMrDcx3EgtznHPTik9pNedvv0BfZUvma+k+Pta1u8tbiw8FX7eH7qRVj1N7mNXKk4EnkH5tnfOenOKrXes2OgfFnXdR1SYQ28OhWxJxksfOkwqjqWJ4AHU07w3c/EDSo9O8P33hmwktrQRwPrCaiojaJcDcIcb920dOBn2pNe8BzeIvH9/qE6taxrp1uNP1GNlLwXUckjZC5zwGGQRgg4puya5dtfXZ/wBdBatO/l+aOu8P6jqGq6Sl5qmlnSnlJaO2ebzJAn8JfgBWI6rzj1rTrI8NXOtXGlbfE1glpfwuY3eKRWiuAOkiYJKg9drYIrXoe+gK9tTjPFxOveK9I8IliLK4jkv9RUH/AFsMZULEf9lnYZ9QpHerfi3xb/wiLaTa2mkSahJqMjW1tbwOEIcJlFGRgAnAzwFHPaqPiZ10D4iaH4kucLYTwSaVdTE8Ql2V4mPoCy7c+4q/4l0i+1Dxb4UvbSDzLfT7uaS5feo8tWhZQcE5PJA4zU/ZXrr9/wDlYp7v00+7/O5heH/irJreraXaz+G7qxgvppLOS5knVliuowzNEBjLjC/f4GePWnz/ABK1SY3F74f8G3uraFau6S6il1HGX2EhzFEfmkAweRjOKraf4S1qBPDImstv2HXr27uP3qHZFIZtjdec714GSM8iodOs/H/hbR38K6R4fsdRtFaRLPV5L9Y1ijdiR5kWNzEbudvWi7t5/wDAX9frdaml/L/gv/gf5HS6z49trHw7pOp6TZS6rJrTpHp9usiw+YzIWAZ3OE4B9eeKn0zXvEF5oN9cX3hOax1W2UmKwe9jdbk4yoWYfKMng5HFY+o+HL/Rfh5pWgaf4fsfFUFpCsVzaXcywmQgffQsCoO7PX8DUnw50XXNK/tCTVLNtJ0+fy/sekPqJvTakA7yJD0DcfKCQMHpVaXkl8v6/wCHJ1tFv+v6+RzPh3xp8QZdb8QKvgiTUCl8qtA+uQqLL92v7tSRhh/FkcfNXrwyQMjB9K85kj8ZeFPFuu3Gh+F4fEFhq9yl0ki6jHbPCwjVCrBxz93jFejDJAyMH0pL4V/XQb+J/Mr3919h025u9m/yIXl2Zxu2gnGe3SvPYvizeyaTZa4fB98mgyrELnUWuEXyWfA+SMgNIoZsbsAHBxXfavBJdaJfW8C7pZbeREXOMsVIA5qh4L0+60nwNoun6hF5N1a2UUU0e4NtYKARkEg8+lEd3fy/W/6A9lbz/QzfEHjLULLWX0jwv4cn8QahDEs1yi3KW8cCtnbl343HBIUDpU9j460+fwjfa7qMM+mrprPHfW0wBkgkTGU44bORgjrkVxHj34bvfeNLnX08JQeK4b2KNWt21R7KW3dBtyDkKykAcdcitPS/Af2r4V6poVr4dXwlc3spkW2e/N6okUoUcvk8EoAQPSkvhd/61/yG7cy/robWgeLvEOrapAmoeCb3TNMugTDeyXcbsPlLDzIh8yZxjvyQKj1Txzqo1i7svCvhO51+PT5PKvblbuO3SN8AlE38yMARkDHpUnh/WPHN3qcFpr/hWz062jB+0X6aisolwpx5cYGRlsfePAzXB+JPhe8PirVL/wD4QSDxbDqNy1zHMutPZSQFuWRlJCsN2SCPXmm912/r+uglt5/1/XU7jVfiVZWHhHSPENrp93e2+pXS2ot41xPGxD5XZzlgybduRz3p/h/xtqeo+IZdF17wxPol61q13aq90kyzxhgpyV4Vskcc1nReFbmLwt4QtNL8P/2Qthq8d3c2H20T/Zk/ebj5jH5+WB4z16cVv3elXsvxL03VUhzZQaZcQSS7x8rtJGVGM55CnnGOKqyvbzf5afiK+i9F+f8AkcJZ+NPiC3j/AFOIeCJJnWygJ0w65CEtwWf94GxtJbpgcjbXq2nzXNxpttNfWv2O5kiVprbzBJ5LkZKbhw2Dxkda4nXbXxVoXj+58QeG9Ah1+2v7GK2lg+3JbSRNGzEHLjBBDfX+vbafNc3Gm2019a/Y7mSJWmtvMEnkuRkpuHDYPGR1qY/D/Xdjfxf12RYJABJ4A6muDt/iJq2q3X2jw74NvtT0ISmM6mLqOMuAcF44m+Z164ORmu6kQSxPG3RlKn8a848PJ4+8J2Nt4Zt/DdjqVlanyrfV/wC0FiRYs/KXiILFgOuOv60L4gfwnVeJtd1nSTBF4f8ADNxrtxKGZgtzHbxxgY+879zngAdjUPhzX4/Gekajaanpc2nXNvI1lf2MsgbYSoJAdeoKt1GK5b4meFdZ13xHZXC6GfE2ipbGNtLGqGyEc27Pmk5G7jjFTfDzw1rPgjQfEYXQII5Zbk3Fjp1vfbkkHlLhBK+SPmBBLd8npikrNPm8/wA/8vUb0at/Wn+ZY8AeHtL8L+NvFml6Fa/ZbOMWbLF5jPgmNieWJPX3qv8AGDwpot74fk8RXVnv1Wya3it7jzXGxTcLxtB2n77dQetQ6BeePIPHF/qN94B+z22ryW0cz/2zA32VEBUvgcvwc4GOmKufE0+LdVsJ9C8P+E/7RtJhDJ9v/tKKLayyByvltg/wgZz39qq+sW+6Jto0ehUVk+HNQ1jU9LM/iDQ/7EuhIVFt9rS5yuBhtyjHPPHtWtS2Geb+OfCmi23jTw34lhs9ur3OuW0Mtz5rncgRhjbnaPur0Hau313UrrStKe5sNLuNVudwWO1t2VS5JxyzEBQO5PSuG8cTeNtQ1yxh0nwT9rs9K1KK9iu/7Whj+0hVI27G5Tljyc9OnNWvGen+KfFXgKx8rSmtLz7SsuoaMuohDPCCwMQnXA5+U0vsad/wdv8Agjfx/L8r/wDANLw34z1HUvED6H4l8NzaDqJtjdQobtLlJYwwUkOnQgkcVTb4g6td6zeQ+H/B91qunafdNa3d4l7FG6Op+bbCTubHbpmue+H3gK/0Hx9HrC+E7fw5p8mnywvBHqbXjiQuhG8se4BxtyOOe1L4m8P+KNW1y6ay8FWlnqTMy2/iWx1n7MVGfkZ0Ub3wMZU5HpVdV/XX/LzQu/8AXT+u5qfFzxH4m0XQ3XQdHla0byTJqsV+kTQuZQPL2feORgbhx83tXSeGNZ8S6rNcL4k8Kf2CkaqYn/tGO680nORhANuOOvrUPjfw/qPiD4f3Ol2csT6jtidGl+VJJI3V+cdMlf1qbwvrHibVJLhPE3hYaGsar5Ui6hHciY854UZXHHX1oWl0J6pMy7mP/hFviXYSWQ2af4lMkV1COFW6RC6ygdiyqyt64Brtq4zWH/t34l6Lptod8ehl9QvnHSNmjaOKPP8AeO5mx6D3rs6S+Ff1p/V/lYb+L+v62sFFFFABRRRQAUUUUAFFFFABRRRQAUUUUAFFFFABRRRQAUUUUAFFFFABRRRQAUUUUAFFFY3iPxPZ+HLaLzUkur26by7OwtxumuX9FHYDux4A5NXTpyqSUIK7YGzRWJ4i8S6b4b8NnUvEV02lwuFjaQI0pidhwPkByQe+McVV+Hzxy+BdPkg1648QxOHK6lcxsjzDe3UN8wx059K1+rzVF1nte2zs9+u2na99SeZXS7nS0VyFx8V/A9rPbw3HiG2jkuGKorK/BDFfm+X5OQeWxXQya1p8WtW2kyXG29uoXngj2NiRFIDENjbxkcZzzmieFr07c8Gr33T6b/d1HzLuXqKyNT8VaNo9xdQaheeVJZ2ZvrgCJ38uEHG4lQe4OB1ODgVwuj/Hnwhd6hqEOparHBEl35dgyWk5M8W1fmPynB3Fhg46VtRy/F14OdKm2l2TFKcY7s9Roridb8b23hrx/NDr2qxWWjR6MtyFkUczGZlyMDcx2j7oz06V0OjeJ9F1/Q/7Y0jUYbjTwGLT5KBNvJ3bsFcD1xWdTC1oQVRxfK7a2dtel+4+Zc3L1/4Cf6mrRXLaN8TPB3iDWTpWka9b3F7khYsMvmEdkLAB/wDgJNP1z4i+E/Dc1zDresw2s1q6JLEyOzgsoYYUAlhgg5GQO9H1PE+09n7OXNvazvb0DmTOmoqrpmqWWtaZBqGlXMd1aXC7opozkMP88Y7VarmlFxbjJWaBNNXQUVwWteJ9F1D4laPoVt4tudP1SwuSZ9LhtpCl5uj3BHfG3AHPUjn1wR1es+IdK8PR28mtX0dlHcSGKOSXIUsEZyC3QfKrHJwOMdcV0zwtWHIrO8le1nt92qa1utBcyu12NKisDw1448N+MGuF8OarFetbH96ioyMvvhgCR7jis+4+K/ge1nt4bjxDbRyXDFUVlfghivzfL8nIPLYoWDxLm6apy5lurO6+Qc0bXudfRVOTVrGLVrXTHnxeXcTzQxhSd6JtDHIGBjevU9+Kp6h4r0XS49Te/vfKXSY0kvT5Tt5Sv908A7s47ZrKNGpJpRi3fy87fnp66DujYorzDw98dfCep3d1b6jqcdvK1+0FisdrOfOhyBG5O0gEkng4x6V6fWuJweIwkuWvBxv3Vr+glKMtEwoqC9kuIbGeSytxc3CRs0ULSbBIwHC7sHGTxmuItvE/jLSPFOl2PjLTdH+xaxM0FtJpc0jPBIELgSBwN2QDyuBSo4adZNwa06XV3bV2XoOTSV2d9RXA654q8U3HjC+0DwjDoUEmnQxzTS61NIpmVxnMaJztHQseM8VveCfEVx4o8Lxale2sdtP5skLiF98TlHK70buhxkH+dXUwdWnSVWVrO3XXVXWnmhcyvY6CiivOtP8Aijo2jtq0fjLXoYJo9ZubW1jMeWWJGAUFUXOB/eb86ihhauIT9krtdFdv8Byairv+tG/0PRaKzdQ8R6PpWhjWdQ1K3g05lV1uWcbHDDK7SPvZ7Y61yXhb4h2fjH4j3Vr4e1QXujQ6UspQQFNs/mkE/Mob7uPanTwdepTlVUXyx3dnb0v3FKSSu/6u7Hf0Vy158TPBth4g/sS88QWsV/u2GM7tqt6M+Nqn2JFXPE03ilYoI/B1rpck0m4yz6nK6xxAYwNqDcxOT6AY96X1WqpRU1y82zlord7sd1exu0VyfhTxNqmraTq41qztYNQ0md7eR7SRpLeZlQNlCcHHzYIPIIrF8I6v8TdftdI1a8Twmmk3qRzyLELkTiJgCQASV3YPqRmtvqNRc/NJLltu97q6t30J51b7/wAD0aisDxN458N+DhF/wkmqxWTTDMcZVndh0ztUE498VoaVrmma5pKappN9DdWTgkTo3y8dc+mO4NczoVY01VcXyvZ2dn8yrq9upforgtB8d6nrvxAjsY7O2i0C7sprixnIbz5xG6J5nXARix2jGSADnmtPxJdeO1vynhLT9Ea0iQM0upXEm+c91RUHykerHHNbywVSFRU5tJtX1a/q9+guZO9jqqK4K48f3158IYfFejWcEN/OY40t7zc0aSNOImBK4JGc4I9jWn4b/wCFgf2o3/CYf8I19g8o7f7L+0eb5mRjPmcbcZ9+lEsFUhCUptLlbVm9bq17feHMtDqqK85bXPiNrHiDW4PCyeF0sNMvjZqdRFwJWIjR8nYSCPnHp9K7O+1q18P6AuoeKLy1sljjX7RKGIj8zHIXPJ5zgdaVXCTp8qum5W0Wr11Wgc13Y06KxPDXjLw/4wtpJ/DepxXyxECRVDI6Z6ZVgGAODzjnFcp4h8WeOvDCS65qmjaL/wAI/BMqS28NzI94qM4QPnAQ9QdoGecUU8FWnVdFrll2eju9lZ9Q5la61PRqKyPEPiAeHbGK/msbi5svMxdSwLuNtHg/vCvUqDjOMkDJ7Vo2l3b39nFdWU0dxbzKHjljYMrqehBHWud05qCm1ox3RNRRXCfEvxLo1jZRaHfeK7nw3qF2ySw3FtbyyOVD8jKDgHGOo/EcVn1S7j6XO7oqnqWqWeiaTJf6pceTawKPMmZScZIGSAPUisbSviJ4T1vX30XStbt7nUEz+6QNhsddrEbW/AmjrYOlzpaKKKACisrT9di1TU57ewhea1twQ94CPLMmfuL/AHuM5I4H41W/4Tfw5vKnVIwwRpCCjDABIPbrx06mr5JdieePc3qKzG8SaQmipqz30a2Mn3JSCNxzjAGM54PGM8UukeItK15XOk3iXHl/fXBVh74YA496XJKzdtg546a7mlRXIeKPHOmWGn3ttp+qINUjXEYSMuA2emcFfXrXRxajB9otrOWX/S5oPOVNp+ZRjJzjHUiqdOSipNC543tcuUVVW9guri7srafFzbBRJ8h/dlhlTzwfWsTQJdWh8R6hpurap/aKwwRSI/2dIsFi2eF+nrSUW02NytY6WiszV/EWlaCqHVrxLcyfdXBZj74UE496nt9Tgv8ASzfaUy3qFCYxG2N5A+7z0P16UuWVua2g+ZX5b6lyis7R9attZt3aENFPCdk9tKMSQt6MP6960aTTTswTTV0FFFFIYUUUUAFFFFABRRRQAUUUUAFFFFAFe+sbXU7Cay1CCO4tp0KSxSLlXB7GpYYkt4I4YV2xxqERR2AGAKfRQAUUUUAFFFFABRRRQAUUUUAFFFFABRRRQAUUUUAFFFFABRRRQAUUUUAFFFFABRRRQAUUUUAFFFFABRRRQBVsdMstNNwbG2jgNzM08xUcySN1Ynuf6cVaoooAKKKKACiiigAooooAKKKKACiiigAooooAKKKKACiiigAooooAKKKKACiiigAooooAK4PVdPvPCXjC78XRW8us2N3Gsd4m3fc2CL/FD6x92Qc9xnpXcXCSSW0qQS+TKyEJJtDbGxwcHrjriuC/4Q/4jf8ARUv/AC3rf/4qvRwPKnJzqRino0+bVf8AbsXb+tyZaq1jpPEPjTQPCukW2p69fG0s7pwkUhgkfcxUsBhVJHAPUVyPwf8AG3h/V9Bg0HT9Q87U4BcXEkHkyLtjM5IO4qFP314znn61a/4Q/wCI3/RUv/Let/8A4qtDQvDfjWw1qC51vx9/a9im7zbL+xoYPNypA+dTkYJB464x3rr9ngoYWdP2icnro59L2VnS8/5l6oj3m07f1955zoXjDwlF8OdT8LWds1/4gvjdRy6fbWUjPPK0jhSzhdvAK854A9q7rxHpN3pPgfQdWIMmpeF1huJNnzGSNUCXCj1yhY/VRUzeCvEdj4e07S/DPjL+yPsrztPL/Zcc/wBo8yTevDt8u3LDg859qn1jwdrOvQ2VnqXi24/s1bRINStre0jia/cffcyDmNX6FF4x3rorYnDzrKcJpJybd+Zvt/Kkk1srvfVroKL+15/jv8/uJPAsY1GPUPFT5L65MJLcsMFbVBthHPTIBfHq9cxp/jbQ/A3jTxTY+K7ibTpdQ1QXNoz2srpOjRRrlWVSOqkGt/V/CvjCfU5H8O+O10XTAqJb2C6LDMIAqBcB2OTkgn2zjtVL/hD/AIjf9FS/8t63/wDiqzp/VpOcqtWPLJJW99NJWsr+zktLWe/qL3rWtrv/AFrtqWJbC0u/jvHcXNvHLLa+H1eB3XJjY3DAkehwSM+9c5qel3N94d+JNnpNq08jawkjW0PDTKIrd5EGO7AMMd8+9bf/AAh/xG/6Kl/5b1v/APFUf8If8Rv+ipf+W9b/APxVaU6lOnJNV4aKKX8T7MlL/n35fiN3bvbt27W7/MxdX8V6B48XRNE8H21xPqNpqNtOR9heIaakbhnLMygL8oK4BOc4ro/DdhaP8WvGd89vG11H9jiSYrllQwAlQewOB+VVv+EP+I3/AEVL/wAt63/+Ko/4Q/4jf9FS/wDLet//AIqicsP7N0qVaKi01q6jeri3r7Nae7a1vvElK92vy6fMl8A6al78OL7TYri4sUkv9QhWazfy5IR9pkAKN/CR2Na3hjwX/wAIzeTXH/CS+IdX82PZ5WrX/nonOcqNowe2axP+EP8AiN/0VL/y3rf/AOKo/wCEP+I3/RUv/Let/wD4qsavLUlO2JglN3atP8/Zj9V/X3mP4++JfhK18XaDZz6tsn0fVzJfJ9mlPkr5Eq5yFw3LqPlz1rX8W3Gk+LR4FuYRHf6Ze6wsieZGQsgFvMQSrAHqOhFL/wAIf8Rv+ipf+W9b/wDxVH/CH/Eb/oqX/lvW/wD8VW98HBU3TqxUopq959b/APTpW1fd9vMT5m3po/67miYY4/jTHIiKrvoDBiBjIE64/LJrzjQvGHhKL4c6n4Ws7Zr/AMQXxuo5dPtrKRnnlaRwpZwu3gFec8Ae1ejaF4b8a2GtQXOt+Pv7XsU3ebZf2NDB5uVIHzqcjBIPHXGO9Qt4K8R2Ph7TtL8M+Mv7I+yvO08v9lxz/aPMk3rw7fLtyw4POfaopVsND93Oon8NmnJL3ebf3L9tEuq10dn73NzJf1ZLuY2s38fgXWPBWpeJWlSys9LmsLq7jjeVY5mWHGdoJ5MbAHFaPgPWV1/xx4q1GG0uba3mSz8j7TGY2lQLIA+08gHBxnnHNN/4Q/4jf9FS/wDLet//AIqj/hD/AIjf9FS/8t63/wDiqc3hp0XB1YczVr/vLW5ubb2e/TchRatZfl0Vu5meHfGuh+DPEfiHQ/E9xNp99e67NcWqvayss6SldjKyqR+eK7XxT4U/4ShLZf7e1vR/s5Y50i8+zmXOPv8ABzjHH1Nc7/wh/wARv+ipf+W9b/8AxVH/AAh/xG/6Kl/5b1v/APFVFVUHVjWpV4xl1+Nra2i9lp87ml5Xem9+3X5nQxi18A+CppdR1PUtRtdPjeaW6vpfPuHGScFsDPXA9sV534a+J3hDxF4qtNW17WlGpO/2fS9LS2nZLPzDtyX2bWlbIBboBwO5PR/8If8AEb/oqX/lvW//AMVR/wAIf8Rv+ipf+W9b/wDxVVRjg4xm6taLlLqnNb7q3snv1tbTTa95fNayX9fecp49bwxf+PdQg+KzXVrp9vFHHonlW0uyQOuZH8yNSWcNxtPAx0Ndl4Dg1PWvhm9jq1zqFqrtNbWV4o+z3RtgcRSdPlfb3x2BqD/hD/iN/wBFS/8ALet//iqP+EP+I3/RUv8Ay3rf/wCKrSrVo1MPGiq0Vy2/naVv5V7PS+8tXdhZ83Nb8v8APY2/DHgv/hGbya4/4SXxDq/mx7PK1a/89E5zlRtGD2zXCaN4u8K+E9V8WWGtW8v9s32r3Trapp8skt5ET8ighSCDzgE45966D/hD/iN/0VL/AMt63/8AiqP+EP8AiN/0VL/y3rf/AOKrOnKi3P29eMua23PHbb/l0/y+Y9UrJdb/AINd/M52S1k8H+F/h7e+K7aUadpLStfoIjMLR3jPlMygE/JkrnsT9K1/DevQ+JvjDfX+mwXMNo+gIltPcQmPzx55/eKrfNtycAkDOKt/8If8Rv8AoqX/AJb1v/8AFUf8If8AEb/oqX/lvW//AMVWs6uHqQlzVYczTV/3ltZc23s97vvt06k2aVku3bo79zyeO6l0bw5P4X8V/EWTQC3mx3WmXHhYTbtzHcwlAJfdnIfOea9X8Yal4G0zwdpOg/ES/Nxa3MCeWxinBuDEF+f91kryQcE9+9L/AMIf8Rv+ipf+W9b/APxVH/CH/Eb/AKKl/wCW9b//ABVbV8Th69SE5VoqzbfLzR17pqhdfPmfn1BJp7f195H8OYorSy1wWAvo/By7Dpi3yyB1XYTNsD/P5fTGec7sVxFnbeBp9S04/BdNSGsC+hM01t9qEKQhgZPOMvy7dueOpOK7v/hD/iN/0VL/AMt63/8AiqP+EP8AiN/0VL/y3rf/AOKqIYijCpOp7de9bS9Szsre+vZe9fd7a37g4tx5bd+3XtroZHxF8W6hpHjaOw/txPCtq1mjQ6mNGa+ku5CxzEvBAA649/esnwto3iTxB8MNb0/R7q3N7ceIJWun1W3e0FxCQrMGjQEpv4yoxwSMiut/4Q/4jf8ARUv/AC3rf/4qj/hD/iN/0VL/AMt63/8AiqIYjD06EadOpTTVne091/3Cv98mu1htScr2f9K3c5pY/iND8WNGju08KJdJpkqotsLgRLbCWPeOed/3dvbrmtTx/wDFHR7DxDJ4SuNXbRgIwb/UPJkd0RgD5cIRT85BHznhQeMnpo/8If8AEb/oqX/lvW//AMVR/wAIf8Rv+ipf+W9b/wDxVL2uDnUhOrOHuq2nOtb3vrSlt2t/kCUle19fT/MJtY+HOp/CWRpZlfwfblLV9sU6BSrLtGFAk+8V5HXv3rn/AAJa6H/wnljP8Lk1GPw4ttN/aTS+eLWRzjywgm5Lg5Jx2+tdB/wh/wARv+ipf+W9b/8AxVH/AAh/xG/6Kl/5b1v/APFVEZ4eFOpCOIVpX0cqjWqtdr2SvLz06aaCtJpJrb+u5yvjFPhbc+JdXEEWoT+MssAumi88/wA8DA24/d+ntVvxtY+JYfCPgq/1LUprO4035tTvI7Bb5oJDFgStGeGwdwJGcFsit/8A4Q/4jf8ARUv/AC3rf/4qj/hD/iN/0VL/AMt63/8Aiq1jiaUPZ2rxfL/M5y6Wsr0rJeVn03sNptt279uvfUwvhpe2muePLnV0+IK+J7uHT2hliXQzYkRl1IYtgBsEcDBPzGqN18XPBfifXMeINZ+xaLp9wHgsTazO97Ipysku1CAgPKpnJIy2MYrq/wDhD/iN/wBFS/8ALet//iqP+EP+I3/RUv8Ay3rf/wCKodTAyqupOpHZJWck4/dQt6e6reuorSs1bf8ArudJrHieKw0W1vNPs7jVJdQ2rY28EZBmZl3DJIwi45JbGAD9Kq+BvC9x4Z026+2zobi+na5ktbbK21qzdUhU9B6nuecDpWL/AMIf8Rv+ipf+W9b/APxVavh3w94w03VhceIPHH9t2ewqbT+yIbfLHo29Tnj0ry5wpU6EoU60XfV/Hd22WsEl+HrYtXdrr+vvOsrzT4weNvD+meG7/wAPX2oeVqlxDHLFb+TI25fMHO4LtH3W6ntXpdFeOaHnHi7xRonjP4Pa3d6Bd/bbRSkEjeU8fzb0JGGAPRhz71e8U6faWOt+BIbK2igjt9UMUSxoFCJ9ml+Ueg4H5V3NFPS913T+4XS3r+IVR1rTP7Y0e4sftEtt5y7fMiOCP8R6juKvUUbO4zA8O3ktv/xI7+yW0urWPKGFP3M0YON6HtyRkHnmuU0KytpIfC++BG8zULuR8j7zLuwfw2r+VelUVsqtru2//B/zMnTurHmNi6WNjouqX0Dy6daXt35xVN4iZmIVyPQHv2ras7uHxF4wfU9AV/s8Ng8Ml2YyiyyEjaoyATjrXaUU5VU1trr+IKm09/6R5ZJrllB8OJ9CitZ/7TjiZbqEQEeWQ2WkdumPxz0FdFq+pQaH4j0bUtR3x2RsngaYIWCMdpAOATziuxopusm727/irEqk0rX/AKTucf4a1eG51rxJqkkcttbbYJB5yENsVG+bHXBAyKpaf4z0FvG19cLf5iuoIIYW8mT5nBbIxt46jrXe0UvaQu7rolv/AMAfJO1k/wAPP1PPPE0lzpXjaa/m1d9Ignt0SG6+wC5U4zlM9VOeeOua1/Bb2dto+o38Osf2nC87SyyrZmAKwUbsJ9MHgV1lFDq3hy2/L/K/4h7P3+a/5/52/A5bTbG51rxFH4imhbToI4ykEQG2W5U/xS/7PovWupoorOUuY0jGwUUUVBQUUUUAFFFFABRRRQAUUUUAFFFFABRRRQAUUUUAFFFFABRRRQAUUUUAFFFFABRRRQAUUUUAFFFFABRRRQAUUUUAFFFFABRRRQAUUUUAFFFFABRRRQAUUUUAFFFFABRRRQAUUUUAFFFFABRRRQAUUUUAFFFFABRRRQAUUUUAFFFFABRRRQAUUUUAFFFFABRRRQAUUUUAFFFFABUF7e22m2M15fzJBbwqXklc4Cgd6npksUc8TRTRrJG4wyOuQw9CKTvbQDB8NeNdL8WXl9BpK3WLMRs0s0PlrIrglSoPzYwO4Hauhri/Dn/JVfGX/XOy/wDRbV2lKLvFMzg5NPmCiuK+LETT+BfKSd7dpNQslE0Zw0ZNxGNw9x1rDfwvpPgr4ieGD4bnulv9Smlj1BJbt5mu4REzGWQMTyGC8jAyaqOv32/I0en3XPUaZOZVt5DbqryhCUVjgFscAntzXlmneCdM8YeL/GK+IXurmyh1QBLFLhoot5gj/eHYQWboBk4HpzXVxeALC78DWnhnxTLJrlvatkSys8TNhjsyVbPyqQvXnFLeF+9vxHtI1fDFxrd14dtpvFNnb2WqMG8+C3fci/McYOT2weprWrj/AIVRJB8M9MiiG1IzMqjOcATOBXm0PgbTp/g7e+Kbq5vptXs4rm4sJ/tTqLLy5HIWNQcAZXJyD1NOUkm30FFN6dT2fXddtPD1hHd34kaOS4it1ESgndI4RepHGTWlXk3xW8J6Dqnh7TvEWrWgkv2msreW5ad1AhaVQwIDBRwzc4zz1rufC3gfw54N+0nwzp/2MXe3zj58km/bnb99jj7x6etO1r36O35Cve1uquObxBLc+Mv7D0uBJktIxLqVw5IEAYHy41x1c/e9Ao9xVjxPca5a+HbmbwrZW99qq7fIguH2o3zDOTkdsnqKwvhv89v4jmmH+lSa/difPX5WCoP++AuKo/GHwpous+CdR1fUrPzr7TLORrSXzXXyzwegIB5A6g10YuEaVT2cfs2v59W/8vIcNZP1t+h30JkaCMzqqSlQXVTkA45ANPrkPiF/ySHW+3/Etb/0GuWvPBdh4S1bwlren3N9Jq93qkNte3s907tdJIjlgwJ244GAAMVha8reaX3kp+5zeTf3K56xRXln/CE6Z4x+Jvi9PED3VxYwPabbBLh44mcwL+8baQSQBgfU1k3eqatpnwQs7awlubknWH01pDdiGTyBcSKF85uEyFVNx6Zqenrb8f8Ahy7f18r/AKHtNFePeCPDviDRfGthPpvgifw1pMokXUc68t7HOCpKNsJyGDAcjsTVnSPA+l+MfEXjD/hIXurm0h1lxFZJcNFErmKPMhCEFm6AZJAx05NHW3lf8Uv1F/X5/wCR6xRWX4a0m40Lw3ZaZeahJqUtrH5ZupF2tIMnGRk9Bgde1ah6UPTYEFFeFWXgvQpvhJc+JtYv7sahbJcy2Vybx0Fk6yPsWNQQOWA6gkk10XiGzufEWu/Dy3v7u6spbyyuWu3tm8uQ5hjZ1z1XJ4OOcZoWun9df8tf1Dr9/wCB6nRXnN54UX4beG/FGqeELiaC2bTjJDYMXlWGdQxMwZmJyQRkY/hrndd8J6B4a8D2vi/w7qF03iFvIkg1H7fI76hIzLlGUsQwbJyAP60LV/d+Ia/1/Xme0Vi+GvEX/CQrqh+y/Z/7P1Kax/1m/wAzyyBv6DGc9Ocetcfqmj6d43+I+r6V4ukkl07S7G3lt7D7S8MbF9xeVtpBOCAuc4Fcxp6adafBHxmmkMp02HWJhbsjl18oSR7SGOSRgdaI9b9v1SB9Ld1+TZ7jRXDeMdQs38XeB7RLmJriTUjOsSsCxj+zyjdj0yRzWZqOjad46+J+saN4smlmstMt7drLTBcNEku9SXmIUgsQfl68fjQrv+uwf5L8XY9HurlLOzmuZs+XDG0j4GTgDJ/lVfRtVg1zRLPVLMOtveQrNGJAAwVhkZAzzXK694D8NX/w/bTJ4JL+z0xJpbQSXcjGJwG43BsnbkqAScYx2rL+FXgHwpZ+HNB8Tafp6jVZLJWe5W5kbLsmH+UsV7kYxxQtXLyt+N/8v+HB6JfP9DrvEniCXSpLHT9MgS71bUpCltC7EIqqMvK5HIRR17kkDvT/ABhrFx4f8F6tq9mkT3FlaPNGsoJQsoyAQCDj8RWNanzPjdqH2j70OhQfZgeytM/mEfiqZ+gq18Tv+SWeJP8AsHTf+gmvThRgq1Gm1vyt+d3t6JfjcS1k/wCvMteFJfFMmnyy+M/7HErENB/ZXm7QmOd3md8+lQf8J5pfnZ+z3/2Pfs/tD7Mfs+c4+/6Z46VuwxLPpKRPkLJAFOOuCuK4HWrPX9D8Jy6VPqGltYCMwwfu2+0zA/dQL93POMj61z+7VqNtJeS0Ri5SUE0ej9elFV9Pikg0y1im/wBZHCivznkKAasVytWdjaLurhRVeO/s5r6ayiuoHuoFDSwLIC8YPQsvUA9s1Yoaa3GV7++t9MsJry9k8uCFdztjOBWLZ+NLO6v4LWew1KxNy22CS8tvLSRuwByetWPGFza2vhO+kvrc3EJQKYg23cSQBz25wc1y0dtqujatoMviO+XVreWVYoYw/MErfdf/AKaY/vH1relCMo3ZhVnKL0PQ6KKK5zcKKr2d/Z6jE0un3cF1GjmNngkDhWHBUkdx3FWKbTTswMzWNa/sdYj/AGbqF/5pPFjB5uzGPvcjHWqmleLINV1b+zv7M1Oyn8ozYvLcRjaCBnqT1PpW1c3EVpay3Fw4SKJC7sewAyawvCkEtzHca9eoVuNTYNGp6xwD/Vr+XP41pHl5G2jOXNzKzMXWNf8AGWi+ONLt7mPQn8P6pqAtITGsxu1BjZstkhB9w9M9uK7uuL8ff8hzwV/2Hk/9ES12ldOJ5XSpSUUm07262bQ18b/ruFFFV47+zmvprKK6ge6gUNLAsgLxg9Cy9QD2zXEk3sWWKKKKQHEeBNa8ZeIZDqWtJoSaJL5ywLaCYXIZZCg3biVx8rdD6Vs6j4y0nTdTTT3eWe5aVInSBNwiLHA3E4A/n7VQ+GH/ACT6y/67XH/o+SpPG8UcdhYMiKrPqluXIGCxzjJ9eBXo4pQeMlDlSSdtNOtjFuSpuS33OpooorzjYKKryX9nDfQ2U13BHdThmhgaQB5AvUqvU474qxTaa3AK5qTx1psV0EltdQjtjJ5QvntSsG7OPvHnr7V0tctq0n/CWyPoun/NYxyL9vux90bSD5SHu3AyegH5VdNRb95aGdRtR03OpooAwMDpRWZoFFV4r+znvJ7SC7gkubcAzQpIC8WeRuUcjPbNWKbTW4EF5e2+n2cl1eyrDBEMu7dAKz9C8TWPiGS6XT0nAtSoZpY9ocMCQQM5xgdwK1ZIkmjKSosiHqrDIP4VzHhv/kcvFP8A12g/9ANXBRcZX3S/Vf5mc20426u34N/oUPiPrfjPw3p1xrHhpNCk0uytTLcrqAmM5YE52BCFxjHU9c11dzNfNojzabHDJfGDdCkzFY2fGQCRyBmue+Kv/JKPEf8A14vXUWf/AB4wf9c1/lXZNxeFpz5VdSa9bKL1+8r7X9eRn+Gtfg8SaKl9BG8Eiu0NxbSfft5kOHjb3BHXuMHvVeTxDNY+M4tG1O3SK2v4y2nXSMSJHUZeJ89Gx8w9RnuKy/CqrF8RPGsduf3BntJGAHAmaH5/xICE/Wj4mqBoOlzJ/wAfUOtWLWxHXeZ1U4+qlh9M1aoU3ilStpNK3lzJNfdf5oV3yt9r/gdlRRRXmFhRRRQAUUUUAFFFFABRRRQAUUUUAFFFFABRRRQAUUUUAFFFFABRRRQAUUUUAFFFFABRRRQAUUUUAFFFFABRRRQAUUUUAFFFFABRRRQAUUUUAFFFFABRRRQAUUUUAFFFFABRRRQAUUUUAFFFFABRRRQAUUUUAFFFFABVfULC21XTbiwv4/NtrmMxypuK7lIwRkYI/CrFHTrSaTVmBxtp8JfBNjew3drovlzwSLJG/wBrmO1gcg4L4PNdlVGy1vStSuJINO1Ozu5ov9ZHBcK7J9QDkVepRUUvd2M4QhH4El6HLfEXQJ/E/hBtKt7b7UJru2MsXmBMxLMhfkkfwg9Dn05qfw14A8L+EJpJvDukQ2k0g2tKXaR8em5ySB7A10VFUtNjR67lKx0ix026vrmyg8ua/mE9y29j5j7QucE8cKBgYFU/E3hLRPGFjFZ+I7L7Zbwy+aiea8eGwRnKEHoTWzTJ5lt7eSZwxWNC5CjJIAzwO9J2S1Gr30Oa8NfDjwp4Q1KS/wDDulfY7mSIwtJ9olkyhIJGHYjqorTXw1pKeGpdAW0xpksbxvB5j8q5JYbs7uSx70nhjxFaeK/DttrOnR3EVvchti3CbHGGKnIyR1HrWtVSvsyV3RSv9G0/VNHfStRtI7mxkQRtBIMggdPywOetZvhjwN4d8GG6PhrTvsX2vb537+STdtzj77HH3j09a2ri6t7OISXc8cEZYKHlcKMk4Aye5PFS0r6tj6WOZh0O/wBI8dS6lpIifTNXAOowM21opkXCzJ67gArD/dPrSeJfhz4V8YahHe+I9L+2XEUQiR/tEseEyTjCMB1JrXutbs7XW7PSWLyXt2rOscabtiKOXf8AurnC5PUkCofE/iO08J+HbnWdRjuJba2270t497nLBRgZA6nua2rSnPllUXTR90tF/l8gW7SKOmfD7wxo/h6+0PTtM8nTtQz9pg+0St5mRg/MWLDgdiK173R7DURZC8g8wWM63Fv87DZIoIVuDzgE8HIq1DKs8EcqBgsihgGGDgjPI7U+stbiVrf11KdrpNlZalfX9tDsub8o1zJvY+YUXavBOBgccYqunhnR00OfR/sEUmn3DyPLby5kVmdi7H5if4iT7dsVqUUtxnJ6D8MPB/hjWF1XQ9HFreorKsguZXwGGD8rOR+lb+n6RY6XPezWMHlSX05uLg72bfIQBu5Jxwo4GBV2igDmPEuu+KtL1COHw74O/t23aIM9x/akVtsfJG3a4JPABz71T0nxN43vNWt7fVfh9/Z1nI2Jbv8AtqCXyhjrsUZb6CuzooB6nmvgz4ReHrKxttR1/wAPxNrglkklaaZpVz5jFTt3FPu7e3613tzo9jeatY6lcwb7uwEgtpN7Dy94AbgHByAOoNXaKNtA63EdFkRkdQysMMpGQR6Vyum/DDwZpGtjVtO0C2hvVbcj5ZlQ+qoSVU/QDFdXRRs7hurHP+IfAnhnxVeW934g0iG9ntuI5GLKcZzg7SNwz2ORyat23hjRbPTL3TrfToVsr52e4t8Eo5YAHg8AYAGBgCtWqWm6xY6wLo6dP532S5e1n+Rl2Sp95eQM4z1HFFugeZh6P8NfCGgTQzaRokNtNDN58cokdnD7Sv3ixJGGPy9OelWfEvgXw14wMTeItJivHiGEk3NG4HpuQg49s4roKKNwKel6RYaLpUOm6VaR21lCpVIUHygE5P1ySSc9c1haT8NPCOheIBrekaNHaX67tskc0gVdwwcJu2jg+ldQzKiF3YKqjJJOABTILiG6t0ntZUmhkUMkkbBlYHoQRwRRfW4dLHO+KNCvptT07xB4e8o6tpxaMxSttW6t3xviLdjwGU9iPQmp/HWm3es+ANb07TofOu7qykihj3BdzFcAZJAH41f1rW7PQbAXV+z4eRYoookLyTSNwqIo5LH0+po13Wbfw/4fvdXvUle3soWnkWIAuVUZIAJAz+Irtp1K16TSvZ+7563t9/5i+0UPCWo69qGnOPEvhz+wpYSqRx/bo7nzVx97KD5ee1S2HhDQdMvftlnpsa3GdwkdmcqfUbicH6Uzwt4oHimzmuF0XWNJEThQmq2nkNJkZ3KMnI960v7V0/7d9j+3232rOPI85d+f93OaivzxqyXLyvqle34tv8TNKDir6luiiiuU1PP/AAp4X1ab4iaj4117TrfRprmzWzjsILgTM2GBMkjAAFsKoGOwr0CiiujEYiWImpS0skkl0S2Wt397ElZt9yK5toby2kt7qJZoZBtdHGQwrJ03wdoGkXou9P05I5x91y7Pt+m4nH4VtkhQSTgDkk9qp22r6bezmGz1C1uJQMmOKdWYfgDWUZSSfKKSi2uYuVU1S4vLXSrifTLIX93GhMNqZhF5rem88L9at0VMWk02rlHF/DXwhdeFNM1OTUUt4LrVb5717S1YtFbBukak4zgd/wDCu0oorbEV54iq6s92JKxW1DT7bVLF7O+jMkEmN6Byu7Bz1BBqwqhVCqAABgAdqr3mpWOnBDqF7b2ofOzz5VTdjrjJ5qO01nS7+bybHUrS5lxu2Qzq7Y9cA1laTXkK8U/M4rxBH4r1zx5oluPC/k6PpWqLdf2p/aETeagjdf8AVcMOX9+lehVyNz8Q7Wz8ZQeHrrQtdhe4uRbQ38lmFtJX2lvlkLc8A9B2NddXZi/actOM4KKtpa+vnq3+noJW5nqFef8AhTwvq03xE1Hxrr2nW+jTXNmtnHYQXAmZsMCZJGAALYVQMdhXoFFY0cRKjCcY/aVm/Lt219PSxTSaswooornGcF8Ov+Eq0uMaDrfhb7DYW5nePUv7Qik80tKWVfKXJGQx5z2966DUfBXh/Vr+S91Cw824kxvfzpFzgY6BgOgqh4Y+IFv4r1SS0stB122hQOVv7uzCW0hRtpCyBiCc549j6V01xeWtp5f2u5hg8xgieZIF3N6DPU16GMlWWIcpQ5JPdK/X5vft+BnyxcbPVEOl6VZaLYiz02HyYFYsE3s3J68kk1coorgbbd2WkkrI4DVfDOr+JfilpWq3unW+n6boEjvBdi43zXu5RgbQPkUHOdxzxx1rv6KK3rYiVaMIvRRVl+fXu3f8tAtq2IQGUg9CMGuZPw68KkknS+T/ANPEv/xVdPVX+1dP+3fY/t1t9qzjyPOXf/3znNZQlOPwsmUYy+JE1vBHa20VvAuyKJAiLknCgYA5qQkhTgZPYetY/iXxD/wjWmpef2Rqurb5RH5GlW3nyLkE7iuR8vGM+4pfC3iS18W+HLfWbCC5t4J2dRFdIEkUo7IQwBIHKnvWjo1fZe2a929r+ZWisjmPB/hjVT481Xxnr2nW+j3F9bJbJYW9x5xwCCZJHACljtUDHYV31Z2j67Za5HcNZM4e1na3nhlQpJE69mU8jIwR6gg0ahrtlpepWFnfM8Tag5iglKHyzIBkIW6Bm5wD1wa1xE62Iq2lGzStbXRJed3sJJK7LV9Y2+pWMtnex+ZBMu103EZH1HNYlr4C8NWd3Fc22m7JoXDxt58hwwOQcFsV0VFc0ZyirRdglCMviVzgfij/AMJVqWh3nh/w34W/tS31CzKPff2jFD5LkkY8t+W4AOcjrXYzteWuhubG2W4vY4P3UDybFdwOAW7DPertFbyxHNShS5UlFt9db2318ulh2965h+FNAfQNJkW7nF1qN5M11fXIGBLM3XA7KAAoHooqveaJfaz40tbvUtkek6T+9s4VfLXFwy48xh2CAkAdySewrpKKn6xU9pKp1d/lft8tPJbC5VawUUUVzlBRRRQAUUUUAFFFFABRRRQAUUUUAFFFFABRRRQAUUUUAFFFFABRRRQAUUUUAFFFFABRRRQAUUUUAFFFFABRRRQAUUUUAFFFFABRRRQAUUUUAFFFFABRRRQAUUUUAFFFFABRRRQAUUUUAFcvrfjf+xNUey/4RjxHqGxQftFhp/mxNkZwG3Dkd66iipkm9nYmSbWjsZuraz/ZOinUf7O1C9wFP2Wzg8yc7iB9zI6Z554wareHPEv/AAkS3B/sXWNK8gqManaeT5mc/d5OcY5+orbop681+grSunc5W48dfZ9cbTP+EW8Sy7ZxD9rj0/MB5xvD7vu9846Vra/rf9gact3/AGZqOp5kCeTp1v50gyCc7cjjjr7itSip5Zctr6jtLXX/AIBk+Hte/wCEgspLj+ytT0vy5NnlalbeS7cA5AycjnrXN3d1ceBPEFpBbTyajpmrXBVdOLl7m3kPJeLPLR92B+71B7V3VYuj+GbfTNRudTuZ5L/U7kkPdzgbkjzxGgHCqPQdTyaLO6/r+r/gS4y5bX17m1UN5aQahZTWl5GJYJ0MciHoykYIqaqOs2V1qOi3VnYXzafcTRlEukTcYie4GRz+Ipy+F6X8jQ4ltA0eT4i6RH4R062s20dnfUbm0iEahWTCwsR95znJB5A+teiVwOgeBPFHh9LW2tvG6mwhkDvbLo0K+aM5YF9xbJ7tya76lTVo7WMKSercbfd+hy3xE1fVNE8Im80F0S++120UfmAFW3zIpU5BwCDjPUZ4rGguvGXhvxbo0fiTXLTV7HWpnt2ghshB9jkEbOuxskuvykfNzV34sxTTeAzFaz/Z5pNQs1jm2BvLY3EYDYPXB5xT9F8D6lDrltq/i3xPP4hurEMLNTaR20UJYYLbE+82OMk8ZNXHq/P9Eby7eX6syEuvHHiXxJ4k03RtdtdIstOvhHHdPZrPLzEjCMIcLt5JLHJ5wOlb0Vr4w1jwNaRXGpx+HfEAb/SJ4raO5UhWI4Unb8w2t14zitHQ/D39jarrd79q87+1rwXOzy9vlYjVNucnP3c5460vibTNb1Swii8OeIP7CuFk3PP9iS53rgjbtcgDkg59qX2UvT7x9W/Up/D7Ur/V/Alhe6vc/a71/MWWfy1TeVkZQdqgAcAdK4CPWviLc+Arjxf/AG/Y29vp4mlSy+wo5vY43bJkfjYcAgBR2Hc12Pgbwbr/AIS/0a/8Wf2tpqRusVn/AGbHBsdn3F94YsercHj5varMfgry/hrdeE/t+ftEE8P2ryfu+YzHOzdzjd684olfdb/1/XYUbbPY5T4r2Gv6hpGnajZeIvsVhLc2SjT/ALDHJtmaUYl8wnPBKnb0O33rtfC+j+ItK+0/8JL4o/t/zNvk/wDEvjtfJxnd9wndnI69Me9O8ReFYvEXhP8AsWa7ltmURNFdQjDRyRkFXA+oHFN8L6P4i0n7T/wknij+3xJt8jOnx23k4zn7hO7OR16Y96rROSXf/InWyb7GX4AxqWoeJden+a6udVls1Y/wQwHy0QegyGb6saZ8TT4lsfDtxrXhvxH/AGUmnWzyy232GOf7QRgj5n+736A9ak0iObwr46v9MlgkbTNena9sp0QlYpyuZomx0zt3qTwfmHaneOfCGv8Ai2OS007xZ/ZGmT2/k3Fn/Zsc/mkk5beWDDggYHpXXjtaqnHZpW9LWt8rW9UVCybv3/X/AC/yL3jLVb3SvhzqmqafN5V7b2LSxSbQ219uc4II/SuXF9460XV/D+o69rNjc2msXqWk2lQWYVbXerEFZc7mI2854rbXwfrd34H1XQPEPij+1Jb6MxRXf9npD5CFQMbEb5vXkitXW/Dn9sLoo+1eT/Zd/Fef6vd5uxWG3qMZ3deenSuXTmv5r7uv9fcTryW62f320/H/AIJyd1c+N9f8d+IdG0LXbXR9O09oCty9ms8qs8StsVTgEE5JLZI4Aqtc/EfUdI+EtvrOqyWqapJetprXDRsYVdZXQylF5ICoWwOpruNL0D+zfEmt6t9p8z+1nhbyvLx5Xlx7Ouec9egxWSPAED+D30OfUJg4vZL6C8t18uSCVpmlUryfulse4z0zUdLen6X/AF/rUvTf+tn+tjjPBPxKe68bWOit4xg8Vw6iJAWGkvZSWrqpYY4AZSAR65xWtb3PjrxPrfiOy0jX7XSbTTdSaKK5ezSeU/IhEQU4UKMkljlju9q39A8O+L9O1hLjW/HB1ixVWBszpMMBYkcHepzx1960tA8Pf2Hfa1cfavP/ALUvjebfL2+VlFXbnJz93OeOvSn1+T++6/S5P+f6Mm8NTaxP4bsn8S20dtqvl4uY42BUMCRkYJHIAPXvWpXMeJfiN4V8H6hHZeI9U+x3EsQlRPs8smUyRnKKR1BqnpPxc8Ea7q1vpmla3595ctsij+yTruOM4yyAD8TQ3zbDty7nK2Wo/EfU/BMvieHxDYW0dms8sdmbFXN4kbNnzH42H5SBtHQDJzW3r/ijxDc6h4Oi8Lvb27a7azSyJdLuRP3aOGOBuO3c2ACMnrXP+DPBWu+IfBkMV74xuYvD91JMH0q3so0bZ5rAp5/LYODnjocV6Jd+Fop/EXh/UrecW8WiRzRpbLHkOsiBAM5+XaF9Dn2oj5/1o/z0/wCAHXTz/wCAYEWoeLvBum6/deK7uPXrGxsvtdrepBHbM7jduhKKTgDC/Njv1PbL1G9+IHhfQ18W6tr9jfWqeXLeaMlgI0ijYgMI5c7iy54zXo+qabbaxpN1pt+nmW13E0Mq5xlWGDzXDwfDPVJRb6frvjO+1TQLV0aPTXtY42cIQVWSUfM6jA4wM4oXxa+X/BB2t/Xl/wAEsaxf+JfEXi+80Dwtq8OhQabbwy3N69mtzJI8uSqKjEKAFXJPXJrmdCvtW8O/DLxjdJqAl1S112cNeCBV8x/MjVm2cqM5PHbNdhrvgi/vvEra14d8S3Ogz3MKQXyxWyTC4RSdpG77jAEjdz/jHYfDWztPBWs+GptQuLi21SeSYzv/AK1CwXksSdzArnPGfSiOifp+q/Qb1svNfk/1NDxPq17p+s+GILOby47/AFIwXK7FPmJ5MjY5HHKg5GDxWRq9/wCKPEfjDUNA8K6rBoVvpMcTXV89qtzJJJINyoqMQoUL1J5yaZY/DrVf7b0nVfEPjC61i50qcvCjWqQxbCjKV2qfvcg7zk8YxzV7X/BF/eeIJNc8LeJLjw/qNxEsN0y2yXEU6r90mN+NwzjPpR69/wBF/X9ar/L9SLxHpHiu48AtAfFENpf28UrXd1DpyOt3GFbC7GPyEjGSO+cVl/C3RPFEHh7Qb+88X/atJaxRk0r+zIk2KU+VfNB3Hbxz3xXbadpMtv4fGm6rqE2qSOjrPdTKqtLuJzwvCjnAA6ACue8KeC/EHhe8toP+EylvtCtUMcWmzafGGC4woMwO4447dsU1pKXnb9f6X6CeqX9dhW/4m3xl8m5+aHRNLWeCM9BNO7KX+oSPA/3jVr4nf8ks8Sf9g6b/ANBNVfE0U3h7xhZeLreCWe0aD+z9UjhUsyRFt0cwUckIxIOP4WJ7Va+Jpz8LPEn/AGDpf/QTXrQ96vh5R291ejT1/HX5iXxv5fkb8SyPpKLC22QwAIx7Hbwa8yuYorHwlNaXXhS8TVIEZ5NRMQChwc+YJup9cfhXbeD/ABhoXi/Sml8O332xLXbFMfJePa23OPnUZ/Co28LX9/MBr+vzX9or7xaJAsKNg5Afb94e1clpUKkoVVytPZ3T/r1MGueEba/cbunyyTaZayzf6x4UZ+MclRmrFHSiuRu7udEVZWCivN/CGsah4j+KWr6rpF/f3XhNrJET7TE8cX2kEDEIYDgAEk46n6V6RXRicPLDzUJPWyb8r9H5oE7trsY/i2OCXwnqCXd19kiaL5psZxz0wOuemPeuJ0wLLr2hf2noUHh8BvMhuIItv2p8YCE/w564bJP416BrWkw65pE+n3LOkcwHzIeVIOQfzFY0HhW/mvbWXXdfl1KGzkEsMH2ZIhvHQsRy2KKM4xi03/Vv63MKsHJqy/r+u2p09FFVNU1O00XSrjUdSlMNrbIXlcIzbR9FBJ/AVzxi5NRirtnQW6K4P4Uvrk+j6rda1c39xaXGpSvpjaipExtz90kHkA9h+XGK7yt8TR9hVlSve3YSd9Sre6bYagq/2jZ290I8lfPiV9vrjI46VznhTT7O61i+12ys4LW2bNrZrDEqBkU/NJwOcsOPYV0GsWM2paTcWdtdfZHnXYZQm4qD1wMjnHFT2dpDYWUNpbLshhQIi+gAxWcZcsWr/wBf1+pEo3ktDkfH3/Ic8Ff9h5P/AERLXaV5h4w8YaHqfxD8L+HrG+83VbDW1e5t/JceWPJkGdxXafvDoT1r0+u3F0506NFTTWjevZt2YJrnfy/UKKK838IaxqHiP4pavqukX9/deE2skRPtMTxxfaQQMQhgOAASTjqfpXPRw8qsJzvZRV/8l6vp6Fydlc9IooormGcl8MP+SfWX/Xa4/wDR8lVfGWh2VvcWmqqjveT6lbqZJHLbFz91R2HGazvhN4x0G90qPwzbX2/V7VrmSa28mQbV89udxXafvL0Peuh1/wAMarrd0CviD7PapKk0Nv8AYkfy3Xod2QTzzzXqYuE6OOn7S8dW9b6q/wCv3HPJc1JxSu/1Onoqnpdte2liItSv/t84Ykz+SsWR2G0cVcrzGrM3TugorzjWdXv9V+MGiWPhe+vzFpjSLrcIidbVEKgruYgKznPGM/hg16PXRXw8qMYOT1kr26rV2v67ryYXu2uwVw/ibQdIMUOkaNp8CavcSiWOSNfnhUNlpGbqF6jnv0rtyCVIBwccH0rjrPwdr1hNcTWnivZJcvvlkbTkdnPbLMxOB2HQVFFpSve1vX9DOqm42tf7v1OyHA9a4r4R/wDJOLb/AK/Lz/0qlrZ17xRpPgvQ7e88Val5MTMsBuPIdvMk2k/dQHGdpPpWF8HJo7n4YWU8Lbo5bm7dGxjINzIQa7I05xwE5tPlco2fR2U9i29kTXy/2V8YdJmtvlXXLCeG6QdHaDa0bn3AZlz6EelbPjDSItc8H6lYzfKXgZopB1jkUbkcHsQwB/CsnSI5vEfjqbxDJDJFp2mQyWOn+YpVp3Zh50uD/DlAi+uGPpVnxveXr6WuhaLG7anrAa3ikCkpbx4xJMx6AKp4Hdioq3ze2oxTtKKV32s29f8ADG1+1rdBxaTbe3/AX9eZe8IapLrfgrRtTuf9deWUU0mP7zICf1rZqrpmnwaTpNpp1mu23tIUgiHoqqAP0FWq8+tKMqknBWV3b0FBNRSYUUUVkUFFFFABRRRQAUUUUAFFFFABRRRQAUUUUAFFFFABRRRQAUUUUAFFFFABRRRQAUUUUAFFFFABRRRQAUUUUAFFFFABRRRQAUUUUAFFFFABRRRQAUUUUAFFFFABRRRQAUUUUAFFFFABRRRQAUUUUAFFFFABRRRQAUUUUAFFFFABRRRQAUUUUAFFFFABRRRQAUUUUAFFFFABRRRQAUUUUAFFFFABRRRQAUUUUAFFFFABRRRQAUUUUAFFFFABRRRQAUUUUAFFFFABRRRQAUUUUAFFFFABRRRQAUUUUAFFFFABRRRQAUUUUAFFFFABRRRQAUUUUAFFFFABRRRQAUUUUAFFFFABRRRQAUUUUAFFFFABRRRQAUUUUAFFFFABRRRQAUUUUAFFFFABRRRQAUUUUAFFFFABRRRQAUUUUAFFFFABRRRQAUUUUAFFFFABRRRQAUUUUAFFFFABRRRQAUUUUAFFFFABRRRQAUUUUAFFFFABRRRQAUUUUAFFFFABRRRQAUUUUAFFFFABRRRQAUUUUAFFFFABRRRQAUUUUAFFFFABRRRQAUUUUAFFFFABRRRQAUUUUAFFFFABRRRQAUUUUAFFFFABRRRQAUUUUAFFFFABRRRQAUUUUAFFFFABRRRQAUUUUAFFFFABRRRQAUUUUAFFFFABRRRQAUUUUAFFFFABRRRQAUUUUAFFFFABRRRQAUUUUAFFFFABRRRQAUUUUAFFFFABRRRQAUUUUAFFFFABRRRQAUUUUAFFFFABRRRQAUUUUAFFFFABRRRQAUUUUAFFFFABRRRQAUUUUAFFFFABRRRQAUUUUAFFFFABRRRQAUUUUAFFFFABRRRQAUUUUAFFFFABRRRQAUUUUAFY3iPxPZ+HLaLzUkur26by7OwtxumuX9FHYDux4A5NbNcHqun3nhLxhd+LoreXWbG7jWO8TbvubBF/ih9Y+7IOe4z0rrwlOFSpafyW132v0/pLVid0tDofEXiXTfDfhs6l4ium0uFwsbSBGlMTsOB8gOSD3xjiqvw+eOXwLp8kGvXHiGJw5XUrmNkeYb26hvmGOnPpVjxD400DwrpFtqevXxtLO6cJFIYJH3MVLAYVSRwD1Fcj8H/G3h/V9Bg0HT9Q87U4BcXEkHkyLtjM5IO4qFP314znn611Rw1WWAnUjTlpJXdtLWl5XVuvvW11WxDkuaOpuXHxX8D2s9vDceIbaOS4Yqisr8EMV+b5fk5B5bFdDJrWnxa1baTJcbb26heeCPY2JEUgMQ2NvGRxnPOa8W0Lxh4Si+HOp+FrO2a/8QXxuo5dPtrKRnnlaRwpZwu3gFec8Ae1d14j0m70nwPoOrEGTUvC6w3Emz5jJGqBLhR65QsfqorqxGXUqVRU2pRu2lzW1/la0Wl7J790xKUnt/Vv8zptT8VaNo9xdQaheeVJZ2ZvrgCJ38uEHG4lQe4OB1ODgVwuj/Hnwhd6hqEOparHBEl35dgyWk5M8W1fmPynB3Fhg46V0vgWMajHqHip8l9cmEluWGCtqg2wjnpkAvj1euY0/wAbaH4G8aeKbHxXcTadLqGqC5tGe1ldJ0aKNcqyqR1Ug0sPhaDdSk6cpzils9b3XNZcr2d/l94Sk+XmT0v+j/D/AIBu6343tvDXj+aHXtVistGj0ZbkLIo5mMzLkYG5jtH3Rnp0rodG8T6Lr+h/2xpGow3GngMWnyUCbeTu3YK4HriublsLS7+O8dxc28cstr4fV4HdcmNjcMCR6HBIz71zmp6Xc33h34k2ek2rTyNrCSNbQ8NMoit3kQY7sAwx3z71KwuHrRhHWMrRu9LatLbvre9/K3Uptqbt3X/pKZ2ejfEzwd4g1k6VpGvW9xe5IWLDL5hHZCwAf/gJNP1z4i+E/Dc1zDresw2s1q6JLEyOzgsoYYUAlhgg5GQO9cVq/ivQPHi6Jong+2uJ9RtNRtpyPsLxDTUjcM5ZmUBflBXAJznFdH4bsLR/i14zvnt42uo/scSTFcsqGAEqD2BwPyp1MFQpXnVjKNo35W1zfFFJ35dE79unUlTbdjrtM1Sy1rTINQ0q5jurS4XdFNGchh/njHarVcH4B01L34cX2mxXFxYpJf6hCs1m/lyQj7TIAUb+Ejsa1vDHgv8A4Rm8muP+El8Q6v5sezytWv8Az0TnOVG0YPbNcFfD0ac6kefWLaStv89ik3YyNa8T6LqHxK0fQrbxbc6fqlhckz6XDbSFLzdHuCO+NuAOepHPrgjq9Z8Q6V4ejt5Navo7KO4kMUckuQpYIzkFug+VWOTgcY64rzjx98S/CVr4u0Gzn1bZPo+rmS+T7NKfJXyJVzkLhuXUfLnrWv4tuNJ8WjwLcwiO/wBMvdYWRPMjIWQC3mIJVgD1HQivQngm40HUhKMHF7rrq9HyrfdJ3dutiXK0pd7f5nR+GvHHhvxg1wvhzVYr1rY/vUVGRl98MASPccVn3HxX8D2s9vDceIbaOS4Yqisr8EMV+b5fk5B5bFIYY4/jTHIiKrvoDBiBjIE64/LJrzjQvGHhKL4c6n4Ws7Zr/wAQXxuo5dPtrKRnnlaRwpZwu3gFec8Ae1OjgKNZucITa93RNXSd7tvltZW3sv1Dmadm7efyT/U9rk1axi1a10x58Xl3E80MYUneibQxyBgY3r1PfiqeoeK9F0uPU3v73yl0mNJL0+U7eUr/AHTwDuzjtmuH1m/j8C6x4K1LxK0qWVnpc1hdXccbyrHMyw4ztBPJjYA4rR8B6yuv+OPFWow2lzbW8yWfkfaYzG0qBZAH2nkA4OM845rneBjGl7d3cEr32TfPy2Ts+mvW2+wlUd0n1t+X+Zn+Hvjr4T1O7urfUdTjt5Wv2gsVjtZz50OQI3J2kAkk8HGPSvT68r8O+NdD8GeI/EOh+J7ibT76912a4tVe1lZZ0lK7GVlUj88V2vinwp/wlCWy/wBva3o/2csc6RefZzLnH3+DnGOPqarHYehCvHljKnBrd+8np0sl89y4t80k3s3+b/pfqbF7JcQ2M8llbi5uEjZooWk2CRgOF3YOMnjNcRbeJ/GWkeKdLsfGWm6P9i1iZoLaTS5pGeCQIXAkDgbsgHlcCt6MWvgHwVNLqOp6lqNrp8bzS3V9L59w4yTgtgZ64HtivO/DXxO8IeIvFVpq2va0o1J3+z6XpaW07JZ+YduS+za0rZALdAOB3JeDwspwqSjT54K6uk73tpa23d36b9E1OVlq7Haa54l1+41640LwTp1lc3dpGj3d5qMrJb25cZVMICzMRzgYwMetdHo39q/2Pb/8JB9j/tLb+/8AsO7yc5P3d3zYxjrXkHirTfB1h4/12T4mpqAs9Rlhn08qbn7NIREqMMQ/8tAU79sV2XgTSr27+HNzp93carY21xNOunyvKUvILVmPlHcclWA6Z6DFXisLShhYSjovd15d7rW0ru9nuklb1Fd89v69f67ndV543ivxvrMl5qPhHSdGk0azuJYNl9cSLc3ZiYqxTaNqZYEDdmt3wx4L/wCEZvJrj/hJfEOr+bHs8rVr/wA9E5zlRtGD2zXnPiKLwWPEmrWGhaj4ouNVeZ/tPh/R5Z47eadupf5QoBPJIYDrU4GhRlVlGK59Frytpd7q6t6t2X4lNu2ump6dD4z0X/hDbXxPfXcdhp1xCkoe4bBUsPu+7ZyMD0rnvC3xDs/GPxHurXw9qgvdGh0pZSggKbZ/NIJ+ZQ33ce1YmqacngXRPh/L4iVptL0PeuoPFCZUhlaLCSEAE7VbcAcdx3rQ8Ma/B4l+Mt5qFhb3Mdk2gosE1xCYvtCic/OqthtuTgEgZxW31OhGjUqwi5K0rS0srSsltrK2u60exm5S5FfR+7+aOi1n4leD/D+sDS9X162t70kBosM2wn++VBCf8CIq34kuPEwt4E8HWmmTzS5L3GozusUQGMfKgLNnPYjGK4Dwv4v8PeCLW/0DxXb3Nrrc19cPKhsJJTqO+RmV1ZVIcFSBz6YroviJ8SLLwNZ2NszJb3uogiB7iJzFbKMZdwgLHGR8o5J9BzWUsBKOIhTo0nJu9m9Yyt1SSWnXd/oac292T+G/E3iDW9N17T7my0+18SaRJ5HDu1pJI0YeNs/eCnIyOoH1rA1jXvivoIs2vk8GzNeXUdrDBbLdGSRmPYEgcAFiSeADWz8NNf8ACWpWl3aeFtXfVrxX+06jdS28kck0j8b23KB2wAOgAFP0Vv8AhLPH15rzfNpuiF7DTvSSY/6+UfTiMH2b1rT3aFepz0Uox1akne9tEr6pSett0vQjeGj/AK/4CNnxL418O+DoYpPEmqQ2Xnf6tCrO7+pCqCxHvipD4ltrzws+t+G0OuxlMwRWbrmZs425OACD1z0wa8w+IE2o+Hvibc6zN4om8MWN1YQxQX40UX6MVZt0ROCYzkhuPvZ9hW78N9R0jR/BeueIZfFY1ywkvHubq9XTGtBGwRA37oDJ6A5A5z65qZ5dThhIV43k3bpKzv8AZ0jZP/t9vyRTm1Pl/rY2vA/inW9e1nxBYeIbC0sJtLmhRYbaQyFRJHvwznhiMjkADr161d8SfELwr4Ru47XxDrMNpcSgMsWx5GwehIQEgcHk4rz/AMDfEnwnP8TPE4i1Xd/bl7arp/8Ao0o88iIIf4fl+bj5sUvjbxfqll4+vtLPiAeE0WOIWckWgm/m1PK5ODgjCk4AraWWOeN5J03FcqlbVdI3t7s3o276PrfZkQn7r16v83b8DtfFfipYPB9jrWgajCba4v7RPtSbWRonnVX5IIHykjPUexq3oXxA8LeJdWn0zQtat7y8gBLxoGGQOpUkAMPdSa8vsYlb9ni1Gpwy3EEWth7xGtSGMa3xMm6JQdvAOVHTkV0lvr+j+OvG3hmbwTE9xa6M80lzfC0khihjMTIIQWUZJYqdo7LntSqZfSjTnGzfJKa5lsrJW5tNb7JXW+l9h870fl+rNH4kePdR8M2Vynhm1tby9srf7XetdbjFbw5woIUgl2PQZ6Amus1nxDpfhzSf7S16+hsbUEAySnqxGcAdSeDwOeK8Y8XaF8RdD+HHiP8AtV/C89ndl7i/uIjcG6lywxgkBeBtUDGABXU+MvEHijQPBujS69JpVldS3hW71WzsZbuCwTa2yRY2+bcemTxyfWnLL6U4UYU2neTTaer0i+z87JJvVaNsrm97XzOz8M+NPD3jGGWTw3qkV8IceYqqyOmemVYAgHB5x2rlvEPizx14YSXXNU0bRf8AhH4JlSW3huZHvFRnCB84CHqDtAzzisH4Z311qHxS1G9vNduNeSTRkMeoS6T9gEiiX+FMDcBk/N+Haq918XPBfifXMeINZ+xaLp9wHgsTazO97Ipysku1CAgPKpnJIy2MYq4Za6eKlCnSdSCSb0k2k+i0i7vZNxVvLUj2l4u7/q1/P+vuPVfEPiAeHbGK/msbi5svMxdSwLuNtHg/vCvUqDjOMkDJ7Vo2l3b39nFdWU0dxbzKHjljYMrqehBHWsjWPE8VhotreafZ3GqS6htWxt4IyDMzLuGSRhFxyS2MAH6VV8DeF7jwzpt19tnQ3F9O1zJa22VtrVm6pCp6D1Pc84HSvEdKCw/PLSV9PPvp0t32e25pe7Vv68zp64T4l+JdGsbKLQ77xXc+G9Qu2SWG4treWRyofkZQcA4x1H4jiu7rzT4weNvD+meG7/w9fah5WqXEMcsVv5Mjbl8wc7gu0fdbqe1cXVGnRnf6lqlnomkyX+qXHk2sCjzJmUnGSBkgD1IrG0r4ieE9b199F0rW7e51BM/ukDYbHXaxG1vwJrnfF3ijRPGfwe1u70C7+22ilIJG8p4/m3oSMMAejDn3q94p0+0sdb8CQ2VtFBHb6oYoljQKET7NL8o9BwPyp682vl+JP2dPP8DuarahqFrpVhJe38vlW8QBd9pbGTjoAT1NWap6pqtlo1i15qU3kwKQpfYzcnpwATTSu7A9FczPB88NzpdxNbazNq8b3LkTTRshTgfIA3OB+XNOvPGvh6wkaO71JEkSRomTY5KsvByAOnv0rG8F+JtJuL7ULKG73XF5qM08CeW43oQCDnGBwDwean0Kzt2svFEzQoZZb65jdyvLKBwPpya6JwSk3NPb+un6GMJOSSi1vb8/P9ToLzXdMsILee7vI4obkExSE/K427uvTp+dR6P4j0nXvNGk3i3BixvXaykZ74YDj3rk4raG80bwRDdRLLEzgsjjIOIiRkfUVsyQ/wDFxJxBhJJNH+8B383ANKVOMbrrr+ARqSlZ9NPxLcvjLw/Dqf8AZ8uqQrcBthGDtB9C2No/Oruoa1p2lSRpqN0luZEZ13g4IXrz07j615XBMttobaLrPidtL+8k1jLo4cg567xyc9d3Wux1Gyhk8U+FLa623aRwS/NInDlYxhsH3GauVGMWte/4K/b/ADIjWk76dvzt3/RHQaR4g0vXo5H0m7W4ERAcBSpXPTggH8a0aqx6baQ6lNqEcIW6nRUkkBPzAdOOlWq5pct/dOiPNb3jJ1LxPo2jzvDqV8kEkaK5RlYkgkgYwOeh6VJD4g0u40V9Whu1exjBLyqrHbjrlcZz7YrmdS1fRtF+JE1zrTrGfsMYgcxM5U7mzjAODjvVZ0aXwX4q1BLd7a1vnaW3jddpK7QN+O24jNb+yXKnr/T2MvaPntp+u251EXi3Qp9VXTYdSie6Y4VADgn03Yxn2zml1XxZoei3It9T1BIZiM7ArOR9doOPxpbPRNOm0TTYXtIxHb+XPEqZXbIBkNx3z+feuctdb03wxrGtw+II5IZ7q6aaKQws4uIiBtUEA9ORg8c0lCDk0k3b8Q55KKba1/D+vkde+rWEel/2k93CLPbu8/eNpH1rnrLxfba14xtLTRr7z7M28jTJ5RX5wRjllB9elYbWkth4R026vrOVLCPVjdy2pjyYoCW25X0HBx71pWutW2ufELTrjT0lNqtnMqTvGUWU5GduecDpVxpRV3vv8tCZVG0ltt89eh1UOq2VxYz3cM26C3Z1lfYw2lPvcYycYpX1Wxj0pdSluUjs2jEglf5RtPTrzznp1rhYvEFvpWj61os8Nw2pPcXPl26RMSyuSQ+cY24OfoKtanGR4N8MXc1s91ZWnkS3USLuynl43EdwDUex1V9nYr2vRef4HR2Hi3RNUguZbG/WVLVDJN+7ZSqjqcEZI+lYdp8TNFfUr5Lu8SO0jKfZZFglJkyPmzxxg47CtrRvEWka9dv/AGSWmaKP55vIZAoz93JA+uPasMa7YeGfGmuHW5HtUvPJeCQxMyuFQg42g96cYR5nFxd7bdd15EynLlUlJb79NvU3PE3iOPQPC82qxR/aZGCJawg48+WQhY09ssw+lZWqT+IfCnw1u9QW4j1bWLWM3c/2hDsbndIiBSCAF3BR7DOag+JUgHh3SNVBJs7DV7O8uDj/AJYh8Fj7DcG/CuzkjjuIHjkAeORSrDswIrdclKjTm43vJ3+VtPx19fI33kk9rf5/18znvEnitdL8BSa/papcyzwxmxjblZpJSBEDgjglh3rB+IPjbxR4S0K4utN0G3uBZW0ct1qFzIVt97MF2Rxg72OT3IwO5rnvCizXviLS/AtyHePwlez3M7MOHjT/AI9M+vEuf+2dXfjt4x0Ky8Ear4Zub7ZrF3bxSw23kud6+aDncF2j7jdT2r1cPgoQxlLDqnz3ld7/AAtpJ6eXvdtVcmLu7SdraP16nqqHdGpPUjNLWH4V8W6J4w0x7zw5e/bIIH8mR/KePa+0HGHAPQim+HfGOm+JtR1exsFuIrnSLn7Pcx3EWw55ww55U4ODx06V4UsNWi5qUWuXfTb1HGS5U7m9XN+J/EV34f1nw/8Au4DpmoXv2K6kdTvid1PlFTnABYYOQeo6V0lc9480N/EPgfUrC3JW68rzbVh1WZDvQj/gSinhfZ+2iqvwvR+V9L/LctptWW4niDX7uw8R6Bo2lxwyXGpXDtOZVJ8u2jXLsMEYOSignjnoawvFPiLx7oK3+swaRojaFp4Z5IZLqQ3U0S9XUgbF45wcmoPh1qv/AAnOvXnjF42SGKzh062Vhja+0SXBH/A2Vc/7Fc/4j+KnhPXfEV1oWu6udO0Own8u6iNtM8moyKeUOxSFiBHPOWxjgdfZoYKarqiqXPyL39G3q76W62svW+2rMudOPNfT+v1/I9O1KO717wusuiX0unXU0SXFtNt6Nwyq6nqp6MPTNN8JeIP+El8NwX8kP2a5DNDdW+c+TMjFZE+gYHHtir2lalZato9rqOlyiSyuIhJC4QoChHBwQCPxFc18NyLjS9Z1GEAWuo61dXFsR0ePcFDj2YoT+NeXyr2FRSjZxat31vdP7vlZ+ZV3aL3/AOG3/rudjRRRXCWFFFFABRRRQAUUUUAFFFFABRRRQAUUUUAFFFFABRRRQAUUUUAFFFFABRRRQAUUUUAFFFFABRRRQAUUUUAFFFFABRRRQAUUUUAFFFFABRRRQAUUUUAFFFFABRRRQAUUUUAFFFFAEdwkkltKkEvkyshCSbQ2xscHB6464rgv+EP+I3/RUv8Ay3rf/wCKr0GiumhiZ0E1BJ37xjL/ANKTsJxTPPv+EP8AiN/0VL/y3rf/AOKrQ0Lw341sNagudb8ff2vYpu82y/saGDzcqQPnU5GCQeOuMd67Gitp4+tOLi1HX+5Bfio3XyFyr+mziG8FeI7Hw9p2l+GfGX9kfZXnaeX+y45/tHmSb14dvl25YcHnPtU+seDtZ16Gys9S8W3H9mraJBqVtb2kcTX7j77mQcxq/QovGO9dhRU/Xq9+bS9278sb3fna/p26WBRSVkcXq/hXxhPqcj+HfHa6LpgVEt7BdFhmEAVAuA7HJyQT7Zx2ql/wh/xG/wCipf8AlvW//wAVXoNFVHMK0YqKUdO8IN/e43fqxciPPv8AhD/iN/0VL/y3rf8A+Ko/4Q/4jf8ARUv/AC3rf/4qvQagvb2202xmvL+ZILeFS8krnAUDvTeZVkrtQ/8ABdP/AORDkX9NnC/8If8AEb/oqX/lvW//AMVR/wAIf8Rv+ipf+W9b/wDxVdB4a8a6X4svL6DSVusWYjZpZofLWRXBKlQfmxgdwO1dDQsyrNXSh/4Lp/8AyIoqEleL/Fnn3/CH/Eb/AKKl/wCW9b//ABVH/CH/ABG/6Kl/5b1v/wDFV6DWPqWvf2f4l0bSfs3mf2p5373zMeV5abumOc9OoxR/aVZfZh/4Lp//ACIOMUrv82ct/wAIf8Rv+ipf+W9b/wDxVH/CH/Eb/oqX/lvW/wD8VXoNRXNxHZ2k1zcNtihRpHb0UDJoeZVkrtQ/8F0//kSuRP8A4dnJ6F4b8a2GtQXOt+Pv7XsU3ebZf2NDB5uVIHzqcjBIPHXGO9Qt4K8R2Ph7TtL8M+Mv7I+yvO08v9lxz/aPMk3rw7fLtyw4POfarXh7xXruv3tvL/wictpotypkj1Ca+j3FcZUmEfNzx3711tR9frSlz2j6ckUtLrWPLbq91+SIjyTV1+p59/wh/wARv+ipf+W9b/8AxVH/AAh/xG/6Kl/5b1v/APFV2WuS6lBoV5LoNvFdakkTG2hmbajv2BOR/MfUdal0uS9l0i0k1aGOC+aFTcRRNuVJMfMAe4BzWn9pVv5Yf+C6f/yJXIv6bOI/4Q/4jf8ARUv/AC3rf/4qj/hD/iN/0VL/AMt63/8Aiq9Boo/tKv8Ayw/8F0//AJEORf02eff8If8AEb/oqX/lvW//AMVR/wAIf8Rv+ipf+W9b/wDxVeg0Uf2lX/lh/wCC6f8A8iHIv6bPPv8AhD/iN/0VL/y3rf8A+Ko/4Q/4jf8ARUv/AC3rf/4qvQaKP7Sr/wAsP/BdP/5EORf02eff8If8Rv8AoqX/AJb1v/8AFUf8If8AEb/oqX/lvW//AMVXoNFH9pV/5Yf+C6f/AMiHIv6bPPv+EP8AiN/0VL/y3rf/AOKo/wCEP+I3/RUv/Let/wD4qvQaKP7Sr/yw/wDBdP8A+RDkX9Nnn3/CH/Eb/oqX/lvW/wD8VR/wh/xG/wCipf8AlvW//wAVXoNFH9pV/wCWH/gun/8AIhyL+mzz7/hD/iN/0VL/AMt63/8AiqP+EP8AiN/0VL/y3rf/AOKrp9L8Rf2l4p1zRvsvlf2SYB53mZ83zI9/3cfLjp1Oa2qP7Rr/AMsP/BdP/wCRDkX9Nnn3/CH/ABG/6Kl/5b1v/wDFUf8ACH/Eb/oqX/lvW/8A8VXoNB4o/tKt/LD/AMF0/wD5EORf02eff8If8Rv+ipf+W9b/APxVH/CH/Eb/AKKl/wCW9b//ABVdf4f1208S6Fb6tpwkFtcbtnmqFb5WK9MnuKh8TeIE8PaWsywNdXdxKtvZ2qHDTzN91c9h1JPYAmrhjsTOahGMLv8A6d0//kQ5F/TZy3/CH/Eb/oqX/lvW/wD8VR/wh/xG/wCipf8AlvW//wAVXTXviNdFl0S01uJhc6rKLbzbcAwxzbN2CWIIBIIHB96n1vxBa6E2npcxzTSahdpaQRwKCxdsnJyR8oAJJ9BU/wBo172tDe38On/8iHKvPvuzkv8AhD/iN/0VL/y3rf8A+Ko/4Q/4jf8ARUv/AC3rf/4qtWf4k+Ho/Fdt4et5Z7y9muTau1vFuigkwTtdzgZ4PAyeOldZS/tKs1flh/4Lp/8AyIciTt+rPPv+EP8AiN/0VL/y3rf/AOKo/wCEP+I3/RUv/Let/wD4qvQaKP7Sr/yw/wDBdP8A+RDkX9Nnn3/CH/Eb/oqX/lvW/wD8VWr4d8PeMNN1YXHiDxx/bdnsKm0/siG3yx6NvU549K6yszxHr1v4Z8P3WsXsM81vaqGlW3UM4XIBOCRwM5PPQGoqY+rOLjJRs+0IL8VG6GoK+n6mnRWdq+uWWi+HbrW7ty1nbQGdjHgllxkBfUnoPrWNrXj600VLVTouuX9zcQLcG1sLAzSQo3dyDtHII4Y9K4dit1c6qisvQfEFj4n0GPVdDl82GUMF8xSpVwcFWHUEEc1W8L+IX1u3ure/txaatp0vkX1sGyEfGQynujAhgfw6g1oqUnFyWy3+f6f8DuK6N2iiisxhRRRQAUUUUAFFFFAFPVba9u7IxaZqH9nz7gfO8lZeO42nisT+wvFX/Q5f+UuL/Gunoq4zcVZW+5ESgpO7/NmVY6NLbaw+o3F59omktI7d/wB0E3MpJL8HjOemOK1aKKlyb3KSS2CiiikMKKKKACiiigAooooAhu7SC/sprS8iWa3nQxyxuMh1IwQfwql4e0dtA0WLTfts97HAWWGS4ILrHn5UJ77RgZPJxWnRV+0koOF9NwCiiioAr38NxcadcQ2N19juZImWK48sSeU5HDbTw2Dzg9axvCfhKLwxHeSyXs+palqMomvb6cKGmYDAwq8KoHQDpXQ0VrGtONN009Hv/wAPvby2E0na4UUUVkMKKKKAM7XtKfW9Gm05b2aySfCyywYDmPPzKD23DIyORnirdnZ2+n2MNnZQrDbwII4o0GAigYAFTUVfPLk5L6bh1uFFFFQAUUUUAFFFFABRRRQAUUUUAFFFFABRRRQAUUUUAFFFFABRRRQAUUUUAFFFFABRRRQAUUUUAFFFFABRRRQAUUUUAFFFFABRRRQAUUUUAFFFFABRRRQAUUUUAFFFFABRRRQAUUUUAFFFFABRRRQAUUUUAFFFFABTJYo54mimjWSNxhkdchh6EU+q+oWFtqum3Fhfx+bbXMZjlTcV3KRgjIwR+FJ3toByfhz/AJKr4y/652X/AKLau0rjbT4S+CbG9hu7XRfLngkWSN/tcx2sDkHBfB5rsqmCajaRlTU1fmX4/wDARyfxFvJ7Xw3bww3T2Ud7fwWtxcxttaKJ3wxDduOM+9cwvhnw14Y+LPhm38PRrDdSpcvdJ9peViPK+ViGY4zz6Zr0nUtNs9X06aw1O3S5tZl2yROOGH+e9ZOk+BPDWhTW02k6VHbS2rO0Uiu5YFl2nJJy3HHOcdsVPI+fm/4fbb9SatNzknp0+VnfT12+R5dcWmqeK/EGtXFz4RuNdntb+WCCddfW1NmqnChY+x75Oc5rrdQ8O6vqvwwgfxHqerabqVhYzefFZ3qgTkA480rkPkKM89zW/rnw78KeJL83usaPHPckYaVJHiLfXYwz+Na9vo1ha6EujQQbLBYDbiHexxHjGNxOenfOaxVCXs5QfVfj32X6ihSaquUtU/8AP06epy3w+8Kf2bpOl6r/AG9rd351hGfsd1eb7dNyKflTHGOg54FdvUNnaQ2FjBZ2ieXBbxrFGmSdqqMAZPJ4FTV1uyfu7F0afs4KJyfxF8KaL4l8K3Uut2f2l9PtpprY+a6eW+w8/KRnoOuabb/8kYj/AOwAP/ServijwH4b8ZyWz+JdO+2tahhCfPkj2hsZ+4wz0HWo9B+HvhfwzZ39rommfZYdRjEd0v2iV/MUBhjLMSOGbpjrUuN4Sj3/AOD/AJ/gbp2lF9v+B/kecv4KsdE8E+G/FcF1fS6+JtPJvpLpyTHI6KYtudoQK2MY6Cug8ReGLTxX8YjY6rPdf2euhI89rBM0a3P79wFcqQSoznAPXFdzP4e0y50W20me23WVqYjDF5jDb5RBj5BycFR1POOc1MNJshrjauIf9Pa3FqZt7f6sMWC4zjqSc4zWjacr9Lt/erfmZpNRt1sl9zv+R5Yk134O+HPjy08PSTiPSb9orFWlLG2jdIidrNnAXexGfrWV4e8OeIrLXdJ1TQPAtzpLtcxNe6kfEyXYu4CcPvQnDZBLAjuOK9lg0TTrY6h5VqhGpSGW7VyXWZioQ5DZGNqgYHFc5Y/CXwRpmtw6tYaElvewSiWJ0uJQqMO4Tft/DGKUXaSb8vw3/rqVLWLS8/xMK68K2Xiz4t+I7TWJrptPSys2ls4ZmiS4OJAN5XDEDnAyBk89K7Lwj4aPhPR5NMjvpbu1W4d7VZQc28ROViySSwXnn9K0INIsbbWLrVYYNt7eRpHPLvY71TO0YzgY3HoKzPFGseItK+zf8I14X/t/zN3nf8TCO18nGMffB3ZyenTFSvdVv63G/ed/62sdBXjuleBvD/iKHxXqXim6uWhttavfKU3bRRWeGyZFCkDdznLZ6CuotPFfj6a9gjuvht9ngeRVkm/t2B/LUnltoGTgc471n6L8JNBvNW1fVvFegxz38+rXE8DyTsyvCWyhKK2314Iz60Wu36P80F9PmvyZj38uoa38K/h+bu+uIby61W1Q3a/60ArIocE5+Yrg5Pc5rrNM+Hll4S1uTWfDdxcwhrSVbu0llkm+2ScFZGZmOGBB6Dnd279Pf6Jp2pJZJeWyulhcJc2yqxQRyICFICkdATwePar9VJ3vbRtv8UkJdL9EvwbZ4la+F/D+q/C1/HOpapcnxCbR7ptXF/IrwTjJEaqG2gBsKFx7VtXSP411vwtofiySaOyutC+33NmkzQi6uPkBRipBIUEttBrp5fhb4Km146zL4etWvS/mFiW2FuuTHnYTnnpWj4k8HaB4vtoYPEWmx3qQNuiJZkZD3wykHBwMjODil8vl0Wj/AM7/ACQf1f7v8vxPOfC2naLpMvxLsPC4QadBbRpGsczShW+zvuG4kk4bI68dKva9qdl/wp7wnF9qi8y7l0tYE3DMhWSItgewBz6V32k+GNF0I3H9kadDaLcokcqR52MqAhRt6DgnoOc85rGs/hX4J0+eWaz8P28UskiyFw7kqysHG3LfIMgcLgHoeKOv/gP4f5iauvv/ABsY/iXT7Txd8UE8NeJLmUaTDpi3UNgk7RLeStIysWKkFtoUcZ759a2h8PfC1z4Vfw3JbyXelQ3HmLbPeSN5LgfdDBtwAznBPetLxJ4O0Dxdbxw+I9MivViJMbMWV0z1wykMPpmrOh6BpfhrSk03Q7OOztEJIjTJyT1JJySfcmlb3bf1vf8AAb3uv60PNPhB8P8AwnJ4X0fxIunK2sRPITcC5l+V1dl5XdtzjHGK6nXT5nxd8KR3H+pSzvZYQehmAjH5hGb8zVmH4Z+ELbxMviC20WOHU0lMyzRyyKA5zk7A23ue1WvF/h+41qxtrjSpY7fWNNnF1YTSDK7wCCjY52upKn657V24WpGNX33a6kvJXTV/x18iZK97f1rcrfEjSJtW8DXv2Ef6dZbb60IHIliO8Y+uCPxrG0bVIfHXj7TdTtjusdH0tLkD0ubleB9VjU/9913lq801jC95AsE7xgywh94RiOVz3weM1neHfCui+E7Se28P2K2cM8pmkUOzbnIAzliSOAOBxXJblk7/ANPb+vRFXuv69f69Wc346hjh8UeCRDGsYbW2dgqgZYxOST7mu7ritU+EHgbWdUuNS1LQ/Ou7qQyTSfa513MepwHAH4Cuo0fSLHQNIt9L0mD7PZ2y7Yot7NtGc9WJJ5Pc0o6Rs+/6L/IH8V1/Wr/zLtVzf2Y1AWBu4BeGPzRbeYPMKZxu29cZ4zViuAt/DGraz8WofFWrabb6Vb6VFLa23l3AllvQSQrvgYVcEkKckE100KUKnM6krJJv1fRW83223FJtK6O/qtqNhDqml3VhdLuguoWhkHqrDB/nVmiuVpNWZSbTujxzTbyfXvDvhvwLeNvu7bUnttTHrBZkNz7N+5H/AAKvRfEfiZNGaGxsYDf6zeAi0sIzy3+25/gjHdj+GTxU9n4U0Ww8TXniC0sVj1S9QJcXAdjvXjjaTtH3R0AziszxF8M/CXizVf7S8QaT9ru/LEfmfaZU+UZwMKwHc9qbbaV/n6+X3C0T0+Rd8H+HT4Z8Pi0mmWe7mmkuruVVwrzSNufaOwycD2ArKhVY/jbc/ZzjztBRrkAcblnYRk++C4+grW8OeEdF8G6fcWvhnT/ssUz+a8fnO+98Y6uTjoKg8KaHeWUl9rGuFG1jVXV51jbclvGoxHCp7hQTk92LGuyhKMIVJN9LJetvwVvyIa0t3/zv/XqSeJdF0jVr3RZdYvpLSSzvlms1S68rzpQOEI/i+g569s1v1m6r4e0rXJ7GbVrKO6k0+cXFqz5/dyDo3B5+h46VpVjOfNTjG70vp0WvQrrcKKKKxGFFFFABRRRQAUUUUAFFFFABRRRQAUUUUAFFFFABRRRQAUUUUAFFFFABRRRQAUUUUAFFFFABRRRQAUUUUAFFFFABRRRQAUUUUAFFFFABRRRQAUUUUAFFFFABRRRQAUUUUAFFFFABRRRQAUUUUAFFFFABRRRQAUUUUAFFFFABRRRQAUUUUAFFFFABRRRQAUUUUAFFFFABRRRQAUUUUAFFFFABRRRQAUUUUAFFFFABRRRQAUdOtFQ3lpBqFlNaXkYlgnQxyIejKRgik720Ar2Wt6VqVxJBp2p2d3NF/rI4LhXZPqAcir1edtoGjyfEXSI/COnW1m2js76jc2kQjUKyYWFiPvOc5IPIH1r0SlBtq7M4Sk20woooqjQKZPMtvbyTOGKxqWIUZJAGeB3p9Zmv2Oqahpvk6HrH9kXO8N9p+yrP8vddrcc+vtUzbUW0GweHdftfE+g2+rWEc8cE+7as6bXGGIORk+nrVfxD4y0Dwp5X9v6lHaNNyibWdmHrtUE496qeCdS1TVvANteXlwl1qTrMvnSIEV2WRlUkKBgcDpXF28fxCf4k30ir4XbVI9NhDs4uPKWIu+Nv8QYkHPbgVnOo00o9fLyb/Q53UlGmnbV/13/U9R07UbXVtNt7/T5fOtbhBJFJtK7lPQ4IBH41ZqGz+0/YYPt/lfavLXzvIzs34+bbnnGc4zU1bG8b2VzPutbs7XW7PSWLyXt2rOscabtiKOXf+6ucLk9SQKzfE/j3w14Nmt4fEmpfY3uVLRDyJJNwBAP3FOOo61m+AMalqHiXXp/murnVZbNWP8EMB8tEHoMhm+rGrfxN/wCSX+If+vGT+VdGJpxoz5F039etvTb5X6jh7zt52OoRxIiuhyrDIPtS1zvijxEPCfgC71sxiVrS2UojZwznCqDjtkjNeYaJ8V5o/EemI/jiz8RLqN3HbzacmjSWv2cOcbo5CBu2kjhuo96wteXKhJ+4pM9xorzi6ufG+v8AjvxDo2ha7a6Pp2ntAVuXs1nlVniVtiqcAgnJJbJHAFavh3xRqE/wvuda1gRPf2EV0JmiXCyNAzruA7Z2ZxThFzaS3f6lW1SOgttesbvWL7Trd2eSwVTcyBf3cbMM7C3TcBgkdgRVyzvbXULOO6sLmG6tpRmOaCQOjj1DDg1z/wAPLBbLwBpTMd895At5dSnrLNKN7sfqW/LFcvoWsp4G0XxlpMw+XQJnurKPH3oZwXiUevzllrTERhTqyhDaP420f37pdiYPnSa6/r/X4no1vqFndxSyWt3BPHC7RyvHIGEbr95WIPBHcHpRY39nqdot1pt3Bd27EhZreQSISDg4I44IxXI6R8PtPuPAOj6P4hjkuDCRd3UQlZVnnbLP5gB+YbmJwfQVH8G0WP4a2qRqFVbq6CqBgAee/FZWs2n0C90mv63Ops9dsr7WL7S42dL2x2mWKVCpZGGQ65+8p5GR3BFaNcZ42jNh4j8La7a/LcJqK6fKRx5kE4IKn1wwRh9K7OuitTjGEJw2a/FaP/P52C/vW/r+tAqhb61p91rd3pEE+++so45J4tjDYr52ncRg5wehq/XHaPGw+MHidz0Om2GPfmf/AApUacZxqOX2Vdfel+oN2R2NFee+NPFfiHR/EBtdI17wLYW/lK3k67eSRXGTnJwpA2+lbfgXWdU1vSLifWdS8O6hMk5RZPD87Swqu0HDFicNknj0IraeCqQoKu2rP7xcyvY6euc1X4geGdE8SW+g6pqfkanclBFB9nlbdvOF+ZVKjJ9TXR1yHxJ/5F/T/wDsM2P/AKUJXCviS7tfiV0fozr6K5P4j+Lz4M8KC/jeGKae4jtopp0Z44i2cuyryQqhjgdcVxXgn4lPdeNrHRW8YweK4dREgLDSXspLV1UsMcAMpAI9c4oj7zsgeiuz2GivKorz4heIB4iuNM8Q2emWmk6jdRWwNik0lyI2OI3J4VQMAMAWPOa2dc8V3r/A1/EUW23vrvTYmUx9I5Jdq5H0L5rWhSlWnGEd5NL/AMC2B6Ss/P8ADc6ez8S6Xewahcx3AS00+Vop7uX5IcqPnIc8EKcgnoCCK0o5opYFmikR4nUOsisCrKRkEH0x3rNsvD1hZ+E4/D8cK/YVtfspT+8pXBz7nJJ+tedWeu3th8G7vQg5Ot2V03h6LPBaRm2Rt/37YNn2qavLzyVLbpfr0/O33hHVJv8A4br+Vz0uTXtIi0ldUl1WxTT3+7dtcoIm5xw+cdvWrNpeW2oWqXNhcw3NvIMpLDIHRh7EcGufuvCfhaz8O2EevWNjPZaJa+XG98itHEgUAsQ3H8I5NZnwx0gWFvrWoWdo2n6Tql99o0+yZdnlxbQu/Z/DvI3Bewx0qdLtf1/X+QtbJnUaRrtlrX2pbNnEtnO1vcQyoUkiceqnsRgg9wRRqWu2WkXthbX7PF9vlMMMpQ+WJMZCM3RS3OM9SMVzuqRnS/i3od5a/KNZtZ7S8UfxmJRJGx9xlxn0at3xTo8GveFdR0254WaBtrjrG4GVcHsQwBB9q7JUqUakG78klfzWrT+5p+qBXbaRrUVheCdVn1vwJoup3ZzcXVlFJKfVioyfxNSaDbeILe61VvEN/a3cMt2z2C28WwwwY4VuOT+f15wMZ0XCU4yavHT11toKMrxT7mzRRRWBQUUUUAFFFFABRRRQAUUUUAFFFFABRRRQAUUUUAFFFFABRRRQAUUUUAFFFFABRRRQAUUUUAFFFFABRRRQAUUUUAFFFFABRRRQAUUUUAFFFFABRRRQAUUUUAFFFFABRRRQAUUUUAFFFFABRRRQAUUUUAFFFFABRRRQAUUUUAFFFFABRRRQAUUUUAFFFFABRRRQAUUUUAFFFFABRRRQAUUUUAFFFFABRRRQAUUUUAFFFFABRRRQAVR1myutR0W6s7C+bT7iaMol0ibjET3AyOfxFXqKUoqSafUDgdA8CeKPD6WttbeN1NhDIHe2XRoV80ZywL7i2T3bk131FFEYqKsjOFOMFaP5sKKKKZoFZPiLTtY1Kyji0DXP7FmWTc832RLjeuD8u1jgc4OfatailKKkrMTV1Y5HwZ4S1rwqBb3nif8AtPTkRxHaf2ekOx2bcW3gknq3Hv7VsQaH5Pi681z7Ru+02kVt5Oz7uxmbduzznf0x2rWopKKVvL+v1IjTjFWQUUUVRocZpEc3hXx1f6ZLBI2ma9O17ZTohKxTlczRNjpnbvUng/MO1O8c+ENf8WxyWmneLP7I0ye38m4s/wCzY5/NJJy28sGHBAwPSuxqG7vLawtXub64itoI/vyzOEVe3JPAravV9s1KS1tr520v92/nqC91to5ux8I6hP4Uv9D8Ya+2vJdjYsyWaWrRJgYACk5IIyCe9VNL8KeMtP1S2e4+IMt7psLjdZzaTDvlQfwmUHOf9rGa7QEMoKkEEZBHelrLrcVlaxj6XoH9m+JNb1b7T5n9rPC3leXjyvLj2dc8569Bio9B8NR6N4dn0ief7XFPNcSO3l7MiaRnK4yem7Ge9blFCbWwzkfAMl1pdlJ4T1SKUXOiqI4Lgodlza5IicN0yANrDqCvvTPEvw+j8ReLrDWf7Qa2ihVEvLQQ7heJHIJI1LZG3DD0OeldjRWtar7Wr7W1nv8APq/n2ElZOPQx/Eum61qmnRw+Hde/sO5WQM1x9jS53Lg/LtcgDkg59q5/wJ4G17wc4t7rxd/aelqJCtl/ZscOJHbcX3hi3UnjpzXcUVitBvVWOO1CObxR48sbZIXXS/D032q4mdCBNdFCI41z1Cq5YkcZKj1rsaKK2q1edRilZRVv1b+b/wAhW1uFZNno95beKdR1SXWLi4tbuKJItPcfu7YrnLLz1bPoPx4xrUVEZyiml10/X9B7mTqPhTw9rF39q1fQdMv7jaF866s45XwOgywJxVnTNG0vRLd4NG0200+F23tHaQLErNjGSFAycAc+1XaKp1qjjyOTt2voKyvcK4Xxh4H8TeJ9QZrXxr/Z2nLNFPDZf2VHL5UkeCG8wsGPzDdg8duld1RWXW4zlpvCF7qvg9NJ8Sa9NfahHMJ4tUt7dLaSORW3IyouQMdPcZpmgeHfF+nawlxrfjg6xYqrA2Z0mGAsSODvU546+9dZRRsBhaP4Z/snT9Ytftfnf2ne3F3u8vb5fm/w4yc49eM+1Vz4Nhk+Gg8IXNyZYxp4szcBNpJC4D7cnHIBxk10tFXCcqclKLs1b8Ng639fx3Of8Hatealov2bWbeS31bT2FreqykK7gD94h6MrDDAj1xWdL8Po5PiOPE/9oMLbcs76d5PyvcLG0ay789lbpjrzmuuSaKSSSOORGeMgOqsCUJGRkduOafVVZKVRzSt5f107fL1ElaPKcb488E6p4wn05rDxH/ZUNk5lMD2K3Mc0nG1mVmAO3sCCM81oeGNG8S6VNcN4k8V/28kiqIk/s6O18ojOTlCd2eOvpXRUVktBvU47To5vEvj9tdeF4tN0eKWysTIhUzzMQJpADztG0ID3+Y+lXfGt/ex6SNJ0SJ5NV1bdb27BCUgUjDzOegCA59zgd66Siuv6wnUjNx0jsvTv89X312FqrtFPR9Mg0XRbLTLMYgs4Egjz6KoA/lVLQdFvdIutVlvtbutUW+u2nhjnAAtUI/1a+w/D6ZyTs0Vj7WfvXfxb/mLlSSXYKKKKyKCiiigAooooAKKKKACiiigAooooAKKKKACiiigAooooAKKKKACiiigAooooAKKKgtr60vGmWzuoZ2t5DFMIpAxjcdVbHQ89DTs2rgT0UUUgCiiigAooooAKKKKACiiigAooooAKKKKACiiigAooooAKKKKACiiigAoqpPqun2t/BY3N/aw3dx/qbeSZVkl/3VJyeh6VbpuLVm1uAUUUUgCiiigAopizRtM8SyIZEALIGG5Qc4JHbOD+VPoAKKKKACimRTRTBjDIkgVijFGBww4IPuPSq93qun2Fzb299f2ttPdErBFNMqNMRjIUE5bqOnrVKMm7JagW6KKKkAoqOeeG1gee5lSGKMbnkkYKqj1JPSmWV9aalZx3enXUN3bSZKTQSB0fnHDDg8inyu3NbQCeiiikAUUUUAFFMlmigjMk8iRoCAWdgBknA5PucU+gAooooAKKY80cckaSSIryEhFZgC5xnA9eAT+FOd1jjZ5GCIoJZmOAAO5NOzAWiq1hqNlqtot1pd5b3tuxws1vKsiH8VJFWaGnF2YBRTZJEhiaSV1SNAWZ2OAoHUk0qsHUMpDKRkEHgikAtFFFABRRRQAUUUUAFZd94n0HTLprbUtb06zuFALRXF3HG4B6cE5rUrLvvDGg6ndNc6lomnXlwwAaW4tI5HIHTkjNTLm+yTLmt7pbu9RsbCyN5f3lvbWoxmeaVUQZ6fMTjnNR6drWlawJDpGpWd+IseYbWdZdmemdpOOhqS706xv7I2d/Z29zanGYJoldDjp8pGOMVHp2i6Vo4kGkaZZ2Alx5gtbdYt+OmdoGepp683kL3rq2xXk8U+H4b42Uuu6al2H8swNeRiQNnG3bnOc9qt6hqdhpNuLjVL22soS20SXMqxqT6ZYgZ4qpJ4W8PzXxvZdC017sv5hnazjMhbOd27Gc571b1DTLDVrcW+qWNtewhtwjuYVkUH1wwIzzU+/y9Lj97X8P+CJp+radq8LTaTf2t9ErbWe2mWRQfQlSeawIfEV9oesjTPF3liG6lIsdUjXbFJk8RSD+Bx27N9a39P0rTtIhaHSbC1sYmbcyW0KxqT6kKBzWBD4dvtc1gal4t8sw20pNjpcbb4o8HiWQ/wAb9x2X60a3X4/r/wAD/K5L5+Xz/r8DqqgvYZbiwnhtrhrWWSMqk6qGMZI4YA8HFT1W1Ke6ttNuJtPs/t11GhMVt5oj81v7u48D6mqlazuaHmPhfVbV/HtlZ+GfGeqa3GfN/tKDVZcqoCnHlhlU53dlB46nHX1euC+xeJfF2s6Vca74et/D8Ol3QuvN+2pczSEA4RSgwqnPOTXe1FJNQ1/r/L0MKPXt81+YUUUVobhRRRQAUUUUAc34o8X/APCNajploNMuNQfUfNWNLY5fcgBAC45znkkgADNM8O+LbvVdRvtM1rQ5tI1GziWf7OZ1nEkbZAYMvGcjGKfrelXt3448Nahbw77WxNz9ok3qNm+MBeCcnJ9M1s6rDdXOj3kGnzCC7kgdIZT/AAOVIB/A1l7yTl66f1/X5kJSc99Dkz491ezu7aTW/B93pul3U6QJePdxu6s5wu+IcryeeeKd8S76e20CWK48Krr2jmMyXjG/Fv5O0gjjG4+vy+lcDB8ONalawlbwfFbaha3UElzqc2smeS52uC7Kmdozyee3Tmu/+IjeJL7SbrRdA8N/2lBe2pR7v7dHD5TEkY2Ny3AB6jrWTlJ03zd+17/h+iOaMpyjLmvt21/L/P1OmmvbfS9Ae9kjKW1rbeaUjGSqKucD8BWD4d8W6zrd3btc+FZ7LTLtN9vfi9imBG3cN6LymR9eeKs6TfeI73w3dfb/AA9DpeoRJstree8WdJsLwWZB8oJ4xXLaB4f15fFdpeWvhiPwnbRyl73yNUEsV2u0jaIVG0HODnjFbOTdRW2f9a/8On5Mtylyxav93/A0/D1Oh1fxhqMOsT6b4Z8OT65PZhftbi5S3jhLDIUM33mxzgeorY8P65B4h0hL63ilgO9o5YJhh4pFOGVvcEV5z4r+Hkkni7UNWHhGHxRBfssir/ajWcluwUAjqFZTjI79a7fwNpMejeGI7ePQv7BLSO72P2z7TsJOM+Zk5yAD7VFKU23z/wBfgv1BSqe1ae39eX6/I6Fl3oVJIBGMg4P51w3gnXpdN8K61aeILuW4ufDVzPFcT3EheSSIZkjck8nKEflXdV5p4y8Ha3qHjKT+xrdW0jX4YINZl81VMQikzuwTli0ZKcZrbW9l109PP+u51aWu+n9W/rsafh7UNd0r4c2epT2F9rur6lIbn7KJgDH5pLqm5zhEVcD0HpzVzwx4yvtW1u40TxD4fm0HVYbcXSwtcpcJJEW27g6cZzxiqnxN0DWNb0Oxg0S1N9bwXIe80xLw2pvItpGzzOwzg4/wrA+G/gW/8OeN7jVT4Zt/D2n3Gm+ULaLUWu2WTzAfnZj1IH8Py4HrVKzk+3/A0/rUl3UV3/4Ov9aF+Dwpovhz416dc6NZ/ZptSsb2a7bzXfzH8yI5wxIHLHgY61191r32bxhp2hfZt3221nuPP8zGzyyg27cc539cjGK4PUL/AOIM3jay1uL4d7ksLe4tlj/tu3HmiRkIfP8ADjZ0wevtW54rtPEsWvaF4l8P6PFqVxaW81vc6c92sLYl2HKyN8vylPxqY/DH5/rb9BveXy/S/wCptp4pgXWNftLyIW9vokMU0tyXzuV0ZyduOMBfU5rnYfiRqSPb32q+Dr7T/D108aRapJcxsyhyAjSQj5kUkjnJxmodJ8LeItXXxiPFsVvZvr9tHFF9lk3rEPLdduepK5XJwATnHFcXpvwxayvbS1v/AIT290Y5EWXU7bxI6I2CMyiJm3e+38Kcfis/L/g/1f7wfw3RsfErWNOtPiZb2niPxfrnh3TDpKyR/wBlXEieZN5rDkIrfw98dhzXSaJ4h0rRPhXf69oWr6l4ns7QSzCfU5382Qr1TcyAgDHHy1H4ki8U6V8S017w54Y/t22fSRZuP7Qittjeaz/x5J4x279auayniLxX8LNatb3w/wD2Xq11byww2P22Obdx8p8wYUZ9+mKV2qbtvr+f4lOzqK+2n5Irw/Em8bU9Oa78KX1noepXCW1tqc0yBmkfhcwffVSejHHbirGr+Pr2z8VX/h7R/DV1rGoW8MM0SwzrGjhwxJd2G2MDAA5JYngcV11jG8On28Ugw6RKrDPQgCuf0vSL62+JWv6rNBtsry0tY4Jd6neyb9wxnIxuHUVUlrZeZEW+W78vzKMHxKtj4QfV7zS7qC+jvTpzaWhWSVroHHlKRgN659M0ujeOtTl8QWuj+LPC1x4fuL8P9ikN3HcxzFRkqWT7rY5weuDV3x1ompavpljcaCYTqWl3sd9bxTnEcxUEFCe2Qx59cfWseytPFnivxTpOoeJtDt/D9jo8jzpCL1bmW4lZCgOVACqAxPPOcUlq/wCtrLX77/1qN6LT+n2/IW4+I2qTapq2m+HvCF1q93pl20Muy6WKLYFUhjI4xuOThBk/LnPIrRufHdu3wsm8YWUDhfsjSxQS8N5mdoQ/8D4qbwhpF9peqeJ5r6Dyo77VmuLc71bfGY0G7gnHKng4NT+O9Em8R+BdV0u0x9omgzBk8GRSHQf99KK3wqg6lNVdny3/AAuP7Wnd/mHhzRx4X8MM0wkvdQdDdX0yLulupyMscdznhR2AAFeSa94k03xp41uE8T+CPGl/p1rZReRpcdlJG0UjM+6V0SQcEABST/C3pXsvhjXbfxJ4dtNStvlMiYliP3oZRw8bDsVbIIqlYaVew/EjWdVlh22Vzp9rDFLvX5nRpSwxnIwHXqO9ephsT9Xq1p1l+8W2vK07pNK3l26eRja8FYS80CHUPhjNoOj2xsYbjSzbW0F0WBhDR4VX6sMZAPU8d6l0/wANvB8PrLw5Le3FrJDYRWjXVhMUkQqgUsjkcHjg4rforzXianLy3683zLUbW8v6/Q8esPAl1deP9Y0OTx34zFtY2ltPE66wd5aQybgTtxj5Bjgd609V1290L4vX8Gj6Lda7qFxolqIbeORY1wss2WklbhByOe5PSun03SL63+Jmu6rNBtsruytIoZd6neyGTcMZyMbh1HepLTSr2L4malqzw4sp9LtreOXevzSJJKWGM54DLzjHNevUxqnNupaS5FptdvlvtZ77rffYhxte3l+hV03x/a3Hg2+13VbG402TTZnt7yybEjpMpA2KRw5JZQMdciq+m+OtW/tm0s/FHhG70K31CXybK6e7inV32lgrqnMZIBwDnniqGoeBb3XfCHi3R7pEgfUtVe7tTK+UkUeWy7thyAShB6ECuZ8K/D5LDxbp8tx8J49MFvMH/tSLxI0yxMoyHERbLDIHB9aunQy+VOpJ762V1orJq15xvrdbTem191JzS08/z06HtVYninxEfDGn21/Ja+fatdxQXMnm7Ps6SNt8zGDuAJXI44Oc8Vt1R1rSbfXdDvdKvV3QXkLQv7BhjP1HWvBoumqkXUV4319DbfQqan4gNj4k0jRre1+0z6iZXc+ZtEEMa5aQ8HPzFVA45brxWBf+PtVbUbpPDPhC81zT7GZoLu9S6ihAdfviNG5kx04xyCKl8E6NrS30+reLIBFqEdrFp0OJFcNHGMvKNpOPMc5wecKucV57rHwpex17Upj8PLfxbFeXclzFdprr2UiK7btjoSASCSAR1GM817eFw+C9q6dRptLurN311c4LRWXxfJmTcrX/AK/q56dqHjzTLPwjYa9bRXF6upmNLG1hT99cSOMhAD0PBznpg03RvEfiW+tr/wDtbwZPpd1DC0trE1/FKl0QOE3rwjE46jvntWRfeE9RXwX4abwxplvpmo6HMl3FpVzcmWMZRlkhMvOTh2w3TI9K3vDGq+KNUlmbxJ4bg0KFFxGgv1uXlbPX5QAq4/GuapToRoylTSer3l7y10SSlrdbtc3qhpy0v5f1/VjgdF8bfEOTxb4iRfA0l60ckAaxbXIVWxzHnAJGG3feyOnQ123iLxldaTeWmlaPoU+s65cwG4+wxTpEsUYOCzytwozwPUisW+g8YeF/HGt6p4e8NQ+IrLWfIcqNQS1eB402EHeCGB68Vb8Q2HibTvFdv4q8NaXBqsklgLK80yW6WBhht6skhG3gkg568fh11Vh61WElCCTirWk1dqK0leV4pO+vu37vcSuk9df+D/kXtA8bPqtvqsOpaPcaTq+kxiS5sJ5Ff5SpZWSReGU7SMgdQa5+H4t3suj2Ou/8IdfpoMqRfatQa4RfIZ9oOyMgNIoZsb8AHBIrS0TQ9fu7jX9f8RWlvZahqlmtpb6fBMJfIjRXwGk4DMWc8jgDFbngjTrrR/AeiadqMXk3drYxRTR7g211UAjIJB59K56n1OlzS5FLWOnM7K696zT1s9nqvUPeaST7/pb9Sh4o8Z3uka1baL4f0CXXNVuLc3IgF3HbIsQbaTvfqc9gDW7ol/danpEN1f6bNpdy24SWk7KzRkMR95Tgg4yCOoIrlPiBYapqFxBHD4IsfFNmqAozagtpcW0mTkq5HAxt5Ug8fStfwJpus6V4YW38RTGS5M0jxxtcG4aCInKRGVgC5Ucbqxq06KwcZxSUvW7e/Tm0XrFerKbfPb+v6/qx0dcp4h8T+I9O1Nrbw/4KutahiAMtyb2K2TkZwgblyPw54rq68c8XeA9a1rxvqE2p+Fo/FFlcupsLifW3tYrBQgBUxLyfmycrnNTltKjUqv21rJdev/k0P/Sl89hybUdDsrv4jWUHw9svF0FnNLa3MsMbQtxJHvlEbcAHJU54HXHvTNL8eahceKLPS9b8LXmjQamH/s65nnjdpii7yrxrzGduTgk9Kw7PwZrlt8GtF8PtZr/aNnfwSyxJMuAiXe8kMTgjbz6+2eK9QrXEfU6KlGEVL3ppO70StytWdvvTuvvIjzNK+mi+/U4O7+ImqNc3M+geDr3WNGs5ZIrnUY7qKMkxkh/KiY7pMEEdskGuz03ULbVtLtdRsX8y2uolmifGMqwyP0NeHX/wnfS9SvEf4bweK0muZJor+PX3s32MxYK8ZYDcM4yvBx617T4esY9M8N6fZQ2P9npDbogtPOMvkcfc3/xY6Z71pmNHB06UHh3d97rVea55O/8A27D0GnLns/P+v6ZoO6xxs8jBVUEsT0Arzp/ilqJs21u18F6hP4XQFzqouY1kMYODItufmK985HHNeg3Vut3ZzW7khZo2jJHYEYry6HT/AIh23hH/AIQZNB097YWhsE1434EYhxsDGDG/fs98ZrHAU6E03UUW7r4pcumt2tVdrTTX0ZUunYs/FPx7JpvhW5tdI03XJDfWkUkWrWNrut40kcD/AFuRtfbnHHVl9al+GGmeGrfUL+60Dwd4g8P3XlKk0+tRSobgEk/LvkYE5XJwB1FbPi3w1cz/AAwbw/osRuZoY7aKJWdVLLHJGSckgfdUmuvrSWKpQwXsaStdu/vPVLls2uvWyei1sQoylbm/phXJeIfGd/Y60+i+F/Ds/iHU4YVnuI0uUt44EYkLukfjccEhQOgrra4HU7LxZoHjrUtV8MaLa6xa61FAsvnXotzayxqVDHIO5CMcLz1rkwUKc5vnSdlom7Ju63d10u91qi5XtoVvhvfamvg3xJfRaQX1P+2b2QaablVzJkHy/M+7143dKv8Aw1uIrn/hIGbwwnhzUBqZ+3W63gufMlaNH37gABkOOBx+dReFNP8AFHhXwdrclxpUWqazLqk91HbQ3CQJch3X5lYkhBjcQG54wao+DLjxva+KtSfV/A/2Gy1i++0y3P8Aa8En2UCFUxtXl+Yx0x972r1K0Y1ViHBxt0fPa9raJOWqte2jd9nfQyV0rvu/1Mb4ieME1bXtP8PX3hfxc+mpdzC7itrJk/tEIh2iJlcF0z8x6cAGt3RtY0jwR4Dhn8OeB/E9tbXVxIf7PSyeW4icDBeRXclVO0YOa6XXNLvLzxj4avreHfbWMlw1w+4DYHiKrwTk5PHGa351L28iqMlkIA/CsKmMo+wpUYx93drmdm7vdd9nfe3kaKN53Z4l8LYdC1nVtI1bUfCniabxFKjXD6/eRyi1ZyrElW8zbtwSF+X0rtLv4iao1zcz6B4OvdY0azlkiudRjuooyTGSH8qJjukwQR2yQa3PAemXejeANE03UofJu7Wzjimj3BtrAcjIJB/A15Lf/Cd9L1K8R/hvB4rSa5kmiv49fezfYzFgrxlgNwzjK8HHrXf7TCY3F1HWekdIpyurXezc4JdLJSt5MzipKCfV/eem678QbPSNM0HUbWzuNStdbkCQ/ZgTJhomkXamDuJIC4yMZyTxTfD/AI3vL/XrjR/Enh6bw/dpam9hEl1HOssAbaWLJwpBIyvPWq9z4auhF4Gj0zSvsdtpN0slxbfaBJ9kT7O67dxOXwzAZGSetdhe2qX2n3FpISEniaJiOoDDH9a8mq8JCCjGN27631XvO2idtt979Lblx5na77f8E4T/AIWffiEaw3g+/HhUgP8A2wbmPd5ZOBL5H39nfPXHOK1PFHjmXw/r2naTYaHc6xdalbyy2yW0gXLIUGGJ4VcMSXJ4x0Oa8rg+E8mlLFYXnwqt9daLCPqlv4ke3Wcf3zEzZU45IHGeleuT6NdD4i6PqNvb40+00u4tnk3j5HZ4iq4JyeEbn2r0MVRy+lUi6aTVpdVZ2Xu3tOTvf/DfokSnOzvvp+f9dWUdK8b6xqujawIvCksfiHSZEjl0eS+jAcuAwKzY242knp2xXMeB/GXj28mv0m8GyX0B1iaOa4k1qIfYhuAaIKRlgg9OD2rt9C0m9s/HHinULmHZa372ptpN6nzAkO1uAcjB45xXOaTF4z8I69qNjZ+F4dY0rUdVkvFv49SjgaBJWBYNGwyxXnp1xWdOWHcakIU4NtRavJq2iuk+ZbPpe/R3HJS5Vr1/DX/gHo9VdT0201nSrnTdSi860uozFNHuK7lIwRkEEfgatVQ1u71Cx0a4udG0z+1b2MDyrP7QsHmnIBG9uBgZPPpXhU+bnXK7O+mtvx6epqcj8MdGsPD154s0rR4Ps9lbauFii3s+0G3iPViSeSepq1qvjjVV1i6sfCvhO619LCQRXtwt3HbpG+0MUTfy7AEZAx161j+DLjxva+KtSfV/A/2Gy1i++0y3P9rwSfZQIVTG1eX5jHTH3vaud8T/AAuaPxZquojwHB4uh1G5Nykq609lLAWHzIykhWG7JBHPNfRqjRqYyTxUlJuKa96LTdknd88VffeS769cb2i+Xv8Ahr/wDudU+JVlYeENJ8Q2+n3d3b6jdra/Z0XE8bkOCuznLBkK7cjnvUnhzxtqOpeJm0PxF4ZuNBu5LZru133STrNErBTkp91gWHy81mQeFLmLwl4Rs9K8Pf2OLHWIry50/wC2if7MgMhY+Yx+flgeM9enFdBeaVey/EvS9VjhzZW+mXMEku9fld5IioxnJyEbnGOK45xwcVKEUvt2beqt8Oz5ddut+ncd5NJ+S/N3/A5zWvidrFqup3fh3wXcaxpWlvLFc37X8duN0f8ArNqEFmC4IyB2NZ3jzxr4wT4aw6lp/hl7EXkEcs93DqsZayzKoUDAy+5SORjG/wBq42PSdY1ibVdVstE1HWNDuNRuXmGn+I0srO7QSEEtAyA9BgnI3EE9wa9Q1FV+JHwab/hHIhafb7ZGtYrgbQjRuCEOO2Uxkdua9OpQwuDnRk6cWlJKTu3byklPR7v4VttuhXbm437/AJ/1f1L/AIf1vxPqsd4niXwl/YMSQZil/tKK6809xhAMeuTXC+C/iLe6N8OtBl/4RS+m0G1t4be71YzIgRshSyRH5nUE43cdDXd+HdW8Vaqt3b+JfCi6KI4cRTJqMdwJ26EBVGVHfmsf/hGNX/4UPb+Hfsn/ABNUsIoWt/NTh1K5G7O3se9cVOVCLlTrQjZyhopNpK0rtNSe1+raT3XQT5mlbz/Q9B61Fc3MFnay3N5NHBBCpeSWVwqoo5JJPAA9akHCj6VHc20F5ay215DHPBMpSSKVAyup4IIPBB9K8BWvrsbo4TwVp2la54s8SeKDbW9+7aisen6iyCT90kCL+6c9BuLjK9earfGLwnot/wCHZfEV3ZeZqtj9njt7jzXGxTOvG0HafvN1B61p/D+O20/WPFuj2QSC3s9VBgtE4WFHgjb5V/hUsWOBx1ql8Tz4u1TTrjQfD3hL+0rS4WGQ3/8AaUUO1lkDlfLfBP3Bznv7V9BTnUWZQcJ8qXLvJR92y0u2ltulvqZNXhJPrf8AM7LXtbtfDuiXGqX/AJjQwAfJEu55GJCqijuxJAA965zS/HOrNrVrYeKfCV1oMeoSGKxuWu47hZH2ltrhOY2IBwDnpiq+uaRrfxE+G19p2uaHHoWoPKrRWk16LhH2Mrjc8eMBsFTjkda5Twj4BTTvGGnzzfChNJFvLv8A7Uj8RtOsTAEhhEWywJwMH1qMNhsIsPU9s05q+zj20afPFPW+yn5JdScpWvH+vwOpvfiNqx13V9I8PeDrvWLnSpwkzpdpDF5ZRWDb2H3vmI2DJ+XOea24fGdnc/DlvF8UUi2y2T3fkycMNoOUPvkEUnhjSr3Ttb8T3F5D5cV/qQntm3qd6eREmeDx8ysMHB4rJ0bwlfSfBVvC+pR/Zb2axnt2UuG2M5facqSD1B61jNYNqKSSs4XabbaavLr0fZK17MuN+fXbX89DS8H6E9v4Wa41GRjq+sR/aL+6Q7X8x14VSOQEB2qB0xWR4V8Vy6b8L9Rudenee+8Nm4tbx5GLPK8OdpJPJLLsOT1zW/4I1tdc8J2krjy7y2UW17AfvQToNroR9RkeoIPeuT8QeDNau/H8sVjaq/hvWprW61SUyqPLeAkldhOTv2xAkA9DVw5alarSxLS1T/8AAXql/wBut2XWySIjdQUuq/p/O/6mjZ6H4rk8A6Rbf8JHNZXjRNPqd06edcMXG/y42fITBJXODgAYq58Kb261L4WaHd6hczXVzLAxkmnkLu53tyWPJrR8Wajr2nadH/wjXh3+3ZpWKSRfbo7bylx97LjB54xXN/CeLxVo/h608O+JPC/9mW9hbkJff2hFN5zb87fLTJXhjzk9KUnKvgpzlyp8yaV4p296+l+bdqy7bEtOM4+j/S36l27T/hFviVp81mAlh4kZ4LqEcKt0iF0lA9WVWVvXCmrnxE8OWXiHwXqa3GmQ317BZzNZsYg0kcm3I2HqDkDp1xVbWn/t34k6Hplp86aIz6jfOOkbNG0cUZP95t7Nj0X3rU8cXrad4B127jn+zyRWExjl3bSrbDtwfXOMVnzTVXDyi7Tsvzdr/K3ysbwXv2JPCeuWGveHbSfT9QhvWSGNJzHIGZJNoyrjqrex5rarE8IaNp2jeGbKPS7GCzEsEck3lRhTI5QZZj1Zvc81t1wYjk9tL2d7X6mdO/IjgviLNp+tXmh+FzNDdzXGrQPe6crhnNuoZ2Z0HITIXk8V1N14a0a88OSaBJp0MelSp5bWkA8lNuc4GzGOeeMVzHj6ysNP1rw1r0dvBbX39tW9vNfKoRzCyupR37qeBg8dK6rXr3U9P0aa50PSf7YvUK+XZ/aVg8zLAH524GBk++K7ZuXsqEaTa33dvevvfZdNXsN/Hd9l+b/r7jmPhdpVnodl4g0zS4fIs7XW544Y9xbaoSPjLEk/ial1Xxxqq6xdWPhXwnda+lhIIr24W7jt0jfaGKJv5dgCMgY69ayvAtx41s9evYda8E/YLHVL+W8lvP7Whl+zbkGF2Ly/KAZGPvdOK5rxP8Lmj8WarqI8BweLodRuTcpKutPZSwFh8yMpIVhuyQRzzXoxo0KmMm8VJNtJr3otN6J3fPFX33kn116wtIvlXV/dd/8AAO51T4lWVh4Q0nxDb6fd3dvqN2tr9nRcTxuQ4K7OcsGQrtyOe9SeHPG2o6l4mbQ/EXhm40G7ktmu7XfdJOs0SsFOSn3WBYfLzWZB4UuYvCXhGz0rw9/Y4sdYivLnT/ton+zIDIWPmMfn5YHjPXpxXQXmlXsvxL0vVY4c2VvptzBJLvX5XeSIqMZychG5xjiuSccHFShGK+3Zt6q3w7Pl12636dx3k0n5L83f8DOulHij4mNplz8+meH4IrmSA8rNdSZ8ssO4RVLAerA9hTtavbvRfihoU73U50zWIJNPeBpCYo7hf3kbhegZgGXPfAqOJl8PfFy7a6wlt4ltYvIlY8faYAVMefUoQQO+01o+P9Du9d8JSx6UgfVLSWO8sQWC/vo2DKMngZwVyfWpUoxq04S+CUUvLVWb+Urv5FNX5u/9Nf16laO7u9X+Ktxb291NHp+iWAWaOOQhJLmY5G4dG2ouRnON9c34h0fW/Cd/pOqWXjLWdT1S81GG3bT7qRDb3KM37wJCqjZhctkZwBXU+DNL1PS/Dt7e6taKutalczX1xbiRTtdjhI94yOEVFz04ridKu/iPba1PrOsfDn+09TkykUp123jjtYif9XEnO3PGWyS3c4wB1YdfvJKnKPLFJWbgubvZya0bu209reRMtYt9/wDhr/r6nonizw+viLQpLeNzBfQ/vrG6X79vOvKOD9eCO4JHek8I61/wlPgvT9TuoVV7uDE8RGVDjKuuD23A1Y1/XYPD3h241S+BHkx5WJeWkkPCxr6sWIA+tVPA2kXOheB9MsL/AP4+0i33AHaRyXYfgWI/CvL1+qe90krfc+b/ANt/pl/aX9f1/wAOc3oEejeDvihrelR/ZdHtdTt7SaxtciGOeX94snlLwN33MqvtxW7488M3HivQ7aytHhjeG/t7kmZiBtRwWAwDzjOO1ZdjaWGtfGHXZb+CC+bSbSyFoZVEn2WRjKzbc/dY4QkjnpXdVvia0qdenVT99Ri3fvyq34Wv5itfmj0/4GoyWKOeF4Z41kikUq6OMhgeoI7iuQ8FtJo2va14Rd2e207yrnTyxyVtpd2I8+iMjAe2PSuyrjfCb/234y8QeJYMmxkEWnWcnaZYS5dx6rvdlB77TXPh/wCDVUtrL77q3ztf5XHLodlRRRXEUFFFFABRRRQAUUUUAFFFFABRRRQAUUUUAFFFBIAJJwB1JoAKK4fTfHF/qvjy1sLa1gXQryOc21ywbzZzFgM45wEJbA4ycZruKmMlJXRMZKTaXT/hwoooqigooqjrGs6doGmSahrN5FZ2kX3pZTgewHqfYc0XsBeorD8M+M/D/jC3mm8N6lHerAQJQEZGTOcZVgDzg847VOviXSX8NS6+t3nTIo3kefy34VCQx243cFT2oem4b7GrRXOa14/8L+HW261q0do3lRyhWjcllkJCkAKc/dPTpjJxVnR/F+geINTvNP0bU4by6sceekeflz6HGG9OCcUAbVFFZWpeKfD+i3QttY13TbCcqHEV1eRxMVOQDhiDjg8+1XCE5u0Fd+QGrRVHS9b0rW4nl0XU7PUY422u9pcJKFPoSpODV6lKMoPlkrML32CiuYvtb1q71e7svDdvZFLEAXFxfMwUuRnaoXuB3NaHhnXR4g0cXRjWKaORoZkVtyq69cHuOQfxqnTko8xHOublNeiiisywooooAKKKKACiiigAooooAKKKKACiiigAooooAq2mmWVhcXc9lbRwS3knm3DIMeY+ANx98AVaoopuTk7tgFFFFIAooooAKKKKACiiigAooooAKKKKACiiigAooooAKKKKACiiigAooooAKKKKACiiigAooooAKKKKACiiigAooooAKKKKACiiigAooooAKKKKACiiigAooooAKKKKAOMvPhD4Dv8AVW1G68OW7XLvvbbJIiMfUorBT+Vdfb28NpbR29pDHBBEoSOONQqoo6AAcAVJRW9XE16yUas3JLa7bt6Csr3CiiisBhRRRQBiXXg7QL3xPbeIrjTIm1a1/wBVdqzK3QjnBAbg45Brbooq51JzSUm3bReS7ILa3CiiioAKKKKAKtvpdlaahdX1tbRxXN5t+0SoMGXaCFJ9SAcZ/wAKtUUU3Jyd2wCiiikBVstMstOa4axto4WupmnnZRzI56sT3Pb6DFZ+veD9B8T3Vlca/psd9JYMzW4lZtqk4zlQcN90dQa2qK1jWqQnzxk0+99e35CsrWADAwOBRRRWQynq2kafr2lzadrFpFeWkww8UoyD3B9iPUcim6Loun+HdHg0rR7f7NZW4Iii3s+0EknliSeSepq9RWntJ8ns7vlve3S/e3cVle4UUUVmMKKKKAKuo6ZZatbrBqVtHcxJIkqrIM7XU5Vh6EEVaoop8zatfQAooopAVbvTLK/ntZr22jnezl86AuM+W+CNw98E1PNClxbyQzLujkUo4zjIIwafRVc0tNdg8zI8OeFdE8Jae1l4d0+OxgZt7BCWLn1LMST+JrXoop1Kk6knObu31erEkkrIjubeK7tZba4TfDMhR1yRlSMEcUlrawWNnFa2cKQW8KBI4o12qijgADsKloqeZ2t0GFFFFIAooooAKKKKACiiigAooooAKKKKACiiigArA8a6Xq+teF59P0Ce2huJ2VXNyzKjR5+ZcqCRkccdieRW/RUyipKzE9VY8guIPHlr4/8AD1u0fheK5is7hLRIBOIViGwMGB5zjGMcdc16/wDWiiiMeVWvcyp0lTbae/8AkkFFFFUbBXI/EhtGTw5BL4hnvrOCG7SaK+soTI1pKuSshAVuOo5BHP4111FJjR578OvFN14h1a/jS7j1zTo4EMWuLpz2jSPubMThgAxAOcqABnpzXFy+M7Kx+EeseD3tb6TX4IbyGazS2f8AdIXc+azkbQgU5zmvdqKJLmVgjo7nj/iK1gm8Ta3NLEryQ+Bm8tmGduS4OK0fBlrBZfEDSILSJYol8HQYVRxzNk/qSa9Poq+bW/8AX2v/AJL8CbaW/r7P/wAj+IVwHjfwt4g1rXkudH0LwRfwCBUMuv2cks4YFiQCoI2cjA9Sa7+itsPiJ4ep7SG/mDV1Y5XwJomq6JYXUWtaZ4a06SSUMieHrd4o2GOrhgMt/Suqooqa1WVao6kt2EVyqyPM9UhsdP8AFOpw+Kru8g0u5lFzBDCreVcsQAQxUZJGBx+NdP4Gsja6Rcz/AGU2cV5dvPDbldpjjIAUEduFz+NdLRTlWbhymSpWnzfMKKKKwNgooooAKKKKACiiigAooooAKKKKACiiigAooooAKKKKACiiigAooooAKKKKACiiigAooooAKKKKACiiigAooooAKKKKACiiigAooooAKKKKACiiigAooooAKKKKACiiigAooooAKKKKACiiigAooooAKKKKACiiigAooooAKKKKACiiigAooooAKKKKACiiigAooooAKKKKACiiigAooooAKKKKACiiigAooooAKKKKACiiigAooooAKKKKACiiigAooooAKKKKACiiigAooooAKKKKACiiigAooooAKKKKACiiigAqrqmoRaTpN1qFyrtDawtM6xgFiFGTjJHPFWqo63pv9saDfab5vk/a4Hh8zbu2bgRnGRnr61E+blfLuNbmBovj9Nb1G3tY/DHiS0S45W6u9P2QqMZBL7jwe31FdbXnCzeJ/BWtaFp9/wCIrbXrS/uFsxbNZLBNEuPvrtJyFxyT/wDXr0enB3Xz/r8znoyk9J7/ANdgoooqjcKiubiOztJrm4bbFCjSO3ooGTUtcr4/8P8A9s+Hrmf+1tUsPslrM/l2Nz5STfLnEgwdw46e5rKrJwg5LoGvQZ4e8V67r97by/8ACJy2mi3KmSPUJr6PcVxlSYR83PHfvXW1wXgjww+keHbHWYtc1u9kfTFZbK6vPMt1JjBAVMcY6DngVzVt4c0LVPhu/jLUdSuDrxt3uG1MXro0EwyRGBu2jBwu3FKU3TTv037/ANfcctKdRxTe8tfLp5ef/BPYqK8y1i3ufEeoeAItQubizmvbWZrp7dvLkOYEZlz/AA55Bxzya6jw14JtPCeq3kuizyRaddRp/oDMzqkgJzIGZieQcEe1aXlzNNaar+v6/DU0jUc7NLT/ADOlrJ8T3GuWvh25m8K2Vvfaqu3yILh9qN8wzk5HbJ6itavPvjD4U0XWfBOo6vqVn519plnI1pL5rr5Z4PQEA8gdQabOiKu7HfQmRoIzOqpKVBdVOQDjkA0+obT/AI8oP+ua/wAqmqnuZxd4pmR4huNdtobM+HLK3vJHukW5E8m0JCfvMORyPx+hrXrz/wCIvhnSHutO8QtaZ1RNRs4VuPMfhPOAxtzt7ntV/wCJ0L3PhW3ghnktpJNStUWaM4aMmVRuHuOtZKTs/W35f5/8EzlJxcm+iv8An/l5nY0V53beF9P8H/EfQRobXMY1KG5S9824eT7QUQMHbcT82fTFeiVUW2tS4SbumrWCiuD+K1vJd2fhq3hupbR5tft4xPDjfHlZBlc5APPBq3ofw507wt4mXVtBurm2hkgeO+t5ZZJvtbkgrKzMxwwweg5z270trv8ArS5b0sl/WrX6HY0V84eJ2g1DSNR8YaD4S1Ervkkt/Et14g8qVGDnlYN33QRgKBnFeh+KNFTxV488KWV/dXMVvNpV1JcrbSmM3C5hJjYjnaSRnHpQtf68m/0CXuv+u6X6nplFea+GtPh8IXnjjSdFuGs9OsYIri1SeVnS1ZoWLHLZOMqCeteeaZ4M07xhBokX/CGa+NWlmhn1TV9SlkW3ni6yEOX+bcOgUKRkehoWrsvL8f8ALqGyu/P8D6NorxbxxBfa78RrjQG8Ly+JNOsLGB7fTxrQsUXdnMpBIMh425zxj3rtfhjZa/p2g3dp4i0+bTo47pjYW898t28UBUYTzFPIB3AZ5xxQtVf+t7A9Hb+trmtZ+IJdU8W3em6dbo9hpq+Xe3bMR+/IBESDvhTlj23AetZ3ijxfrXhzXLOFPDH2vSLieC3bU/7QRPLeVwmPK2ljjI+vtUfwnO/4fwzSjF1Nd3Ul1nr5pnfdn6dPwqT4k/8AIv6f/wBhmx/9KErrxVONPEeyitItR9dbN/P/ACEtVJ+v4HX0Vwvxd1PUdN8FxDSlkLXd9DbTeVci3by2JyBKeE3YC7u26uY8EeHfEGi+NbCfTfBE/hrSZRIuo515b2OcFSUbYTkMGA5HYmuSOr/r1HLRHsNMllSCF5ZnCRxqWdmOAoHJJrx7TvAGleKLbxbqGuS3ly0Gr3ws4hcukdoysTvRVIBYk5JOeg4rW1u+vLn9msXcssks8+kQefKT8zK2wSMT67SxrfDUvb1IU725nH/yYHpK3m19zOo0vxXPe+F7/wAST6fIumorz2UcQzPPAq53lTgAtglRnoRnmtaz1uyvfDkWuRSYsZbYXQduCqFd3PuBVqCKFbGOGJV8gRhVUdNuMAfTFePLNNaeFNQ+G8chW7OsjTIMHkWc377f+EW8fhWdVqc5cit28tba/evxFHZSl8/z/R/gdzefEzQNP8NafrF99qh/tKAz2ll5O+5lQDOQikgcc5JwM8kV0Gi6rBruh2Wq2iSJBewJPGsoAYKwyAQCRnn1ql4js7eDwdqQihRfI02aKI7RlE8s/KD2HA/IVW+HX/JM/Dn/AGDYP/QBU6Pm+X43/wAg1sr+f6f5kuieIZbzXNR0TVrdLXUrI+aioxKT27E7JFJ+m1h2YehFL4o1+fw1DbajJbLNpSybNQlBO+3RsBZQOhUH73cA57GsvX1VPit4RlhOJ5IL2OUAfeh2K3PsHC/nXS61Db3Gg38N6FNtJbSLKG6bSpzn8K7pRpRnTm4+7JXa+bi7fdddgj7zcS4rB1DKQVIyCD1pa5r4cyTzfDPw7JdFjK2nQ5LdT8gwfyxUvhnRdI0m91uXR7+S7lvL9prxXuhL5MxAymB93jHB56dsVjUoqnKpBvWLttvrb5Exk5RT7nQUUUVzFhRRRQAUUUUAFFFFABRRRQAUUUUAFFFFABRRRQAUUUUAFFFFABRRRQAUUUUAFFFFABRRRQAUUUUAFFFFABRRRQAUUUUAFFFFABRRRQAUUUUAFFFFABRRRQAUUUUAFFFFABRRRQAUUUUAFFFFABRRRQAUUUUAFFFFABRRRQAUUUUAFFFFABRRRQAUUUUAFFFFABRRRQAUUUUAFFFFABRRRQAUUUUAFFFFABRRRQAUUUUAFFFFABVfULC21XTbiwv4/NtrmMxypuK7lIwRkYI/CrFFJpNWYHP6B4E8M+GLg3GiaRDbTkY80s0jgdwGckj8K6CiihJJWRMYxirRVgoooplBUVzbRXlpNbXK74ZkMci5IypGCMjnpUtFJpNWYENnaQ2FjBZ2ieXBbxrFGmSdqqMAZPJ4Fc7L8NvCE2tHVZdCtmuy+8klthb1KZ2n8q6iihpSd3uS4Ra5WtCnc6TZXepWV/cQ77mx3/Z33EbN42twDg5HrmrlFFMqwVzHiX4c+FfGGoR3viPS/tlxFEIkf7RLHhMk4wjAdSa6eigLsxfDPhDQ/B1lNaeHLH7HBNJ5siec8m5sAZy7E9AK2qKKAOW1r4beE/EWqyalrGlfaLuUAPJ9plTOBgcKwHQelXrTwdoVjocGj2tj5dhbzrcRw+c52yBtwbJbJ+bnGcVt0VEYRi7pWI9nC7lZXZUuNLs7rUrS/nh3XVkHEEm4jZvGG4Bwcgd6t0UVZZS1LR7HVzaHUYPO+x3K3UHzsuyVc7W4IzjJ4PFXaKKAONl+EfgSa9urqXw5bNLdBhL877fm6lV3YQ+6gEdq6T+xbA6laah5H+lWcD28Em9vkjbbuGM4Odi8nnir1FC02B67mDrfh/ztM16TRI4YtW1W18ppbjLxuyoVTcpyMAE9vqDXjsHwt1WaGG0sPAEPh/UYwirr48Qu/lsCMyLEpzk84HvX0BRQtHcHqrHPeIfAvh3xbDbp4m02PUJIFCrMWaOT3+ZCDjPOM4q34c8L6P4S0s6d4es/slq0hlMfmvJ8xABOWJPYVrUUCOZ0jQ7/AEDxbfmxEUmh6ozXboWw9rc8Bto7q/X2IPrVbXfhX4N8TaxNqut6P9pvZgokl+1TJu2gKOFcDoB2rr6K0q1HVkpS3tb+v6/Ea0vbqYlh4O0DTfDDeHbXTIv7JbdutZWaVTuOTy5J689eKztB+GHg/wAMawuq6Ho4tb1FZVkFzK+AwwflZyP0rrKKz63DpYoWeiafp9veQWlv5cd7NJPcLvY73k++eTxn0GB6UiaFp0Xh0aElsBpotvsogZiw8rbt25JJPHrWhRTTad1/VtvuDrcwPCFhq2j6Q2k6w6XEdi/k2d2Gy08AA2Fx2YD5T64z3qw3hXRX8Vp4laxU6ukPkrc724TkY2525wSM4zjvWvRV1KjqTc3u/wCvxEkkrI5/xR4G8O+M/s3/AAkunfbfsu7yf38ke3djP3GGeg603wx4C8NeDZriXw3pv2J7lVWU+fJJuAzj77HHU9K6Kis1psN67nN6Nol7J4ovvEWuhFuWU2ljbxvuW3tw2c57u5AY+gCjtT/F+lalr9jFo1kywWN6xXUbnfh1gH3o0H95/u57DJ64roaK6frM/aKp1W3ZW2+7f13uK24yGGO3t44IECRRqERV6KAMAVQ0nw9pWhz302k2UdtJqE5uLpkJ/eSHq3J4+g45PrWlRWKnNJpPffz9QsgoooqBhRRRQAUUUUAFFFFABRRRQAUUUUAFFFFABRRRQAUUUUAFFFFABRRRQAUUUUAFFFFABRRRQAUUUUAFFFFABRRRQAUUUUAFFFFABRRRQAUUUUAFFFFABRRRQAUUUUAFFFFABRRRQAUUUUAFFFFABRRRQAUUUUAFFFFABRRRQAUUUUAFFFFABRRRQAUUUUAFFFFABRRRQAUUUUAFFFFABRRRQAUUUUAFFFFABRRRQAUUUUAFFFFABRRRQAUUUUAFFFFABRRRQAUUUUAFFFFABRRRQAUUUUAFFFFABRRRQAUUUUAFFFFABRRRQAUUUUAFFFFABRRRQAUUUUAFFFFABRRRQAUUUUAFFFFABRRRQAUUUUAFFFFABRRRQAUUUUAFFFFABRRRQAUUUUAFFFFABRRRQAUUUUAFFFFABRRRQAUUUUAFFFFABRRRQAUUUUAFFFFABRRRQAUUUUAFFFFABRRRQAUUUUAFFFFABRRRQAUUUUAFFFFABRRRQAUUUUAFFFFABRRRQAUUUUAFFFFABRRRQAUUUUAFFFFABRRRQAUUUUAFFFFABRRRQAUUUUAFFFFABRQRlSDnn0OK4jwXrUmnaFrljr95LNN4dupkmuLiQu7wY8yNyx5PyHv6VLklv2uaRpuUW15fj/X4nb0Vw3h7Utc074e22qzaffa3quqTNci0E2PKEpLqm5zhEVcD0HpzWh4Z8X3urazcaNr+gy6HqkEC3Iga5S4SSJmKhg68dR0p315XuVKjJKTWqXmvS9t7HU0V53b+FtH8O/GewuNHs/s8uo2F7NdN5rv5j+ZEc4YnHLHpjrXW32u/YvFWkaN9m3/2lFcSedvx5flBDjbjnO/1GMd6UZXWoTpJStB30v2/VmvRWLH4kj/4STVtMniEMWmWkV09yZMhlffn5ccY2dcnOa5tfiTqCpHql34Rvrfw3KV2ao9xGWCsQFkaD7yryDnPTmjmV7BGhUlsvy6q+nf0Wp31FeT/ABN1axtPHml2+u+KtY8P6XJp0km/S7iRC8okAGQitnjPOO3Wtzw3rek6V8N9V1vQNb1TxPa2gmuPN1SdzIWRATGGZAQvHoeSaiNRNNvpf8HY2eFkqcZr7W2mmvnsd5RXBR/Eq7aawu5/Ct9b6DfSxwJqcsyKQ8hAU+Sfn2En7xx9Ktat48vbTxRf+H9H8N3Or39tFFLGsU6xo4cEku7DbGBgAcknPTg1bml+Rn9XqXtbz3Xe35/cdnRXGQ/Ea2PhI6tdaZdRXwvTp39loVeVroHHlqeh6Zz6AmnaP431GXX7bSPFPhm40C4vg5s3N1HcRzFRkqWT7rY5wfejmTdhOhUSba29Om+nW3kdjRXDXPxB1OTWNV0rQPCd1q15ptz5T7LlYotmxW3GRxgMdxAQZPGeK6DQ/EcXiDwlFrljazESxO4tjjzN6kgp6Z3KRQpJq6FKjUgk5L8v6Rs0Vl+G9Vu9b8PWuoahpU+kXEykvZ3By8eCRzwOuM8gHnpWpVtWdjEKK4P4l+G5rrRdS1+18Sa/pk1hp8jx2+n35hhdkDMCygZJPQnI4AqrpHhiTSvh9f6rN4i17VZL7RGZ4dTvvPjjLRbiUGBg9up4qG7Rcu3/AAf8h295Lv8A8D/M9Goryzw18Rb2y8P+HfP8K30egyR21l/a0kyKfMICAiH72wt0bjPpXVeJPF95peqx6P4d0GfXtWaH7Q9uk6QJDFnaGeR+ASQcDvg1clZ2Ji7q51NFYfhbxL/wkdrci4sJtM1Cym8i8sp2DNC+0MMMOGUgggjrW5SGFFYmkeIjqPiLWdHubX7LcaY8ZX97v8+J1ysg4GOQwI5wR1rLi+IEB8Jz6/Np8vkNetaafDA3mSX3z7EKjAxuYHA54Gc0f1/X+QHX0Vx+ieNdTuNeg0nxT4Xn8P3F4rtZObuO5jn2DLKWT7rY5wewPNQ6n481Ntbu9N8IeFbnxAdPcR3s4u47aKJ8Z2Kz/fYAjIHTNAHbUV578SPE3iSw8AyXmh6DcKtxYPLc3TXiQS6acAjKcl2GT909q0/CPiDxRqLKniPwn/Y9mlqJFvm1SK48xhjgqoyMgk5PpR38v+D/AJfPoHbzOvorzqT4o6k1q+s2Hgu/u/DMe5m1RbmNXaNTgyLAfmZeMg5HHPFa3iH4gQaLcaGlpp1xqqa3FJJbfZOXYqqsoC46Nv5JICgZNAdbHX0Vyfhrxpd6rqGo6b4g0GbQtRsIVuWga4S4V4WyAwZOM5U5FU/Dnj3WPEV1a3EHg+5j0G8P7nU/t0Ltg9C8Kncoz15OKN3YOh3FFFVtQu2sdNuLqO2mu3hjLrBAAZJCB91Qe5oAs0VxGm+OtZ/4SGx0zxR4RuNDTUnaOzuPtsVwruqltrBOUOAfWnav4+vbPxVf+HtH8NXWsahbwwzRLDOsaOHDEl3YbYwMADklieBxQB2tFcbafEW2k8HzaxeaZdW95BeHT5NMUiSU3W4L5SkcNkkc8cU7RPGup3GvQaT4p8Lz+H7i8V2snN3Hcxz7BllLJ91sc4PYHmmB2FFFc/4q8VDw4tnb2unz6pqmoSNHZ2MDBWlKjLEs3CqB1Y9MikB0FFcdonju7ur+70vxF4bvNG1a3tWvI7RZUuRcxDg+W64DNnA2+4rzfXfEOm+M/G1yPE/grxnf6fa2cQt9LjsnRoXZnLSuiSDqAADnnB9KOodLnvNFUdEtrWz0Gwt9PtZLS1jt0WG3mzviXaMK2STkDg5Jqe9vINOsLi9vJBFb28bSyuf4VUZJ/IUStG4R961ieoLy+tNOtjcahdQ2sCkAyzyBFBJwBk8cnivJPF/i7XvEGj6Y7eD7iw0S41Oykh1G4vY95HnIVzAPmGfrXR/FO/mg0kQX/g1df0L5JbqdtRW38lg4C/Ljc3Y8euKNfxt+X3fMNPwud/RWVr2tDw7o321dL1HUgrKgttMt/Ol57hcjgV434Xk0Pxb4n/tPxJ4P8Vahqk2rSeRfvBKtvZqsuI0O2QBdmBuBBwQetC1lZf1/VxPSN2e80V438Q/F0esa/p3h+/8ADHix9MS6mF3Bb2TJ/aIRSFEZVwXTPzHpxg10mhanoPgzwDFcaF4Z1bTUvLsxW2kXSMtzNOxwBh2bAIXOc4AGaFqrjejsegUVyWgeMtRvNcTR/FHhufw/fXETzWoa6juY51TG4B06MMg4x0rOuPiNqk2qatpvh7whdavd6ZdtDLsulii2BVIYyOMbjk4QZPy5zyKAO+orjn+IltL4U0nVdL0y6vrzWCUs9OQqsjuAdwZjwoXact0qx4a8X3mqapNpHiHQZtB1aOD7Stu9wk6SxZ27lkTg4OARjjIo2bXYOlzqaK8ug+MN/c6EmvQeCr5tFi4vr03SL5PzYJjQjdKB6jHf0qb4n+J/FOl/2fHoOhySWMl5aldQj1FIjMzP/qChG4BuAW6c0dvN2/r+teg7Wv8A1/X6HpdFYPhjVvEGqx3B8SeGf7AaMqIV+3x3Xmg5yfkA24469c1vUCCivOvi/wCFNF1Lwvc69e2fm6lYRottP5rjywZV/hB2nqeoNdprmtWnh3QbjVNQ3+RboCVjXczkkBVUdySQB7mlfS7DrZGjRXFab461b+2bSz8UeErrQoNQl8myumu451d8FgrheYyQDgHPPFV7/wCIuq/8JDq2i+HvB91rF3pcqrK63SQxbDGrA72H3ssQEGScZz2pgd7RXIv8QbP/AIQGy8SwWNzM1+yQ21ioAkedm2CPJ4HzA8+gz7VmaX4+8U3PjC20DVfAh02SaBrgynVo5Nsa8bgAuG+YqMA5Gc0dbB0ueg0V5DZ+NPiC3j/U4h4IkmdbKAnTDrkIS3BZ/wB4GxtJbpgcjbWv4y1y503XvBGpXekXL30n2gHTbZllcSvCB5YbgEAnlumATR0uHWx6PRXLeE/F95rupX+la5oUuh6pYpHK9u9ws6tG+drB14P3Tkdq6mgAorjPiT9gt9JgvNc8V6r4c02N9kj6WSskrt93LKrMAMHgDBzzTPhZqF1qXhm5mk1eTV7EXkiafdXDq07QADHm4/iznrhsYyB0oWt/IHpY7aiiuX8U+FbjXrjz5PFmsaNZwxZEWmzLAAwyS7vgkjGOOgx70m7DR1FFcp8NNR1PVPAtpc6zO11N5kqR3TJtNxErkJIR/tKAffr3rq6p6EoKKKKQwooooAKKKKACiiigAooooAKKKKACiiigAooooAKKKKACiiigAooooAKKKKACiiigAooooAKKKKACiiigAooooAKKKKACiiigAooooAKKKKACiiigAooooAKKKKACiiigAooooAKKKKACiiigAooooAK838aeEda1HxY50SANpmu28Vpq8vmqhiWOUHdgkFi0ZZOM/hXpFFS4ptXNaVWVJ3j/AF/wz1OJ+JOgatrGiWEGiWpvrW3uA13piXhtTdxbSAnmdgDg4/wrE+HXgi+8O+MrrUz4bt9AsLjTxEttDqDXRWQSZO5mOckeny4HrXqNFJQSnz9f+BY0WJmqPsVt8+9+9vna55dfX/j+bxpZ61H8PcpZW89ssf8AbUH70SMh3Z7Y2dMHr7VveLrLxB/amgeItA0uK/u9OWZJ9Oe5WIssqqDtkPy5UqPrXZ0UlCytcbxCck1BKya66p/P8rHn+j+HfEOq6r4nuPFttb2cetadFbRrayiQQriVShPBLAMCTgA546Vw9p8MHsZILK/+FtvqZjKpLqVv4ieJJBnBk8tmyPXFe8UUezjdPsaQxtWDfL1ts2tlbo1+NzgvFFt4k03x9p+t+G/Dn9twxabJaPH9ujt9haRWHL8nhfTv1q7et4i8T/DjXbbUvD39k6lcW01vb2f22OfzMx4U7xhRkkjB9K7Cijk91xb0d/xdzJV7KNoq8ba69Pnb8Cno8Elrodjbzrslito0dcg4YKARxWLpWkX1t8Rtf1SaDbZ3ltaxwS71O9kD7hjORjI6iumorSXvS5mYRk4prv8A5p/ocz430TUtW0+wutCMJ1HSr1L2CKc4SYqGUoT2yGOD64rJsrTxT4o8UaVqPiXRYNBs9Id5o4FvVuZJ5WQoDlQAqgE8dc13lFTy63+fz/pGqrNQ5bLqr9bPddur6HNeFtJvdN1zxPcXsHlxX+pCe3bep3p5SLng8cg8HBroLlpktJmtUWScITGjtgM2OAT2GalooUbR5UZym5S5mZfhufWbrw9azeJ7OCy1RlPnwW770Q5OMHJ7Y7n61qUUVb1ZBj+LrC51TwXrNhYx+bc3NlNFEm4LuZkIAycAcnvUB027/wCFc/2X5X+mf2V9n8rcP9Z5W3bnOOvGc4rfoqWrxa7/APB/zGnZp9v+B/kcTq3h7U7n4Z6LpMFtuvbV9PM0XmKNvlSRmTknBwFPQ844zWB8Rvh5JrHi1Nfj8MweKIntVt5LF9RezkjZWJDq4IUghsEH0GO9eq0U5e87+d/0JiuVW8rHFfDPw9HoOk3gHhD/AIRWSacbrb+0/tvmgLw+7Jx1Ix7V2tFFNu4JWOJ8baFrUmqw6r4UhD3lzZy6ZdHzFTy435Sb5iM+W2TgZJDHApnjP4fxaz8PLLw/pcMMi6Y8MlvbzuyRzCMYKMy8jcpPI7mu5oqbaW/rv+dyr63/AK7fkeReBfBEemeMLW7l+Fw0AwByuojxAboI20j/AFe7nOSOema2EtvGXg3XNWTQPD1t4g0zVL172Nvt620ls743h9wO4ZGRj/61ei0VV2I5/wARaRqHiP4e32lT+RBqN7YGJwjExJKV5AOM7c98dKzvDF/4s1CNtJ8UeFE0m2S0Mf26LUo5llcYXAjA3LkEnk8YxXY0UrJ3v1/4P+YdvL+v0PKrax+Ien+Ff+EKt9B0+a3W3azi11r5VjEJBUMYMb9wX8M10EnhW6svEnggWERm0/Q7W4t55i6gqDCiIcE5OSvbOK7Wind3v/XX/NgR3HnfZpfsoQzbD5Ykzt3Y4zjtmvKbLw54mn8V2t1Z+D7fwnKl0kt7qNnq4aG7jB+dTboMNuGeWAIPevWqKS0lzA9VYKwPHGnatq3grUrHw7cm21GaMCKQOUP3gSoYfdJGRntmt+ik1dWGnZ3PEfDnw61K18Z6DrFv4Hg8PpaXTG7kbWmvJpAY2G7BO0DJHT5skds16PpekX1t8Stf1WaDbZXlpaxwS71O9k37hjORjcOorp6Kf9fhYm39fO5yXxJ8Iv4y8KCxgjhmmt7mO6jgndkjm25BRmXkZUkZHQ4rj/AvgiPTPGFrdy/C4aAYA5XUR4gN0EbaR/q93Ockc9M167RRH3XdDlqrBXIeM9J1ttW0fxD4Yt4L290oyo9jPKIhcRSKAwVzwrAqCM8dfoevooA4jw9p3iPWfGS+JvFWmQaKLWze0tLCO6Fw/wA7Bnd3UBf4QAB71qafpV7B8Rta1SWHbZ3VjaxQy7wdzIZCwxnIxuHUd66Oin2sHfz/AOB/kFZniXSDr/hbU9JEgjN7ayQBz0UspAP61p0VLV1ZjTs7nk9/p/xD1/Q9M0q+8P2NhDpt3aNNIl6srXgjkX5kHAjUAFiGJJwABWx8TG8WalptzoXh7wn/AGla3UKE3/8AaUUOxg+SvlvyeFHOe/tXoFFN6/fclKxj+GdR1rU9NeXxFoP9h3KylFt/tiXO9MDD7kGBySMe3vVPwPpV7o+i3cGow+TLJqV3Oq71bKPMzKeCeoIOOtdJRR1v/XT/ACDpY53W9KvLvxp4av7eHfbWLXJuH3AbN8W1eCcnJ9M1n/E3wc/jLw7bQQW8F3LZXa3S2lxK0aXAAKtGXXlSQxwfUCuyopNXKWjPJ/h94Mj0rxZHeSfDP/hG2hifZfjXzd8kY2+Xu7gnntXY+ENIvtL1TxPNfQeVHfas1xbnerb4zGg3cE45U8HBrp6Kq+t/K34p/oTb+vwOC+KPgh/Ftvpd1Bp0Gqvpsrs2nz3LwLcI6gECRSNrAhSCeODms74beEY9G125u2+Hf/CLSfZjGlz/AG39t83LDKbdxx0Bz7V6dRUrS/mN6pHnkHhfWE+AsvhxrPGqtYywi381PvlmIG7O3oR3rX8caFqeseELaHRkhfULG5t7uKGZ9qyNEwbYW7Zx1rrKKpu7v8/uD/g/iYPhfVvEOqx3B8S+Gf7BaMqIl+3x3PnA5yfkHy446+tb1FFIDz/4mN4s1LTbnQvD3hP+0rW6hQm//tKKHYwfJXy35PCjnPf2qXWNK1z4hfDjUdM13Q49BvpJF8i3lvVuEk2FXUs8eMAkFSByOtd3RStpYd9bnjHhXwClj4r0+a4+FCaYLeYP/acfiNpliZRkOIi2SMgcH1r0Pw3pV7p/iLxRdXcPlw39+k1s29T5iCCNCcA5HzKRzjpXSUU/6/L/ACJt/X3/AOZ454m0rUNN+EehaDdWy/2lPqwVbMXCxyyHzZJAI5RuVGxg7uwyOpxT/BEt14Y8b2tp4r0DVotT1dHt7XUtR1uPUZNqDeUwoUonGc464zXpuveHdI8T6d9g16wivbbduCSA/K3qCOQeTyDWb4c+HnhTwldNc+H9Ghtbhhjzmd5XA7gM5JH4UR0b/rpYctVp/Wpja7a+KtC8f3PiDw3oEOv21/YxW0sH25LaSJo2Yg5cYIIb6/11Luw1XVPEXhHVZtP+zfZUne+i89X+zNJCAFzxv+bjKj3rqqKForA9Xc5uz0q9i+JeqarJDiyn022gjl3r8zpJKWGM5GAy84xzXSUUUbK39dw63Od8T6z4l0ua3Xw34U/t5JFJlf8AtGO28o5GBhwd2eenpVXwToGoabeazrGsQW1ldaxOkzWFo++O3Cpt5bA3OeSxAxXWUULQHqFeb/EBfGeo69DYad4XbV/DaIHnij1KK2N2/wDcctk7B3UAbu5xxXpFFKwzE8LX+sX+mOde8Or4flify4rZbyO4DIAMMCgAHcY9q26KKpu5K0CiiikMKKKKACiiigAooooAKKKKACiiigAooooAKKKKACiiigAooooAKKKKACiiigAooooAKKKKACiiigAooooAKKKKACiiigAooooAKKKKACiiigAooooAKKKKACiiigAooooAKKKKACiiigAooooAKKKKACiiigAooooAKKKKACiiigAooooAKKKKACiiigAooooAKKKKACiiigAooooAKKKKACiiigAooooAKKKKACiiigAooooAKKKKACiiigAooooAKKKKACiiigAooooAKKKKACiiigAooooAKKKKACiiigAooooAKKKKACiiigAooooAKKKKACiiigAooooAKKKKACiiigAooooAKKKKACiiigAooooAKKKKACiiigAooooAKKKKACiiigAooooAKKKKACiiigAooooAKKKKACiiigAooooAKKKKACiiigAooooAKKKKACiiigAooooAKKKKACiiigAooooAKKKKACiiigAooooAKKKKACiiigApCaDUb0AOL0nmVXY03JoAteZR5lVc0ZoAteZR5lVc0ZoAteZR5lVc0ZoAteZR5lVc0ZoAteZR5lVc0ZoAteZR5lVc0ZoAteZR5lVc0ZoAteZR5lVc0ZoAteZR5lVc0ZoAteZR5lVc0ZoAteZR5lVc0ZoAteZR5lVc0ZoAteZR5lVc0ZoAteZSh6qZNOU0AWwaWokqQUALRRRQAUUUUAFFFFABRRRQAUUUUAFFFFABRRRQAUUUUAFFFFABRRRQAUUUUAFFFFABRRRQAUUUUAFFFFABRRRQAUUUUAFFFFABRRRQAUUUUAFFFFABRRRQAUUUUAFFFFABRRRQAUUUUAFFFFABRRRQAUUUUAFFFFABRRRQAUUUUAFFFFABRRRQAUUUUAFFFFABRRRQAUUUUAFFFFABRRRQAUUUUAFFFFABRRRQAUUUUAFFFFABRRRQAUUUUAFFFFABRRRQAUUUUAf/2Q==)"
      ],
      "metadata": {
        "id": "KTxxA3qRAJ1t"
      }
    },
    {
      "cell_type": "markdown",
      "source": [
        "<hr>"
      ],
      "metadata": {
        "id": "QIf_7dXJwSKd"
      }
    },
    {
      "cell_type": "markdown",
      "source": [
        "<h2 dir = rtl>\n",
        "תרגיל 9\n",
        "</h2>\n",
        "<p dir = rtl>\n",
        "כתבו את הפעולה:\n",
        "</p>\n",
        "<code> get_shape(M)</code>\n",
        "<p dir = rtl>\n",
        "הפעולה מקבלת מטריצה ומחזירה את ממדיה ארוזים ב <code>tuple</code>. המספר הראשון יהיה מספר השורות במטריצה והמספר השני יהיה מספר העמודות במטריצה\n",
        "</p>"
      ],
      "metadata": {
        "id": "8hFTW-vnA3ZZ"
      }
    },
    {
      "cell_type": "code",
      "source": [
        "# Add your code here"
      ],
      "metadata": {
        "id": "B88AVtWcA9ln"
      },
      "execution_count": null,
      "outputs": []
    },
    {
      "cell_type": "markdown",
      "source": [
        "<p dir = rtl>\n",
        "הריצו את התא הבא ובידקו את המימוש ביחס לתוצאות המצופות\n",
        "</p>"
      ],
      "metadata": {
        "id": "D01hNyCEBThz"
      }
    },
    {
      "cell_type": "code",
      "source": [
        "m = [[2.3 , -21.4 , 12.9] , [-144.7 , 41.33 , 88.8] , [101.101 , 0 , 34.12] , [6.2 , -44.09 , -1008.9]]\n",
        "print(get_shape(m))"
      ],
      "metadata": {
        "id": "mHpYtzhYBVuK"
      },
      "execution_count": null,
      "outputs": []
    },
    {
      "cell_type": "markdown",
      "source": [
        "<p>\n",
        "Expected results:\n",
        "</p>\n",
        "<code>\n",
        "(4, 3)\n",
        "</code>"
      ],
      "metadata": {
        "id": "6806lVHGBpuI"
      }
    },
    {
      "cell_type": "markdown",
      "source": [
        "<hr>"
      ],
      "metadata": {
        "id": "ikH5KsY5ByvN"
      }
    },
    {
      "cell_type": "markdown",
      "source": [
        "<h2 dir = rtl>\n",
        "תרגיל 10\n",
        "</h2>\n",
        "<p dir = rtl>\n",
        "כיתבו את הפעולה:\n",
        "</p>\n",
        "</p>\n",
        "<code align = \"center\">\n",
        "matrix_add(M , x)\n",
        "</code>\n",
        "<p dir = rtl>\n",
        "הפעולה תחזיר הפנייה למטריצה חדשה שבה נוסף הערך x לכל איברי המטריצה שהתקבלה כפרמטר M\n",
        "<br><br>\n",
        "<b>הדרכה:</b><br> יש להשתמש בפעולת append כפי שהודגם למעלה. אבל הפעם בצורה מקוננת, כלומר לולאה בתוך לולאה\n",
        "<br>\n",
        "השתמשו בפעולה get_shape שכתבתם בתרגיל הקודם\n",
        "</p>"
      ],
      "metadata": {
        "id": "-KBBk1bq_oYk"
      }
    },
    {
      "cell_type": "code",
      "source": [
        "# Add your code here"
      ],
      "metadata": {
        "id": "bHBQQozKYlzS"
      },
      "execution_count": null,
      "outputs": []
    },
    {
      "cell_type": "markdown",
      "source": [
        "<p dir = rtl>\n",
        "הריצו את התא הבא ובידקו את המימוש ביחס לתוצאות המצופות\n",
        "</p>"
      ],
      "metadata": {
        "id": "p1IO5bGYDTqB"
      }
    },
    {
      "cell_type": "code",
      "source": [
        "m = [[2.3 , -21.4 , 12.9] , [-144.7 , 41.33 , 88.8] , [101.101 , 0 , 34.12] , [6.2 , -44.09 , -1008.9]]\n",
        "print(f'm before:\\n\\n {matrix_to_str(m)}\\n\\n')\n",
        "m1 = matrix_add(m , 2.4)\n",
        "print(f'new matrix after adding 2.4: \\n\\n {matrix_to_str(m1)}\\n\\n')\n",
        "print(f'original matrix: \\n\\n {matrix_to_str(m)}\\n\\n')"
      ],
      "metadata": {
        "id": "HGp0YBIl-ZkV"
      },
      "execution_count": null,
      "outputs": []
    },
    {
      "cell_type": "markdown",
      "source": [
        "<p>\n",
        "Expected results:\n",
        "</p>\n",
        "<code>\n",
        "m before: <br><br>\n",
        "</code>\n",
        "<code>\n",
        " [[    2.3     -21.4      12.9  ]<br>\n",
        " [ -144.7      41.33     88.8  ]<br>\n",
        " [  101.101     0.       34.12 ]<br>\n",
        " [    6.2     -44.09  -1008.9  ]]<br><br><br>\n",
        "</code>\n",
        "\n",
        "<code>\n",
        "new matrix after adding 2.4: <br><br>\n",
        "</code>\n",
        "<code>\n",
        " [[    4.7     -19.       15.3  ]<br>\n",
        " [ -142.3      43.73     91.2  ]<br>\n",
        " [  103.501     2.4      36.52 ]<br>\n",
        " [    8.6     -41.69  -1006.5  ]]<br><br><br>\n",
        "</code>\n",
        "\n",
        "<code>\n",
        "original matrix: <br><br>\n",
        "</code>\n",
        "\n",
        "<code>\n",
        " [[    2.3     -21.4      12.9  ]<br>\n",
        " [ -144.7      41.33     88.8  ]<br>\n",
        " [  101.101     0.       34.12 ]<br>\n",
        " [    6.2     -44.09  -1008.9  ]]<br>\n",
        "</code>"
      ],
      "metadata": {
        "id": "nu2a2xJe2kx5"
      }
    },
    {
      "cell_type": "markdown",
      "source": [
        "<hr>"
      ],
      "metadata": {
        "id": "HEqQVDmqw0X2"
      }
    },
    {
      "cell_type": "markdown",
      "source": [
        "<hr>\n",
        "<h2 dir = rtl>\n",
        "תרגיל 11 - כפל מטריצות\n",
        "</h2>\n",
        "<center>\n",
        "<img src=\"https://github.com/Oran-Uzrad/DataFiles/raw/master/DLMath/matrix_mul_1.JPG\" alt=\"derivative rules\" width=\"600\" height=\"425\">\n",
        "</center>\n",
        "<br><br>\n",
        "<p dir = rtl>\n",
        "לאחר שהבנו איך מתבצעת מכלפה פנימית בין שני וקטורים, אפשר להמשיך לכפל מטריצות\n",
        "<br>\n",
        "בכפל מטריצות יש סדר. כלומר אם $A$ ו- $B$ הן מטריצות אז $AB$ זה לא כמו $BA$\n",
        "<br>\n",
        "יש לנו גם כללים ברורים לגבי גדלי המטריצות. מספר השורות במטריצה הימנית בכפל חייב להיות זהה למספר העמודות במטריצה השמאלית בכפל\n",
        "<br>\n",
        "התוצאה של כפל מטריצות היא מטריצה בעצמה. מספר השורות במטריצת התוצאה הוא כמספר השורות במטריצה השמאלית בכפל. מספר העמודות במטריצת התוצאה הוא כמספר העמודות במטריצה הימנית בכפל\n",
        "<br>\n",
        "האיבר במקום ה $i,j$ במטריצת התוצאה הוא המכפלה הפנימית בין וקטור השורה $i$ במטריצה השמאלית, לבין וקטור העמודה $j$ במטריצה הימנית\n",
        "<br><br>\n",
        "עכשיו אפשר לממש. כתבו את הפעולה הבאה:\n",
        "</p>\n",
        "<code>\n",
        "dot_matrix(M1 , M2)\n",
        "</code>\n",
        "<p dir = rtl>\n",
        "הפעולה מקבלת שתי מטריצות כפרמטרים ומחזירה מטריצה שהיא המכפלה של שתי המטריצות.\n",
        "<br>\n",
        "יש לבדוק האם גדלי המטריצות מאפשרים כפל ולהוציא הודעת שגיאה אם לא\n",
        "<br>\n",
        "<b>הדרכה:</b>\n",
        "השתמשו בפעולות get_shape, get_row, get_col ו- inner_product שמימשתם למעלה\n",
        "</p>\n"
      ],
      "metadata": {
        "id": "YfdP-QvKw38T"
      }
    },
    {
      "cell_type": "code",
      "source": [
        "# Add your code here"
      ],
      "metadata": {
        "id": "FZS-rTJr-ZhD"
      },
      "execution_count": null,
      "outputs": []
    },
    {
      "cell_type": "markdown",
      "source": [
        "<p dir = rtl>\n",
        "הריצו את התא הבא ובידקו את המימוש ביחס לתוצאות המצופות\n",
        "</p>"
      ],
      "metadata": {
        "id": "1pBlakBwzBNE"
      }
    },
    {
      "cell_type": "code",
      "source": [
        "M1 = [[1 , 3 , 12 , -2 , 4] , [10 , -3 , 4 , -9 , 2] , [0 , 7 , -8 , 14 , 5]]\n",
        "M2 = [[1 , 3 , 12] , [4 , -9 , 2] , [7 , -8 , 14] , [10 , -3 , 4] , [3 , 12 , -2]]\n",
        "M3 = dot_matrix(M1 , M2)\n",
        "print(f'result: \\n\\n {matrix_to_str(M3)}\\n\\n')"
      ],
      "metadata": {
        "id": "2h8kS57a-Zdq"
      },
      "execution_count": null,
      "outputs": []
    },
    {
      "cell_type": "markdown",
      "source": [
        "<p>\n",
        "Expected results:\n",
        "</p>\n",
        "<code>\n",
        "[[ 89 -66 170]<br>\n",
        " [-58  76 130]<br>\n",
        " [127  19 -52]]<br>\n",
        "</code>"
      ],
      "metadata": {
        "id": "xHfGBvhn4fnl"
      }
    },
    {
      "cell_type": "markdown",
      "source": [
        "<hr>"
      ],
      "metadata": {
        "id": "lacUd0-34p83"
      }
    },
    {
      "cell_type": "markdown",
      "source": [
        "<h1 dir = rtl>\n",
        "סיכום\n",
        "</h1>\n",
        "<p dir = rtl>\n",
        "נהדר שסיימתם את המשימה הזו! נסכם מה למדנו\n",
        "</p>\n",
        "<ul dir = rtl>\n",
        "<li>\n",
        "אנחנו יודעים להשתמש בסביבת העבודה Jupyter Notebook תחת Google Colab. אנחנו יודעים גם איך ליצור עותקים ממחברות קיימות, לעדכן אותן ולהגיש\n",
        "</li>\n",
        "<li>\n",
        "תרגלנו פייתון, כתבנו פונקציות, התעסקנו עם רשימות ורשימות דו ממדיות\n",
        "</li>\n",
        "<li>\n",
        "כתבנו קוד שממש פונקציות מתמטיות. נשתמש בזה הרבה במהלך השנה\n",
        "</li>\n",
        "<li>\n",
        "כתבנו קוד שמעבד וקטורים ומטריצות. גם בזה נשתמש במהלך השנה. נראה שקיימת אפשרות לממש את הקוד הזה בצורה יעילה יותר\n",
        "</li>\n",
        "<li>\n",
        "מעולה!\n",
        "</li>\n",
        "</ul>"
      ],
      "metadata": {
        "id": "x7c9cwEy4u-P"
      }
    },
    {
      "cell_type": "markdown",
      "source": [
        "<p dir = rtl>\n",
        "פותח ע\"י - אורן עוזרד\n",
        "</p>"
      ],
      "metadata": {
        "id": "21xvJDcX4VU3"
      }
    }
  ]
}